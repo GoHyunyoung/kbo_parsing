{
 "cells": [
  {
   "cell_type": "code",
   "execution_count": 3,
   "metadata": {
    "collapsed": false
   },
   "outputs": [],
   "source": [
    "class getInitialTeamName:\n",
    "    # 이니셜이름을 반환해주는 메서드\n",
    "    @staticmethod\n",
    "    def get(teamName):\n",
    "        if teamName==u'삼성':\n",
    "            initialName=u'SS'\n",
    "        elif teamName==u'SS':\n",
    "            initialName=u'삼성'\n",
    "\n",
    "        elif teamName==u'한화':\n",
    "            initialName=u'HH'\n",
    "        elif teamName==u'HH':\n",
    "            initialName=u'한화'\n",
    "\n",
    "        elif teamName==u'SK':\n",
    "            initialName=u'SK'\n",
    "            \n",
    "        elif teamName==u'KIA':\n",
    "            initialName=u'HT'\n",
    "        elif teamName==u'HT':\n",
    "            initialName=u'KIA'\n",
    "            \n",
    "        elif teamName==u'LG':\n",
    "            initialName=u'LG'\n",
    "            \n",
    "        elif teamName==u'두산':\n",
    "            initialName=u'OB'\n",
    "        elif teamName==u'OB':\n",
    "            initialName=u'두산'\n",
    "            \n",
    "        elif teamName==u'롯데':\n",
    "            initialName=u'LT'\n",
    "        elif teamName==u'LT':\n",
    "            initialName=u'롯데'\n",
    "            \n",
    "        elif teamName==u'넥센':\n",
    "            initialName=u'WO'\n",
    "        elif teamName==u'WO':\n",
    "            initialName=u'넥센'\n",
    "            \n",
    "        elif teamName==u'kt':\n",
    "            initialName=u'KT'\n",
    "        elif teamName==u'KT':\n",
    "            initialName=u'kt'\n",
    "            \n",
    "        elif teamName==u'NC':\n",
    "            initialName=u'NC'\n",
    "            \n",
    "        else:\n",
    "            initialName=None\n",
    "\n",
    "        return initialName"
   ]
  }
 ],
 "metadata": {
  "kernelspec": {
   "display_name": "Python 2",
   "language": "python",
   "name": "python2"
  },
  "language_info": {
   "codemirror_mode": {
    "name": "ipython",
    "version": 2
   },
   "file_extension": ".py",
   "mimetype": "text/x-python",
   "name": "python",
   "nbconvert_exporter": "python",
   "pygments_lexer": "ipython2",
   "version": "2.7.10"
  }
 },
 "nbformat": 4,
 "nbformat_minor": 0
}
