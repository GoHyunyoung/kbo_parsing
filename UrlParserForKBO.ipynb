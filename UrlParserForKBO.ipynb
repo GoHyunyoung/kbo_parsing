{
 "cells": [
  {
   "cell_type": "code",
   "execution_count": 1,
   "metadata": {
    "collapsed": false
   },
   "outputs": [],
   "source": [
    "#-*- coding: utf-8 -*- \n",
    "from bs4 import BeautifulSoup\n",
    "import datetime\n",
    "import time\n",
    "import urllib2"
   ]
  },
  {
   "cell_type": "code",
   "execution_count": 2,
   "metadata": {
    "collapsed": false,
    "scrolled": true
   },
   "outputs": [],
   "source": [
    "class UrlParserForKBO:\n",
    "#     초기화때 날짜를 입력(박스스코어 확인 날짜)\n",
    "    def __init__(self,startDate,endDate):\n",
    "#       박스스코어의 url을 담는 리스트\n",
    "        self.urlList=[]\n",
    "    \n",
    "        today=datetime.date.today()\n",
    "        date=str(startDate)\n",
    "        yy=int(date[:4])\n",
    "        mm=int(date[4:6])\n",
    "        dd=int(date[6:])\n",
    "        date=datetime.date(yy,mm,dd)\n",
    "        \n",
    "#         startDate로 이동\n",
    "        backCount=(today-date).days\n",
    "    \n",
    "    # 크롬창 \n",
    "        if os.name=='nt':\n",
    "            browser = webdriver.Chrome(executable_path='./chromedriver.exe')\n",
    "        else:\n",
    "            browser = webdriver.Chrome(executable_path='./chromedriver')\n",
    "            # 접속        \n",
    "        browser.get('http://www.koreabaseball.com/Schedule/ScoreBoard/ScoreBoard.aspx')\n",
    "        \n",
    "        for i in range(backCount):\n",
    "#             이전일 버튼\n",
    "            browser.find_element_by_id('cphContainer_cphContents_btnPreDate').click()\n",
    "            time.sleep(0.7)\n",
    "        \n",
    "        endYY=int(endDate[:4])\n",
    "        endMM=int(endDate[4:6])\n",
    "        endDD=int(endDate[6:])\n",
    "        endDate=datetime.date(endYY,endMM,endDD)\n",
    "        \n",
    "        backCount=(date-endDate).days\n",
    "\n",
    "        # backCount일 전의 경기들의 BoxScore 갯수 btnList에 저장\n",
    "        for i in range(backCount+1):\n",
    "        #     이전일 버튼            \n",
    "            btnList = browser.find_elements_by_css_selector('a[href^=\"/Schedule/Game/BoxScore.aspx?\"]')\n",
    "            for href_in_btnList in btnList:\n",
    "                self.urlList.append(href_in_btnList.get_attribute('href'))\n",
    "            browser.find_element_by_id('cphContainer_cphContents_btnPreDate').click()\n",
    "            time.sleep(0.7)\n",
    "        browser.quit()"
   ]
  },
  {
   "cell_type": "code",
   "execution_count": 3,
   "metadata": {
    "collapsed": false
   },
   "outputs": [
    {
     "ename": "NameError",
     "evalue": "global name 'startDate' is not defined",
     "output_type": "error",
     "traceback": [
      "\u001b[1;31m---------------------------------------------------------------------------\u001b[0m",
      "\u001b[1;31mNameError\u001b[0m                                 Traceback (most recent call last)",
      "\u001b[1;32m<ipython-input-3-a995a4bd99e8>\u001b[0m in \u001b[0;36m<module>\u001b[1;34m()\u001b[0m\n\u001b[1;32m----> 1\u001b[1;33m \u001b[0mUrlParserForKBO\u001b[0m\u001b[1;33m(\u001b[0m\u001b[1;34m'20160820'\u001b[0m\u001b[1;33m)\u001b[0m\u001b[1;33m\u001b[0m\u001b[0m\n\u001b[0m",
      "\u001b[1;32m<ipython-input-2-0284299d41e9>\u001b[0m in \u001b[0;36m__init__\u001b[1;34m(self, date)\u001b[0m\n\u001b[0;32m      6\u001b[0m \u001b[1;33m\u001b[0m\u001b[0m\n\u001b[0;32m      7\u001b[0m         \u001b[0mtoday\u001b[0m\u001b[1;33m=\u001b[0m\u001b[0mdatetime\u001b[0m\u001b[1;33m.\u001b[0m\u001b[0mdate\u001b[0m\u001b[1;33m.\u001b[0m\u001b[0mtoday\u001b[0m\u001b[1;33m(\u001b[0m\u001b[1;33m)\u001b[0m\u001b[1;33m\u001b[0m\u001b[0m\n\u001b[1;32m----> 8\u001b[1;33m         \u001b[0mdate\u001b[0m\u001b[1;33m=\u001b[0m\u001b[0mstr\u001b[0m\u001b[1;33m(\u001b[0m\u001b[0mstartDate\u001b[0m\u001b[1;33m)\u001b[0m\u001b[1;33m\u001b[0m\u001b[0m\n\u001b[0m\u001b[0;32m      9\u001b[0m         \u001b[0myy\u001b[0m\u001b[1;33m=\u001b[0m\u001b[0mint\u001b[0m\u001b[1;33m(\u001b[0m\u001b[0mdate\u001b[0m\u001b[1;33m[\u001b[0m\u001b[1;33m:\u001b[0m\u001b[1;36m4\u001b[0m\u001b[1;33m]\u001b[0m\u001b[1;33m)\u001b[0m\u001b[1;33m\u001b[0m\u001b[0m\n\u001b[0;32m     10\u001b[0m         \u001b[0mmm\u001b[0m\u001b[1;33m=\u001b[0m\u001b[0mint\u001b[0m\u001b[1;33m(\u001b[0m\u001b[0mdate\u001b[0m\u001b[1;33m[\u001b[0m\u001b[1;36m4\u001b[0m\u001b[1;33m:\u001b[0m\u001b[1;36m6\u001b[0m\u001b[1;33m]\u001b[0m\u001b[1;33m)\u001b[0m\u001b[1;33m\u001b[0m\u001b[0m\n",
      "\u001b[1;31mNameError\u001b[0m: global name 'startDate' is not defined"
     ]
    }
   ],
   "source": [
    "UrlParserForKBO('20160820')"
   ]
  },
  {
   "cell_type": "code",
   "execution_count": null,
   "metadata": {
    "collapsed": true
   },
   "outputs": [],
   "source": []
  }
 ],
 "metadata": {
  "kernelspec": {
   "display_name": "Python 2",
   "language": "python",
   "name": "python2"
  },
  "language_info": {
   "codemirror_mode": {
    "name": "ipython",
    "version": 2
   },
   "file_extension": ".py",
   "mimetype": "text/x-python",
   "name": "python",
   "nbconvert_exporter": "python",
   "pygments_lexer": "ipython2",
   "version": "2.7.10"
  }
 },
 "nbformat": 4,
 "nbformat_minor": 0
}
