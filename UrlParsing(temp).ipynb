{
 "cells": [
  {
   "cell_type": "code",
   "execution_count": 2,
   "metadata": {
    "collapsed": false
   },
   "outputs": [],
   "source": [
    "from bs4 import BeautifulSoup\n",
    "from pandas import DataFrame\n",
    "import urllib2\n",
    "import numpy as np\n",
    "import pandas as pd\n",
    "#http://www.koreabaseball.com/Schedule/Game/BoxScore.aspx?leagueId=1&seriesId=1&gameId=20160324WOLG0&gyear=2016 "
   ]
  },
  {
   "cell_type": "code",
   "execution_count": 3,
   "metadata": {
    "collapsed": false
   },
   "outputs": [],
   "source": [
    "class Gamescheduler:\n",
    "    def __init__(date):\n",
    "        self.gameId = '&gameId='+getGameId(date[4:])+getHA(date)\n",
    "        self.gyear = '&gyear='+getGyear(date[:4])\n",
    "        self.base = 'http://www.koreabaseball.com/Schedule/Game/BoxScore.aspx?'\n",
    "        self.leagueId = '&leagueId'+1\n",
    "        self.seriesId = '&serieId='+getSeriesId(date)\n",
    "        self.url = self.base+self.leagueId+self.seriesId+self.gameId+self.gyear\n",
    "        \n",
    "    def getSeriesId(date):\n",
    "        month=date[4:6]\n",
    "        #시범경기와 정규시즌등의 경기에 따른 분류\n",
    "        if month == 3:\n",
    "            return 1\n",
    "        return 0\n",
    "    \n",
    "    def getGameId(date):\n",
    "    def getUrl():\n",
    "        return self.url\n",
    "    \n",
    "    def getHA(date):\n",
    "        df = pd.read_csv('/Users/GoHyunyoung98/Desktop/2016Schedule.csv')\n",
    "        hteam = pd.DataFrame[1]\n",
    "        return self\n",
    "    \n",
    "    def getGames(url):  \n",
    "        data=urllib2.urlopen(url)"
   ]
  },
  {
   "cell_type": "code",
   "execution_count": 5,
   "metadata": {
    "collapsed": false,
    "scrolled": true
   },
   "outputs": [
    {
     "data": {
      "text/html": [
       "<div>\n",
       "<table border=\"1\" class=\"dataframe\">\n",
       "  <thead>\n",
       "    <tr style=\"text-align: right;\">\n",
       "      <th></th>\n",
       "      <th>0</th>\n",
       "      <th>1</th>\n",
       "      <th>2</th>\n",
       "    </tr>\n",
       "  </thead>\n",
       "  <tbody>\n",
       "    <tr>\n",
       "      <th>0</th>\n",
       "      <td>1</td>\n",
       "      <td>2</td>\n",
       "      <td>3</td>\n",
       "    </tr>\n",
       "    <tr>\n",
       "      <th>1</th>\n",
       "      <td>4</td>\n",
       "      <td>5</td>\n",
       "      <td>6</td>\n",
       "    </tr>\n",
       "    <tr>\n",
       "      <th>2</th>\n",
       "      <td>7</td>\n",
       "      <td>8</td>\n",
       "      <td>9</td>\n",
       "    </tr>\n",
       "  </tbody>\n",
       "</table>\n",
       "</div>"
      ],
      "text/plain": [
       "   0  1  2\n",
       "0  1  2  3\n",
       "1  4  5  6\n",
       "2  7  8  9"
      ]
     },
     "execution_count": 5,
     "metadata": {},
     "output_type": "execute_result"
    }
   ],
   "source": [
    "DataFrame(np.array([[1,2,3],[4,5,6],[7,8,9]]))"
   ]
  },
  {
   "cell_type": "code",
   "execution_count": null,
   "metadata": {
    "collapsed": true
   },
   "outputs": [],
   "source": []
  }
 ],
 "metadata": {
  "kernelspec": {
   "display_name": "Python 2",
   "language": "python",
   "name": "python2"
  },
  "language_info": {
   "codemirror_mode": {
    "name": "ipython",
    "version": 2
   },
   "file_extension": ".py",
   "mimetype": "text/x-python",
   "name": "python",
   "nbconvert_exporter": "python",
   "pygments_lexer": "ipython2",
   "version": "2.7.10"
  }
 },
 "nbformat": 4,
 "nbformat_minor": 0
}
