{
 "cells": [
  {
   "cell_type": "code",
   "execution_count": 1,
   "metadata": {
    "collapsed": true
   },
   "outputs": [],
   "source": [
    "# -*- coding: utf-8 -*-\n",
    "from BoxScoreParser import BoxScoreParser\n",
    "from UrlParser import UrlParser"
   ]
  },
  {
   "cell_type": "code",
   "execution_count": 2,
   "metadata": {
    "collapsed": false
   },
   "outputs": [
    {
     "name": "stderr",
     "output_type": "stream",
     "text": [
      "/home/gohyunyoung98/Enthought/Canopy_64bit/User/lib/python2.7/site-packages/bs4/__init__.py:166: UserWarning: No parser was explicitly specified, so I'm using the best available HTML parser for this system (\"lxml\"). This usually isn't a problem, but if you run this code on another system, or in a different virtual environment, it may use a different parser and behave differently.\n",
      "\n",
      "To get rid of this warning, change this:\n",
      "\n",
      " BeautifulSoup([your markup])\n",
      "\n",
      "to this:\n",
      "\n",
      " BeautifulSoup([your markup], \"lxml\")\n",
      "\n",
      "  markup_type=markup_type))\n"
     ]
    },
    {
     "name": "stdout",
     "output_type": "stream",
     "text": [
      "NC 3 vs 넥센 5\n",
      "KIA 3 vs 두산 4\n",
      "롯데 3 vs SK 7\n",
      "LG 9 vs kt 7\n",
      "한화 4 vs 삼성 5\n"
     ]
    }
   ],
   "source": [
    "date=20160517\n",
    "urlParser = UrlParser(date)\n",
    "for url in urlParser.urlList:\n",
    "    bxsParser = BoxScoreParser(url)\n",
    "    sen=u'at ascore vs ht hscore'\n",
    "    sen=sen.replace('at',bxsParser.a_team)\n",
    "    sen=sen.replace('ht',bxsParser.h_team)\n",
    "    sen=sen.replace('hscore',str(bxsParser.h_score[12]))\n",
    "    sen=sen.replace('ascore',str(bxsParser.a_score[12]))\n",
    "    print sen"
   ]
  }
 ],
 "metadata": {
  "kernelspec": {
   "display_name": "Python 2",
   "language": "python",
   "name": "python2"
  },
  "language_info": {
   "codemirror_mode": {
    "name": "ipython",
    "version": 2
   },
   "file_extension": ".py",
   "mimetype": "text/x-python",
   "name": "python",
   "nbconvert_exporter": "python",
   "pygments_lexer": "ipython2",
   "version": "2.7.11"
  }
 },
 "nbformat": 4,
 "nbformat_minor": 0
}
