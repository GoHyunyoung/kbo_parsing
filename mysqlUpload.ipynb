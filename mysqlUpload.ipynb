{
 "cells": [
  {
   "cell_type": "code",
   "execution_count": 1,
   "metadata": {
    "collapsed": false
   },
   "outputs": [],
   "source": [
    "# -*- coding: utf-8 -*-\n",
    "import pandas as pd\n",
    "import numpy as np\n",
    "import MySQLdb\n",
    "\n",
    "from BoxScoreParser import BoxScoreParser\n",
    "from UrlParser import UrlParser\n",
    "from sklearn import tree\n",
    "from sklearn.externals.six import StringIO"
   ]
  },
  {
   "cell_type": "code",
   "execution_count": 2,
   "metadata": {
    "collapsed": false
   },
   "outputs": [
    {
     "data": {
      "text/plain": [
       "array([1, 1, 1, ..., 1, 3, 3])"
      ]
     },
     "execution_count": 2,
     "metadata": {},
     "output_type": "execute_result"
    }
   ],
   "source": [
    "# MySQL conf\n",
    "con=MySQLdb.connect(host='link10th.cjwmbrma7nnv.ap-northeast-2.rds.amazonaws.com',user='link10th',passwd='link1234',db='link10th',charset='utf8', use_unicode=True)\n",
    "\n",
    "# DecisionTree \n",
    "path = './ScoreCase/DecisionTree_sample.csv'\n",
    "df = pd.read_csv(path,index_col=None,header=None,\n",
    "                 names=['1H','2H','3H','4H','5H','6H','7H','8H','9H','10H','11H','12H','sum',\n",
    "                        'context'])\n",
    "score = np.array(df.reindex(columns=['1H','2H','3H','4H','5H','6H','7H','8H','9H','10H','11H','12H','sum']))\n",
    "context = np.array(df.get('context'))\n",
    "context_sen = [' ',\n",
    "               '승리하였다.',\n",
    "               '접전끝에 승리를 하였다.',\n",
    "               '역전에 성공했다.',\n",
    "               '완승을 하였다.',\n",
    "               '무승부로 끝이났다.',\n",
    "               '영봉승을 하였다.']\n",
    "\n",
    "clf = tree.DecisionTreeClassifier(criterion='entropy')\n",
    "clf = clf.fit(score,context)\n",
    "clf.predict(np.array(score))"
   ]
  },
  {
   "cell_type": "code",
   "execution_count": 18,
   "metadata": {
    "collapsed": false,
    "scrolled": true
   },
   "outputs": [
    {
     "name": "stderr",
     "output_type": "stream",
     "text": [
      "/home/gohyunyoung98/Enthought/Canopy_64bit/User/lib/python2.7/site-packages/sklearn/utils/validation.py:386: DeprecationWarning: Passing 1d arrays as data is deprecated in 0.17 and willraise ValueError in 0.19. Reshape your data either using X.reshape(-1, 1) if your data has a single feature or X.reshape(1, -1) if it contains a single sample.\n",
      "  DeprecationWarning)\n",
      "/home/gohyunyoung98/Enthought/Canopy_64bit/User/lib/python2.7/site-packages/ipykernel/__main__.py:32: DeprecationWarning: converting an array with ndim > 0 to an index will result in an error in the future\n",
      "/home/gohyunyoung98/Enthought/Canopy_64bit/User/lib/python2.7/site-packages/sklearn/utils/validation.py:386: DeprecationWarning: Passing 1d arrays as data is deprecated in 0.17 and willraise ValueError in 0.19. Reshape your data either using X.reshape(-1, 1) if your data has a single feature or X.reshape(1, -1) if it contains a single sample.\n",
      "  DeprecationWarning)\n",
      "/home/gohyunyoung98/Enthought/Canopy_64bit/User/lib/python2.7/site-packages/sklearn/utils/validation.py:386: DeprecationWarning: Passing 1d arrays as data is deprecated in 0.17 and willraise ValueError in 0.19. Reshape your data either using X.reshape(-1, 1) if your data has a single feature or X.reshape(1, -1) if it contains a single sample.\n",
      "  DeprecationWarning)\n",
      "/home/gohyunyoung98/Enthought/Canopy_64bit/User/lib/python2.7/site-packages/sklearn/utils/validation.py:386: DeprecationWarning: Passing 1d arrays as data is deprecated in 0.17 and willraise ValueError in 0.19. Reshape your data either using X.reshape(-1, 1) if your data has a single feature or X.reshape(1, -1) if it contains a single sample.\n",
      "  DeprecationWarning)\n",
      "/home/gohyunyoung98/Enthought/Canopy_64bit/User/lib/python2.7/site-packages/sklearn/utils/validation.py:386: DeprecationWarning: Passing 1d arrays as data is deprecated in 0.17 and willraise ValueError in 0.19. Reshape your data either using X.reshape(-1, 1) if your data has a single feature or X.reshape(1, -1) if it contains a single sample.\n",
      "  DeprecationWarning)\n",
      "/home/gohyunyoung98/Enthought/Canopy_64bit/User/lib/python2.7/site-packages/sklearn/utils/validation.py:386: DeprecationWarning: Passing 1d arrays as data is deprecated in 0.17 and willraise ValueError in 0.19. Reshape your data either using X.reshape(-1, 1) if your data has a single feature or X.reshape(1, -1) if it contains a single sample.\n",
      "  DeprecationWarning)\n",
      "/home/gohyunyoung98/Enthought/Canopy_64bit/User/lib/python2.7/site-packages/sklearn/utils/validation.py:386: DeprecationWarning: Passing 1d arrays as data is deprecated in 0.17 and willraise ValueError in 0.19. Reshape your data either using X.reshape(-1, 1) if your data has a single feature or X.reshape(1, -1) if it contains a single sample.\n",
      "  DeprecationWarning)\n",
      "/home/gohyunyoung98/Enthought/Canopy_64bit/User/lib/python2.7/site-packages/sklearn/utils/validation.py:386: DeprecationWarning: Passing 1d arrays as data is deprecated in 0.17 and willraise ValueError in 0.19. Reshape your data either using X.reshape(-1, 1) if your data has a single feature or X.reshape(1, -1) if it contains a single sample.\n",
      "  DeprecationWarning)\n",
      "/home/gohyunyoung98/Enthought/Canopy_64bit/User/lib/python2.7/site-packages/sklearn/utils/validation.py:386: DeprecationWarning: Passing 1d arrays as data is deprecated in 0.17 and willraise ValueError in 0.19. Reshape your data either using X.reshape(-1, 1) if your data has a single feature or X.reshape(1, -1) if it contains a single sample.\n",
      "  DeprecationWarning)\n",
      "/home/gohyunyoung98/Enthought/Canopy_64bit/User/lib/python2.7/site-packages/sklearn/utils/validation.py:386: DeprecationWarning: Passing 1d arrays as data is deprecated in 0.17 and willraise ValueError in 0.19. Reshape your data either using X.reshape(-1, 1) if your data has a single feature or X.reshape(1, -1) if it contains a single sample.\n",
      "  DeprecationWarning)\n",
      "/home/gohyunyoung98/Enthought/Canopy_64bit/User/lib/python2.7/site-packages/sklearn/utils/validation.py:386: DeprecationWarning: Passing 1d arrays as data is deprecated in 0.17 and willraise ValueError in 0.19. Reshape your data either using X.reshape(-1, 1) if your data has a single feature or X.reshape(1, -1) if it contains a single sample.\n",
      "  DeprecationWarning)\n",
      "/home/gohyunyoung98/Enthought/Canopy_64bit/User/lib/python2.7/site-packages/sklearn/utils/validation.py:386: DeprecationWarning: Passing 1d arrays as data is deprecated in 0.17 and willraise ValueError in 0.19. Reshape your data either using X.reshape(-1, 1) if your data has a single feature or X.reshape(1, -1) if it contains a single sample.\n",
      "  DeprecationWarning)\n",
      "/home/gohyunyoung98/Enthought/Canopy_64bit/User/lib/python2.7/site-packages/sklearn/utils/validation.py:386: DeprecationWarning: Passing 1d arrays as data is deprecated in 0.17 and willraise ValueError in 0.19. Reshape your data either using X.reshape(-1, 1) if your data has a single feature or X.reshape(1, -1) if it contains a single sample.\n",
      "  DeprecationWarning)\n",
      "/home/gohyunyoung98/Enthought/Canopy_64bit/User/lib/python2.7/site-packages/sklearn/utils/validation.py:386: DeprecationWarning: Passing 1d arrays as data is deprecated in 0.17 and willraise ValueError in 0.19. Reshape your data either using X.reshape(-1, 1) if your data has a single feature or X.reshape(1, -1) if it contains a single sample.\n",
      "  DeprecationWarning)\n"
     ]
    }
   ],
   "source": [
    "urlParser = UrlParser('20160520')\n",
    "\n",
    "for url in urlParser.urlList:\n",
    "    # articleDate\n",
    "    bxsParser=BoxScoreParser(url)\n",
    "    date=bxsParser.date[5:7]+u\"월\"+bxsParser.date[8:10]+u\"일\"+bxsParser.date[10:]\n",
    "\n",
    "    # articleHead\n",
    "    head=u'at ascore vs ht hscore'\n",
    "    head=head.replace('at',bxsParser.a_team)\n",
    "    head=head.replace('ht',bxsParser.h_team)\n",
    "    head=head.replace('hscore',str(bxsParser.h_score[12]))\n",
    "    head=head.replace('ascore',str(bxsParser.a_score[12]))\n",
    "\n",
    "    # articlePre\n",
    "    pre=u'at는 date stadium경기장에서 열린 ht와의 경기에서 ascore-hscore으로 context'\n",
    "    pre=pre.replace('ht',bxsParser.h_team)\n",
    "    pre=pre.replace('date',bxsParser.date)\n",
    "    pre=pre.replace('stadium',bxsParser.stadium)\n",
    "    pre=pre.replace('at',bxsParser.a_team)\n",
    "    pre=pre.replace('hscore',str(bxsParser.h_score[12]))\n",
    "    pre=pre.replace('ascore',str(bxsParser.a_score[12]))\n",
    "    \n",
    "    # context\n",
    "    #'context' -> exception_case(무승부)\n",
    "    if bxsParser.h_score[12]==bxsParser.a_score[12]:\n",
    "        pre=pre.replace('context',context_sen[5].decode('utf-8'))    \n",
    "    #'context' -> exception_case(영봉승)\n",
    "    elif bxsParser.h_score[12]==0 or bxsParser.a_score[12]==0:\n",
    "        pre=pre.replace('context',context_sen[6].decode('utf-8'))    \n",
    "    else:\n",
    "        pre=pre.replace('context',context_sen[clf.predict([x-y for x,y in zip(bxsParser.h_score[:13],bxsParser.a_score[:13])])].decode('utf-8'))\n",
    "    #HOME팀이 이긴경우 승리->패배\n",
    "    if bxsParser.a_score[12]<bxsParser.h_score[12]:\n",
    "        pre=pre.replace(u'승리',u'패배')\n",
    "        pre=pre.replace(u'성공',u'실패')\n",
    "        pre=pre.replace(u'완승',u'완패')\n",
    "        pre=pre.replace(u'영봉승',u'영봉패')\n",
    "\n",
    "    # charset\n",
    "    date.encode('utf8')\n",
    "    head.encode('utf8')\n",
    "    pre.encode('utf8')\n",
    "    url.encode('utf8')\n",
    "\n",
    "    #교정부분\n",
    "    \n",
    "    #etc\n",
    "    if bxsParser.a_score[12]>=bxsParser.h_score[12]:\n",
    "        winTeam=bxsParser.a_team\n",
    "        loseTeam=bxsParser.h_team\n",
    "    else:\n",
    "        winTeam=bxsParser.h_team\n",
    "        loseTeam=bxsParser.a_team\n",
    "    \n",
    "    cursor=con.cursor()\n",
    "    cursor.execute('INSERT INTO Article(date,head,pre,url,winTeam,loseTeam) VALUES (\\'%s\\',\\'%s\\',\\'%s\\',\\'%s\\',\\'%s\\',\\'%s\\')'%(date,head,pre,url,winTeam,loseTeam))\n",
    "\n",
    "    # MySQL disconnect\n",
    "    con.commit()\n",
    "    cursor.close()\n",
    "con.close()"
   ]
  }
 ],
 "metadata": {
  "kernelspec": {
   "display_name": "Python 2",
   "language": "python",
   "name": "python2"
  },
  "language_info": {
   "codemirror_mode": {
    "name": "ipython",
    "version": 2
   },
   "file_extension": ".py",
   "mimetype": "text/x-python",
   "name": "python",
   "nbconvert_exporter": "python",
   "pygments_lexer": "ipython2",
   "version": "2.7.11"
  }
 },
 "nbformat": 4,
 "nbformat_minor": 0
}
