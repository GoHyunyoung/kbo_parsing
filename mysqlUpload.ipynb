{
 "cells": [
  {
   "cell_type": "code",
   "execution_count": 1,
   "metadata": {
    "collapsed": false
   },
   "outputs": [],
   "source": [
    "# -*- coding: utf-8 -*-\n",
    "import pandas as pd\n",
    "import numpy as np\n",
    "# import MySQLdb\n",
    "\n",
    "from BoxScoreParser import BoxScoreParser\n",
    "from UrlParser import UrlParser\n",
    "from sklearn import tree\n",
    "from sklearn.externals.six import StringIO"
   ]
  },
  {
   "cell_type": "code",
   "execution_count": 2,
   "metadata": {
    "collapsed": false
   },
   "outputs": [],
   "source": [
    "# MySQL conf\n",
    "# con=MySQLdb.connect(host='link10th.cjwmbrma7nnv.ap-northeast-2.rds.amazonaws.com',user='link10th',passwd='link1234',db='link10th',charset='utf8', use_unicode=True)\n",
    "\n",
    "# DecisionTree - 서두\n",
    "path_PRE = './DecisionLearning//DecisionTree_sample.csv'\n",
    "df_PRE = pd.read_csv(path_PRE,index_col=None,header=None,names=['1H','2H','3H','4H','5H','6H','7H','8H','9H','10H','11H','12H','sum','context'])\n",
    "score_PRE = np.array(df_PRE.reindex(columns=['1H','2H','3H','4H','5H','6H','7H','8H','9H','10H','11H','12H','sum']))\n",
    "context_PRE = np.array(df_PRE.get('context'))\n",
    "context_sen_PRE = [' ','승리하였다.','접전끝에 승리를 하였다.','역전에 성공했다.','완승을 하였다.','무승부로 끝이났다.','영봉승을 하였다.']\n",
    "clf_PRE = tree.DecisionTreeClassifier(criterion='entropy')\n",
    "clf_PRE = clf_PRE.fit(score_PRE,context_PRE)\n",
    "\n",
    "# DecisionTree - 투수\n",
    "path_MVP_PITCHER = './DecisionLearning/MVP_Pitcher_sample.csv'\n",
    "df_MVP_PITCHER = pd.read_csv(path_MVP_PITCHER,index_col=None,header=None,names=['ERA','BN','H','SO','context'])\n",
    "score_MVP_PITCHER = np.array(df_MVP_PITCHER.reindex(columns=['ERA','BN','H','SO']))\n",
    "context_MVP_PITCHER = np.array(df_MVP_PITCHER.get('context'))\n",
    "clf_MVP_PITCHER = tree.DecisionTreeClassifier(criterion='entropy')\n",
    "clf_MVP_PITCHER = clf_MVP_PITCHER.fit(score_MVP_PITCHER,context_MVP_PITCHER)\n"
   ]
  },
  {
   "cell_type": "code",
   "execution_count": 3,
   "metadata": {
    "collapsed": false,
    "scrolled": true
   },
   "outputs": [],
   "source": [
    "urlParser = UrlParser('20160528')"
   ]
  },
  {
   "cell_type": "code",
   "execution_count": 7,
   "metadata": {
    "collapsed": false
   },
   "outputs": [],
   "source": [
    "for url in urlParser.urlList:\n",
    "    bxsParser=BoxScoreParser(url)\n",
    "    print bxsParser.a_pitRecord"
   ]
  },
  {
   "cell_type": "code",
   "execution_count": 44,
   "metadata": {
    "collapsed": false
   },
   "outputs": [],
   "source": [
    "a=bxsParser.a_pitRecord[u'평균자책점'][1]"
   ]
  },
  {
   "cell_type": "code",
   "execution_count": 55,
   "metadata": {
    "collapsed": false
   },
   "outputs": [
    {
     "name": "stdout",
     "output_type": "stream",
     "text": [
      "[1]\n",
      "[0]\n",
      "[0]\n"
     ]
    },
    {
     "name": "stderr",
     "output_type": "stream",
     "text": [
      "C:\\Users\\GoHyunyoung98\\AppData\\Local\\Enthought\\Canopy\\User\\lib\\site-packages\\sklearn\\utils\\validation.py:386: DeprecationWarning: Passing 1d arrays as data is deprecated in 0.17 and willraise ValueError in 0.19. Reshape your data either using X.reshape(-1, 1) if your data has a single feature or X.reshape(1, -1) if it contains a single sample.\n",
      "  DeprecationWarning)\n",
      "C:\\Users\\GoHyunyoung98\\AppData\\Local\\Enthought\\Canopy\\User\\lib\\site-packages\\sklearn\\utils\\validation.py:386: DeprecationWarning: Passing 1d arrays as data is deprecated in 0.17 and willraise ValueError in 0.19. Reshape your data either using X.reshape(-1, 1) if your data has a single feature or X.reshape(1, -1) if it contains a single sample.\n",
      "  DeprecationWarning)\n",
      "C:\\Users\\GoHyunyoung98\\AppData\\Local\\Enthought\\Canopy\\User\\lib\\site-packages\\sklearn\\utils\\validation.py:386: DeprecationWarning: Passing 1d arrays as data is deprecated in 0.17 and willraise ValueError in 0.19. Reshape your data either using X.reshape(-1, 1) if your data has a single feature or X.reshape(1, -1) if it contains a single sample.\n",
      "  DeprecationWarning)\n"
     ]
    }
   ],
   "source": [
    "for row in range(len(bxsParser.a_pitRecord)):\n",
    "    ERA=float(bxsParser.a_pitRecord[u'평균자책점'][row])\n",
    "    BN=int(bxsParser.a_pitRecord[u'타자'][row])\n",
    "    H=int(bxsParser.a_pitRecord[u'피안타'][row])\n",
    "    SO=int(bxsParser.a_pitRecord[u'삼진'][row])\n",
    "    arr=np.array([ERA,BN,H,SO])\n",
    "    \n",
    "    print clf_MVP_PITCHER.predict(arr) \n",
    "    "
   ]
  },
  {
   "cell_type": "code",
   "execution_count": 16,
   "metadata": {
    "collapsed": false
   },
   "outputs": [
    {
     "data": {
      "text/html": [
       "<div>\n",
       "<table border=\"1\" class=\"dataframe\">\n",
       "  <thead>\n",
       "    <tr style=\"text-align: right;\">\n",
       "      <th></th>\n",
       "      <th>선수명</th>\n",
       "      <th>등판</th>\n",
       "      <th>결과</th>\n",
       "      <th>승</th>\n",
       "      <th>패</th>\n",
       "      <th>세</th>\n",
       "      <th>이닝</th>\n",
       "      <th>타자</th>\n",
       "      <th>투구수</th>\n",
       "      <th>타수</th>\n",
       "      <th>피안타</th>\n",
       "      <th>홈런</th>\n",
       "      <th>4사구</th>\n",
       "      <th>삼진</th>\n",
       "      <th>실점</th>\n",
       "      <th>자책</th>\n",
       "      <th>평균자책점</th>\n",
       "    </tr>\n",
       "  </thead>\n",
       "  <tbody>\n",
       "    <tr>\n",
       "      <th>0</th>\n",
       "      <td>신재영</td>\n",
       "      <td>선발</td>\n",
       "      <td>승</td>\n",
       "      <td>7</td>\n",
       "      <td>2</td>\n",
       "      <td>0</td>\n",
       "      <td>7</td>\n",
       "      <td>26</td>\n",
       "      <td>83</td>\n",
       "      <td>25</td>\n",
       "      <td>5</td>\n",
       "      <td>0</td>\n",
       "      <td>0</td>\n",
       "      <td>2</td>\n",
       "      <td>0</td>\n",
       "      <td>0</td>\n",
       "      <td>2.98</td>\n",
       "    </tr>\n",
       "    <tr>\n",
       "      <th>1</th>\n",
       "      <td>김상수</td>\n",
       "      <td>8.9</td>\n",
       "      <td>홀드</td>\n",
       "      <td>0</td>\n",
       "      <td>2</td>\n",
       "      <td>0</td>\n",
       "      <td>1</td>\n",
       "      <td>5</td>\n",
       "      <td>17</td>\n",
       "      <td>4</td>\n",
       "      <td>2</td>\n",
       "      <td>0</td>\n",
       "      <td>1</td>\n",
       "      <td>0</td>\n",
       "      <td>1</td>\n",
       "      <td>1</td>\n",
       "      <td>3.86</td>\n",
       "    </tr>\n",
       "    <tr>\n",
       "      <th>2</th>\n",
       "      <td>김세현</td>\n",
       "      <td>9.5</td>\n",
       "      <td>세</td>\n",
       "      <td>1</td>\n",
       "      <td>0</td>\n",
       "      <td>13</td>\n",
       "      <td>1</td>\n",
       "      <td>4</td>\n",
       "      <td>9</td>\n",
       "      <td>4</td>\n",
       "      <td>0</td>\n",
       "      <td>0</td>\n",
       "      <td>0</td>\n",
       "      <td>0</td>\n",
       "      <td>0</td>\n",
       "      <td>0</td>\n",
       "      <td>2.70</td>\n",
       "    </tr>\n",
       "  </tbody>\n",
       "</table>\n",
       "</div>"
      ],
      "text/plain": [
       "   선수명   등판  결과  승  패   세 이닝  타자 투구수  타수 피안타 홈런 4사구 삼진 실점 자책 평균자책점\n",
       "0  신재영   선발   승  7  2   0  7  26  83  25   5  0   0  2  0  0  2.98\n",
       "1  김상수  8.9  홀드  0  2   0  1   5  17   4   2  0   1  0  1  1  3.86\n",
       "2  김세현  9.5   세  1  0  13  1   4   9   4   0  0   0  0  0  0  2.70"
      ]
     },
     "execution_count": 16,
     "metadata": {},
     "output_type": "execute_result"
    }
   ],
   "source": [
    "bxsParser.a_pitRecord"
   ]
  },
  {
   "cell_type": "code",
   "execution_count": 18,
   "metadata": {
    "collapsed": false,
    "scrolled": true
   },
   "outputs": [
    {
     "name": "stderr",
     "output_type": "stream",
     "text": [
      "/home/gohyunyoung98/Enthought/Canopy_64bit/User/lib/python2.7/site-packages/sklearn/utils/validation.py:386: DeprecationWarning: Passing 1d arrays as data is deprecated in 0.17 and willraise ValueError in 0.19. Reshape your data either using X.reshape(-1, 1) if your data has a single feature or X.reshape(1, -1) if it contains a single sample.\n",
      "  DeprecationWarning)\n",
      "/home/gohyunyoung98/Enthought/Canopy_64bit/User/lib/python2.7/site-packages/ipykernel/__main__.py:32: DeprecationWarning: converting an array with ndim > 0 to an index will result in an error in the future\n",
      "/home/gohyunyoung98/Enthought/Canopy_64bit/User/lib/python2.7/site-packages/sklearn/utils/validation.py:386: DeprecationWarning: Passing 1d arrays as data is deprecated in 0.17 and willraise ValueError in 0.19. Reshape your data either using X.reshape(-1, 1) if your data has a single feature or X.reshape(1, -1) if it contains a single sample.\n",
      "  DeprecationWarning)\n",
      "/home/gohyunyoung98/Enthought/Canopy_64bit/User/lib/python2.7/site-packages/sklearn/utils/validation.py:386: DeprecationWarning: Passing 1d arrays as data is deprecated in 0.17 and willraise ValueError in 0.19. Reshape your data either using X.reshape(-1, 1) if your data has a single feature or X.reshape(1, -1) if it contains a single sample.\n",
      "  DeprecationWarning)\n",
      "/home/gohyunyoung98/Enthought/Canopy_64bit/User/lib/python2.7/site-packages/sklearn/utils/validation.py:386: DeprecationWarning: Passing 1d arrays as data is deprecated in 0.17 and willraise ValueError in 0.19. Reshape your data either using X.reshape(-1, 1) if your data has a single feature or X.reshape(1, -1) if it contains a single sample.\n",
      "  DeprecationWarning)\n",
      "/home/gohyunyoung98/Enthought/Canopy_64bit/User/lib/python2.7/site-packages/sklearn/utils/validation.py:386: DeprecationWarning: Passing 1d arrays as data is deprecated in 0.17 and willraise ValueError in 0.19. Reshape your data either using X.reshape(-1, 1) if your data has a single feature or X.reshape(1, -1) if it contains a single sample.\n",
      "  DeprecationWarning)\n",
      "/home/gohyunyoung98/Enthought/Canopy_64bit/User/lib/python2.7/site-packages/sklearn/utils/validation.py:386: DeprecationWarning: Passing 1d arrays as data is deprecated in 0.17 and willraise ValueError in 0.19. Reshape your data either using X.reshape(-1, 1) if your data has a single feature or X.reshape(1, -1) if it contains a single sample.\n",
      "  DeprecationWarning)\n",
      "/home/gohyunyoung98/Enthought/Canopy_64bit/User/lib/python2.7/site-packages/sklearn/utils/validation.py:386: DeprecationWarning: Passing 1d arrays as data is deprecated in 0.17 and willraise ValueError in 0.19. Reshape your data either using X.reshape(-1, 1) if your data has a single feature or X.reshape(1, -1) if it contains a single sample.\n",
      "  DeprecationWarning)\n",
      "/home/gohyunyoung98/Enthought/Canopy_64bit/User/lib/python2.7/site-packages/sklearn/utils/validation.py:386: DeprecationWarning: Passing 1d arrays as data is deprecated in 0.17 and willraise ValueError in 0.19. Reshape your data either using X.reshape(-1, 1) if your data has a single feature or X.reshape(1, -1) if it contains a single sample.\n",
      "  DeprecationWarning)\n",
      "/home/gohyunyoung98/Enthought/Canopy_64bit/User/lib/python2.7/site-packages/sklearn/utils/validation.py:386: DeprecationWarning: Passing 1d arrays as data is deprecated in 0.17 and willraise ValueError in 0.19. Reshape your data either using X.reshape(-1, 1) if your data has a single feature or X.reshape(1, -1) if it contains a single sample.\n",
      "  DeprecationWarning)\n",
      "/home/gohyunyoung98/Enthought/Canopy_64bit/User/lib/python2.7/site-packages/sklearn/utils/validation.py:386: DeprecationWarning: Passing 1d arrays as data is deprecated in 0.17 and willraise ValueError in 0.19. Reshape your data either using X.reshape(-1, 1) if your data has a single feature or X.reshape(1, -1) if it contains a single sample.\n",
      "  DeprecationWarning)\n",
      "/home/gohyunyoung98/Enthought/Canopy_64bit/User/lib/python2.7/site-packages/sklearn/utils/validation.py:386: DeprecationWarning: Passing 1d arrays as data is deprecated in 0.17 and willraise ValueError in 0.19. Reshape your data either using X.reshape(-1, 1) if your data has a single feature or X.reshape(1, -1) if it contains a single sample.\n",
      "  DeprecationWarning)\n",
      "/home/gohyunyoung98/Enthought/Canopy_64bit/User/lib/python2.7/site-packages/sklearn/utils/validation.py:386: DeprecationWarning: Passing 1d arrays as data is deprecated in 0.17 and willraise ValueError in 0.19. Reshape your data either using X.reshape(-1, 1) if your data has a single feature or X.reshape(1, -1) if it contains a single sample.\n",
      "  DeprecationWarning)\n",
      "/home/gohyunyoung98/Enthought/Canopy_64bit/User/lib/python2.7/site-packages/sklearn/utils/validation.py:386: DeprecationWarning: Passing 1d arrays as data is deprecated in 0.17 and willraise ValueError in 0.19. Reshape your data either using X.reshape(-1, 1) if your data has a single feature or X.reshape(1, -1) if it contains a single sample.\n",
      "  DeprecationWarning)\n",
      "/home/gohyunyoung98/Enthought/Canopy_64bit/User/lib/python2.7/site-packages/sklearn/utils/validation.py:386: DeprecationWarning: Passing 1d arrays as data is deprecated in 0.17 and willraise ValueError in 0.19. Reshape your data either using X.reshape(-1, 1) if your data has a single feature or X.reshape(1, -1) if it contains a single sample.\n",
      "  DeprecationWarning)\n"
     ]
    }
   ],
   "source": [
    "urlParser = UrlParser('20160501')\n",
    "\n",
    "for url in urlParser.urlList:\n",
    "    # articleDate\n",
    "    bxsParser=BoxScoreParser(url)\n",
    "    date=bxsParser.date[5:7]+u\"월\"+bxsParser.date[8:10]+u\"일\"+bxsParser.date[10:]\n",
    "\n",
    "    # HEAD\n",
    "    head=u'at ascore vs ht hscore'\n",
    "    head=head.replace('at',bxsParser.a_team)\n",
    "    head=head.replace('ht',bxsParser.h_team)\n",
    "    head=head.replace('hscore',str(bxsParser.h_score[12]))\n",
    "    head=head.replace('ascore',str(bxsParser.a_score[12]))\n",
    "\n",
    "    # PRE\n",
    "    pre=u'at는 date stadium경기장에서 열린 ht와의 경기에서 ascore-hscore으로 context'\n",
    "    pre=pre.replace('ht',bxsParser.h_team)\n",
    "    pre=pre.replace('date',bxsParser.date)\n",
    "    pre=pre.replace('stadium',bxsParser.stadium)\n",
    "    pre=pre.replace('at',bxsParser.a_team)\n",
    "    pre=pre.replace('hscore',str(bxsParser.h_score[12]))\n",
    "    pre=pre.replace('ascore',str(bxsParser.a_score[12]))\n",
    "    \n",
    "    # PRE-예외처리\n",
    "    #'context' -> exception_case(무승부)\n",
    "    if bxsParser.h_score[12]==bxsParser.a_score[12]:\n",
    "        pre=pre.replace('context',context_sen[5].decode('utf-8'))    \n",
    "    #'context' -> exception_case(영봉승)\n",
    "    elif bxsParser.h_score[12]==0 or bxsParser.a_score[12]==0:\n",
    "        pre=pre.replace('context',context_sen[6].decode('utf-8'))    \n",
    "    else:\n",
    "        pre=pre.replace('context',context_sen[clf_PRE.predict([x-y for x,y in zip(bxsParser.h_score[:13],bxsParser.a_score[:13])])].decode('utf-8'))\n",
    " \n",
    "    #HOME팀이 이긴경우 승리->패배\n",
    "    if bxsParser.a_score[12]<bxsParser.h_score[12]:\n",
    "        pre=pre.replace(u'승리',u'패배')\n",
    "        pre=pre.replace(u'성공',u'실패')\n",
    "        pre=pre.replace(u'완승',u'완패')\n",
    "        pre=pre.replace(u'영봉승',u'영봉패')\n",
    "\n",
    "    # charset\n",
    "    date.encode('utf8')\n",
    "    head.encode('utf8')\n",
    "    pre.encode('utf8')\n",
    "    url.encode('utf8')\n",
    "\n",
    "    #교정부분\n",
    "#     노트북참조\n",
    "    \n",
    "    # MVP_PITCHER\n",
    "    for row in range(len(bxsParser.a_pitRecord)):\n",
    "        ERA=float(bxsParser.a_pitRecord[u'평균자책점'][row])\n",
    "        BN=int(bxsParser.a_pitRecord[u'타자'][row])\n",
    "        H=int(bxsParser.a_pitRecord[u'피안타'][row])\n",
    "        SO=int(bxsParser.a_pitRecord[u'삼진'][row])\n",
    "        arr=np.array([ERA,BN,H,SO])\n",
    "#         여기서부터 작업--------(투수predict)\n",
    "        clf_MVP_PITCHER.predict(arr)  \n",
    "    \n",
    "    #etc\n",
    "    if bxsParser.a_score[12]>=bxsParser.h_score[12]:\n",
    "        winTeam=bxsParser.a_team\n",
    "        loseTeam=bxsParser.h_team\n",
    "    else:\n",
    "        winTeam=bxsParser.h_team\n",
    "        loseTeam=bxsParser.a_team\n",
    "    \n",
    "    cursor=con.cursor()\n",
    "    cursor.execute('INSERT INTO Article(date,head,pre,url,winTeam,loseTeam) VALUES (\\'%s\\',\\'%s\\',\\'%s\\',\\'%s\\',\\'%s\\',\\'%s\\')'%(date,head,pre,url,winTeam,loseTeam))\n",
    "\n",
    "    # MySQL disconnect\n",
    "    con.commit()\n",
    "    cursor.close()\n",
    "con.close()"
   ]
  }
 ],
 "metadata": {
  "kernelspec": {
   "display_name": "Python 2",
   "language": "python",
   "name": "python2"
  },
  "language_info": {
   "codemirror_mode": {
    "name": "ipython",
    "version": 2
   },
   "file_extension": ".py",
   "mimetype": "text/x-python",
   "name": "python",
   "nbconvert_exporter": "python",
   "pygments_lexer": "ipython2",
   "version": "2.7.10"
  }
 },
 "nbformat": 4,
 "nbformat_minor": 0
}
