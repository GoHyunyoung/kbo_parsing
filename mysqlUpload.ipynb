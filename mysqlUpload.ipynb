{
 "cells": [
  {
   "cell_type": "code",
   "execution_count": 2,
   "metadata": {
    "collapsed": false
   },
   "outputs": [],
   "source": [
    "# -*- coding: utf-8 -*-\n",
    "from bs4 import BeautifulSoup\n",
    "from hanspell import spell_checker\n",
    "from selenium import webdriver\n",
    "from BoxScoreParser import BoxScoreParser\n",
    "from UrlParser import UrlParser\n",
    "from sklearn import tree\n",
    "from sklearn.externals.six import StringIO\n",
    "\n",
    "import pandas as pd\n",
    "import numpy as np\n",
    "import MySQLdb\n",
    "import random\n",
    "import datetime\n",
    "import urllib2"
   ]
  },
  {
   "cell_type": "code",
   "execution_count": 3,
   "metadata": {
    "collapsed": false
   },
   "outputs": [],
   "source": [
    "# DecisionTree - 서두\n",
    "path_INTRO = './DecisionLearning//DecisionTree_sample.csv'\n",
    "df_INTRO = pd.read_csv(path_INTRO,index_col=None,header=None,names=['1H','2H','3H','4H','5H','6H','7H','8H','9H','10H','11H','12H','sum','context'])\n",
    "score_INTRO = np.array(df_INTRO.reindex(columns=['1H','2H','3H','4H','5H','6H','7H','8H','9H','10H','11H','12H','sum']))\n",
    "context_INTRO = np.array(df_INTRO.get('context'))\n",
    "context_sen_INTRO = [' ','승리하였다.','접전끝에 승리를 하였다.','역전에 성공했다.','완승을 하였다.','무승부로 끝이났다.','영봉승을 하였다.']\n",
    "clf_INTRO = tree.DecisionTreeClassifier(criterion='entropy')\n",
    "clf_INTRO = clf_INTRO.fit(score_INTRO,context_INTRO)\n",
    "\n",
    "# DecisionTree - 투수\n",
    "path_MVP_PITCHER = './DecisionLearning/MVP_Pitcher_sample.csv'\n",
    "df_MVP_PITCHER = pd.read_csv(path_MVP_PITCHER,index_col=None,header=None,names=['ERA','BN','H','SO','context'])\n",
    "score_MVP_PITCHER = np.array(df_MVP_PITCHER.reindex(columns=['ERA','BN','H','SO']))\n",
    "context_MVP_PITCHER = np.array(df_MVP_PITCHER.get('context'))\n",
    "clf_MVP_PITCHER = tree.DecisionTreeClassifier(criterion='entropy')\n",
    "clf_MVP_PITCHER = clf_MVP_PITCHER.fit(score_MVP_PITCHER,context_MVP_PITCHER)"
   ]
  },
  {
   "cell_type": "code",
   "execution_count": 4,
   "metadata": {
    "collapsed": true
   },
   "outputs": [],
   "source": [
    "def writeDate(url):    \n",
    "    date=bxsParser.date[5:7]+u\"월\"+bxsParser.date[8:10]+u\"일\"+bxsParser.date[10:]\n",
    "    return date"
   ]
  },
  {
   "cell_type": "code",
   "execution_count": 5,
   "metadata": {
    "collapsed": true
   },
   "outputs": [],
   "source": [
    "def writeHead(url,contextClassifier,bxsParser):\n",
    "\n",
    "    # HEAD\n",
    "    HEAD=u'at ascore vs ht hscore'\n",
    "    HEAD=HEAD.replace('at',bxsParser.a_team)\n",
    "    HEAD=HEAD.replace('ht',bxsParser.h_team)\n",
    "    HEAD=HEAD.replace('hscore',str(bxsParser.h_score[12]))\n",
    "    HEAD=HEAD.replace('ascore',str(bxsParser.a_score[12]))\n",
    "    \n",
    "    return HEAD"
   ]
  },
  {
   "cell_type": "code",
   "execution_count": 6,
   "metadata": {
    "collapsed": true
   },
   "outputs": [],
   "source": [
    "def getClassifier(url):\n",
    "    return clf_INTRO.predict([x-y for x,y in zip(bxsParser.h_score[:13],bxsParser.a_score[:13])])[0]"
   ]
  },
  {
   "cell_type": "code",
   "execution_count": 7,
   "metadata": {
    "collapsed": true
   },
   "outputs": [],
   "source": [
    "def writeIntro(url,contextClassifier,bxsParser):\n",
    "    MVP_PITCHER=None\n",
    "    \n",
    "    sentences1=(\n",
    "        u'winTeam는 date stadium 경기장에서 열린 loseTeam와의 경기에서 ascore-hscore 으로 context',\n",
    "        u'date stadium에서 열린 at와 ht와의 경기에서 ascore-hscore로 winTeam이 context',\n",
    "        u'at와 ht의 경기가 date stadium에서 있었던 오늘 at는 ascore, ht는 hscore로 winTeam가 경기에서 context',\n",
    "        u'date stadium에서 있었던 at와 ht와의 경기, winTeam이 winScore loseTeam이 loseScore로 winTeam이 context',\n",
    "    )\n",
    "    sentences2=(\n",
    "        u'이날 경기에서 mvp_pitcher가 투구수NP 피안타H 의 기록을 보여주며 호투를 하였다.',\n",
    "        u'이번 경기에서 winTeam의  mvp_pitcher가 INN이닝을 호투하며, R실점 SO삼진을 잡아내며 승리를 이끌었다.'\n",
    "    )\n",
    "    \n",
    "    if bxsParser.a_score[12] > bxsParser.h_score[12]:\n",
    "        winTeam = bxsParser.a_team\n",
    "        winScore = bxsParser.a_score[12]\n",
    "        winTeam_pitRecord = bxsParser.a_pitRecord\n",
    "        winTeam_batRecord = bxsParser.a_batRecord        \n",
    "        loseTeam = bxsParser.h_team        \n",
    "        loseScore = bxsParser.h_score[12]\n",
    "        loseTeam_pitRecord = bxsParser.h_pitRecord\n",
    "        loseTeam_batRecord = bxsParser.h_batRecord\n",
    "        \n",
    "    else : \n",
    "        loseTeam= bxsParser.a_team\n",
    "        loseScore= bxsParser.a_score[12]\n",
    "        loseTeam_pitRecord = bxsParser.a_pitRecord\n",
    "        loseTeam_batRecord= bxsParser.a_batRecord        \n",
    "        winTeam = bxsParser.h_team        \n",
    "        winScore = bxsParser.h_score[12]\n",
    "        winTeam_pitRecord= bxsParser.h_pitRecord\n",
    "        winTeam_batRecord = bxsParser.h_batRecord\n",
    "    \n",
    "    # INTRO1\n",
    "    INTRO1=sentences1[random.randint(0,len(sentences1)-1)]\n",
    "    INTRO1=INTRO1.replace('winTeam',winTeam)\n",
    "    INTRO1=INTRO1.replace('loseTeam',loseTeam)\n",
    "    INTRO1=INTRO1.replace('winScore',str(winScore))\n",
    "    INTRO1=INTRO1.replace('loseScore',str(loseScore))\n",
    "    INTRO1=INTRO1.replace('stadium',bxsParser.stadium)\n",
    "    INTRO1=INTRO1.replace('hscore',str(bxsParser.h_score[12]))\n",
    "    INTRO1=INTRO1.replace('ascore',str(bxsParser.a_score[12]))\n",
    "    INTRO1=INTRO1.replace('date',bxsParser.date)\n",
    "    INTRO1=INTRO1.replace('ht',bxsParser.h_team)\n",
    "    INTRO1=INTRO1.replace('at',bxsParser.a_team)    \n",
    "    \n",
    "    # INTRO-context\n",
    "    #'context' -> exception_case(무승부)\n",
    "    if bxsParser.h_score[12]==bxsParser.a_score[12]:\n",
    "        INTRO1=INTRO1.replace('context',context_sen_INTRO[5].decode('utf-8'))    \n",
    "    #'context' -> exception_case(영봉승)\n",
    "    elif bxsParser.h_score[12]==0 or bxsParser.a_score[12]==0:\n",
    "        INTRO1=INTRO1.replace('context',context_sen_INTRO[6].decode('utf-8'))    \n",
    "    #'context'-> 나머지의 경우\n",
    "    else:\n",
    "        INTRO1=INTRO1.replace('context',context_sen_INTRO[getClassifier(url)].decode('utf-8'))\n",
    "        \n",
    "#     #HOME팀이 이긴 경우 승리->패배\n",
    "#     if bxsParser.a_score[12] < bxsParser.h_score[12]:\n",
    "#         INTRO1=INTRO1.replace(u'승리',u'패배')\n",
    "#         INTRO1=INTRO1.replace(u'성공',u'실패')\n",
    "#         INTRO1=INTRO1.replace(u'완승',u'완패')\n",
    "#         INTRO1=INTRO1.replace(u'영봉승',u'영봉패')\n",
    "\n",
    "#     이날 경기를 승리로 이끈 MVP_PITCHER는 +\n",
    "#     date.encode('utf8')\n",
    "#     head.encode('utf8')\n",
    "#     pre.encode('utf8')\n",
    "#     url.encode('utf8')\n",
    "    \n",
    "    # MVP_PITCHER\n",
    "    for row in range(len(winTeam_pitRecord)):\n",
    "        ERA=winTeam_pitRecord[u'평균자책점'][row]\n",
    "        if type(ERA)==float:\n",
    "            ERA=float(ERA)\n",
    "        else:\n",
    "            ERA=0\n",
    "        BN=int(winTeam_pitRecord[u'타자'][row])\n",
    "        H=int(winTeam_pitRecord[u'피안타'][row])\n",
    "        SO=int(winTeam_pitRecord[u'삼진'][row])\n",
    "        arr=np.array([ERA,BN,H,SO])\n",
    "                       \n",
    "        INTRO2=''\n",
    "        if clf_MVP_PITCHER.predict(arr)[0]:\n",
    "            MVP_PITCHER=winTeam_pitRecord[u'선수명'][row] \n",
    "            #INTRO2\n",
    "            INTRO2=sentences2[random.randint(0,len(sentences2)-1)]\n",
    "            INTRO2=INTRO2.replace('winTeam',winTeam)\n",
    "            INTRO2=INTRO2.replace('mvp_pitcher',winTeam_pitRecord.iloc[row][u'선수명'])\n",
    "            INTRO2=INTRO2.replace('ERA',winTeam_pitRecord.iloc[row][u'평균자책점'])\n",
    "            INTRO2=INTRO2.replace('INN',winTeam_pitRecord.iloc[row][u'이닝'])\n",
    "            INTRO2=INTRO2.replace('BN',winTeam_pitRecord.iloc[row][u'타자'])\n",
    "            INTRO2=INTRO2.replace('NP',winTeam_pitRecord.iloc[row][u'투구수'])\n",
    "            INTRO2=INTRO2.replace('SO',winTeam_pitRecord.iloc[row][u'삼진'])            \n",
    "            INTRO2=INTRO2.replace('ER',winTeam_pitRecord.iloc[row][u'자책'])\n",
    "            INTRO2=INTRO2.replace('R',winTeam_pitRecord.iloc[row][u'실점'])\n",
    "            INTRO2=INTRO2.replace('H',winTeam_pitRecord.iloc[row][u'피안타'])\n",
    "            break\n",
    "            \n",
    "    return INTRO1+INTRO2"
   ]
  },
  {
   "cell_type": "code",
   "execution_count": 8,
   "metadata": {
    "collapsed": false
   },
   "outputs": [],
   "source": [
    " def getCriticalInning(date,awayTeam):\n",
    "        critical_inning=[]\n",
    "        browser = webdriver.Chrome(executable_path='./chromedriver.exe')\n",
    "        \n",
    "        year=date[0:4]\n",
    "        month=date[4:6]\n",
    "        day=int(date[6:8])\n",
    "        dayCount=datetime.date.today()-datetime.date(int(year),int(month),day)\n",
    "        dayCount=dayCount.days\n",
    "        \n",
    "        url='http://score.sports.media.daum.net/schedule/baseball/kbo/main.daum?game_year=%s&game_month=%s'%(year,month)\n",
    "        page=urllib2.urlopen(url)\n",
    "        html=BeautifulSoup(page)\n",
    "\n",
    "        s=str(html)\n",
    "        date_index=s.find(str.format('<td class=\"time_date\" rowspan=\"5\">%d<span class=\"txt_day\">')%(day))\n",
    "        s=s[date_index:]\n",
    "        s=s[s.find(awayTeam):]\n",
    "        serial_find_url='http://sports.media.daum.net/sports/gamecenter/'\n",
    "        serial_start_index=s.find(serial_find_url)+len(serial_find_url)\n",
    "        serial=s[serial_start_index:serial_start_index+8]\n",
    "        \n",
    "        url=str.format('http://m.sports.media.daum.net/m/sports/pack/3min/%s?lineup')%(serial)\n",
    "        \n",
    "        browser.get(url)\n",
    "        soup=BeautifulSoup(browser.page_source)\n",
    "        \n",
    "        awayTeam = soup.select('div.awayth:nth-child(1) > div')\n",
    "        sel=soup.select('strong.img_highlight')\n",
    "        \n",
    "        for inn in sel:\n",
    "            try:\n",
    "                critical_inning.append(inn.parent.parent.parent.attrs['data-inning'])\n",
    "            except :\n",
    "                pass\n",
    "        return critical_inning"
   ]
  },
  {
   "cell_type": "code",
   "execution_count": 9,
   "metadata": {
    "collapsed": true
   },
   "outputs": [],
   "source": [
    "# 본문작성\n",
    "def writeMain(url,contextClassifier,bxsParser):\n",
    "    getCriticalInning('20160629','LG')\n",
    "    "
   ]
  },
  {
   "cell_type": "code",
   "execution_count": 10,
   "metadata": {
    "collapsed": true
   },
   "outputs": [],
   "source": [
    "# 결론작성\n",
    "def writeConc(url,contextClassifier,bxsParser):\n",
    "    pass"
   ]
  },
  {
   "cell_type": "code",
   "execution_count": 11,
   "metadata": {
    "collapsed": true
   },
   "outputs": [],
   "source": [
    "def getEmblem(bxsParser):\n",
    "    if bxsParser.a_score > bxsParser.h_score:\n",
    "        winTeam = bxsParser.a_team\n",
    "        winScore = bxsParser.a_score\n",
    "        winTeam_pitRecord = bxsParser.a_pitRecord\n",
    "        winTeam_batRecord = bxsParser.a_batRecord        \n",
    "        loseTeam = bxsParser.h_team        \n",
    "        loseScore = bxsParser.h_score\n",
    "        loseTeam_pitRecord = bxsParser.h_pitRecord\n",
    "        loseTeam_batRecord = bxsParser.h_batRecord\n",
    "        \n",
    "    else : \n",
    "        loseTeam= bxsParser.a_team\n",
    "        loseScore= bxsParser.a_score\n",
    "        loseTeam_pitRecord = bxsParser.a_pitRecord\n",
    "        loseTeam_batRecord= bxsParser.a_batRecord        \n",
    "        winTeam = bxsParser.h_team        \n",
    "        winScore = bxsParser.h_score\n",
    "        winTeam_pitRecord= bxsParser.h_pitRecord\n",
    "        winTeam_batRecord = bxsParser.h_batRecord\n",
    "    \n",
    "    if winTeam=='삼성':\n",
    "        emblem='SS'\n",
    "    elif winTeam=='한화':\n",
    "        emblem='HH'\n",
    "    elif winTeam=='SK':\n",
    "        emblem='SK'\n",
    "    elif winTeam=='KIA':\n",
    "        emblem='HT'\n",
    "    elif winTeam=='LG':\n",
    "        emblem='LG'\n",
    "    elif winTeam=='두산':\n",
    "        emblem='OB'\n",
    "    elif winTeam=='롯데':\n",
    "        emblem='LT'\n",
    "    elif winTeam=='넥센':\n",
    "        emblem='WO'\n",
    "    elif winTeam=='kt':\n",
    "        emblem='KT'\n",
    "    else:\n",
    "        emblem='NC'\n",
    "    return emblem"
   ]
  },
  {
   "cell_type": "code",
   "execution_count": 14,
   "metadata": {
    "collapsed": false,
    "scrolled": true
   },
   "outputs": [],
   "source": [
    "urlParser = UrlParser('20160628')"
   ]
  },
  {
   "cell_type": "code",
   "execution_count": 22,
   "metadata": {
    "collapsed": false
   },
   "outputs": [],
   "source": [
    "# 본문작성\n",
    "def writeMain(url,contextClassifier,bxsParser,date,awayTeam):\n",
    "    month=date[:date.find('월')]\n",
    "    day=date[date.find('월'):date.find('일')+1]\n",
    "    getCriticalInning(date='2016'+month+day,awayTeam=awayTeam)\n",
    "    "
   ]
  },
  {
   "cell_type": "code",
   "execution_count": null,
   "metadata": {
    "collapsed": true
   },
   "outputs": [],
   "source": [
    "writeMain()"
   ]
  },
  {
   "cell_type": "code",
   "execution_count": 18,
   "metadata": {
    "collapsed": false,
    "scrolled": false
   },
   "outputs": [
    {
     "name": "stderr",
     "output_type": "stream",
     "text": [
      "C:\\Users\\GoHyunyoung98\\AppData\\Local\\Enthought\\Canopy\\User\\lib\\site-packages\\sklearn\\utils\\validation.py:386: DeprecationWarning: Passing 1d arrays as data is deprecated in 0.17 and willraise ValueError in 0.19. Reshape your data either using X.reshape(-1, 1) if your data has a single feature or X.reshape(1, -1) if it contains a single sample.\n",
      "  DeprecationWarning)\n",
      "C:\\Users\\GoHyunyoung98\\AppData\\Local\\Enthought\\Canopy\\User\\lib\\site-packages\\sklearn\\utils\\validation.py:386: DeprecationWarning: Passing 1d arrays as data is deprecated in 0.17 and willraise ValueError in 0.19. Reshape your data either using X.reshape(-1, 1) if your data has a single feature or X.reshape(1, -1) if it contains a single sample.\n",
      "  DeprecationWarning)\n",
      "C:\\Users\\GoHyunyoung98\\AppData\\Local\\Enthought\\Canopy\\User\\lib\\site-packages\\sklearn\\utils\\validation.py:386: DeprecationWarning: Passing 1d arrays as data is deprecated in 0.17 and willraise ValueError in 0.19. Reshape your data either using X.reshape(-1, 1) if your data has a single feature or X.reshape(1, -1) if it contains a single sample.\n",
      "  DeprecationWarning)\n"
     ]
    },
    {
     "ename": "TypeError",
     "evalue": "writeMain() takes exactly 3 arguments (5 given)",
     "output_type": "error",
     "traceback": [
      "\u001b[1;31m---------------------------------------------------------------------------\u001b[0m",
      "\u001b[1;31mTypeError\u001b[0m                                 Traceback (most recent call last)",
      "\u001b[1;32m<ipython-input-18-5e805178b393>\u001b[0m in \u001b[0;36m<module>\u001b[1;34m()\u001b[0m\n\u001b[0;32m      8\u001b[0m     \u001b[0mHead\u001b[0m\u001b[1;33m=\u001b[0m\u001b[0mwriteHead\u001b[0m\u001b[1;33m(\u001b[0m\u001b[0murl\u001b[0m\u001b[1;33m,\u001b[0m\u001b[0mcontextClassifier\u001b[0m\u001b[1;33m,\u001b[0m\u001b[0mbxsParser\u001b[0m\u001b[1;33m)\u001b[0m\u001b[1;33m\u001b[0m\u001b[0m\n\u001b[0;32m      9\u001b[0m     \u001b[0mIntro\u001b[0m\u001b[1;33m=\u001b[0m\u001b[0mwriteIntro\u001b[0m\u001b[1;33m(\u001b[0m\u001b[0murl\u001b[0m\u001b[1;33m,\u001b[0m\u001b[0mcontextClassifier\u001b[0m\u001b[1;33m,\u001b[0m\u001b[0mbxsParser\u001b[0m\u001b[1;33m)\u001b[0m\u001b[1;33m\u001b[0m\u001b[0m\n\u001b[1;32m---> 10\u001b[1;33m     \u001b[0mMain\u001b[0m\u001b[1;33m=\u001b[0m\u001b[0mwriteMain\u001b[0m\u001b[1;33m(\u001b[0m\u001b[0murl\u001b[0m\u001b[1;33m,\u001b[0m\u001b[0mcontextClassifier\u001b[0m\u001b[1;33m,\u001b[0m\u001b[0mbxsParser\u001b[0m\u001b[1;33m,\u001b[0m\u001b[0mdate\u001b[0m\u001b[1;33m,\u001b[0m\u001b[0mbxsParser\u001b[0m\u001b[1;33m.\u001b[0m\u001b[0ma_team\u001b[0m\u001b[1;33m)\u001b[0m\u001b[1;33m\u001b[0m\u001b[0m\n\u001b[0m\u001b[0;32m     11\u001b[0m \u001b[1;31m#     Conc=writeConc(url,contextClassifier,bxsParser)\u001b[0m\u001b[1;33m\u001b[0m\u001b[1;33m\u001b[0m\u001b[0m\n\u001b[0;32m     12\u001b[0m     \u001b[0memblem\u001b[0m\u001b[1;33m=\u001b[0m\u001b[0mgetEmblem\u001b[0m\u001b[1;33m(\u001b[0m\u001b[0mbxsParser\u001b[0m\u001b[1;33m)\u001b[0m\u001b[1;33m\u001b[0m\u001b[0m\n",
      "\u001b[1;31mTypeError\u001b[0m: writeMain() takes exactly 3 arguments (5 given)"
     ]
    }
   ],
   "source": [
    "# MySQL conf\n",
    "con=MySQLdb.connect(host='218.150.181.131',user='root',passwd='1234',db='link10th',charset='utf8', use_unicode=True)\n",
    "\n",
    "for url in urlParser.urlList:\n",
    "    bxsParser=BoxScoreParser(url)\n",
    "    date=writeDate(url)\n",
    "    contextClassifier=getClassifier(url)\n",
    "    Head=writeHead(url,contextClassifier,bxsParser)\n",
    "    Intro=writeIntro(url,contextClassifier,bxsParser)\n",
    "    Main=writeMain(url,contextClassifier,bxsParser,date,bxsParser.a_team)\n",
    "#     Conc=writeConc(url,contextClassifier,bxsParser)\n",
    "    emblem=getEmblem(bxsParser)\n",
    "    \n",
    "    #교정부분\n",
    "    Head = spell_checker.check(Head)\n",
    "    Intro = spell_checker.check(Intro)\n",
    "    Main = spell_checker.check(Main)\n",
    "#     Conc = spell_checker.check(Conc)\n",
    "    Head = Head.checked\n",
    "    Intro = Intro.checked\n",
    "    Main = Main.checked\n",
    "#     Conc = Conc.checked\n",
    "     \n",
    "#     cursor=con.cursor()\n",
    "#     cursor.execute(\n",
    "#     '''\n",
    "#     INSERT INTO Article(date,Head,Intro,url,emblem)\n",
    "#     VALUES (\\'%s\\',\\'%s\\',\\'%s\\',\\'%s\\',\\'%s\\')\n",
    "#     '''\n",
    "#     %(date,Head,Intro,url,emblem))\n",
    "\n",
    "#     # MySQL disconnect\n",
    "#     con.commit()\n",
    "#     cursor.close()\n",
    "# con.close()"
   ]
  },
  {
   "cell_type": "code",
   "execution_count": 18,
   "metadata": {
    "collapsed": false
   },
   "outputs": [
    {
     "ename": "TypeError",
     "evalue": "an integer is required",
     "output_type": "error",
     "traceback": [
      "\u001b[1;31m---------------------------------------------------------------------------\u001b[0m",
      "\u001b[1;31mTypeError\u001b[0m                                 Traceback (most recent call last)",
      "\u001b[1;32m<ipython-input-18-d42a41956a97>\u001b[0m in \u001b[0;36m<module>\u001b[1;34m()\u001b[0m\n\u001b[1;32m----> 1\u001b[1;33m \u001b[0mgetCriticalInning\u001b[0m\u001b[1;33m(\u001b[0m\u001b[1;34m'20160702'\u001b[0m\u001b[1;33m,\u001b[0m\u001b[1;34m'KIA'\u001b[0m\u001b[1;33m)\u001b[0m\u001b[1;33m\u001b[0m\u001b[0m\n\u001b[0m",
      "\u001b[1;32m<ipython-input-7-7eed39420175>\u001b[0m in \u001b[0;36mgetCriticalInning\u001b[1;34m(date, awayTeam)\u001b[0m\n\u001b[0;32m      6\u001b[0m        \u001b[0mmonth\u001b[0m\u001b[1;33m=\u001b[0m\u001b[0mdate\u001b[0m\u001b[1;33m[\u001b[0m\u001b[1;36m4\u001b[0m\u001b[1;33m:\u001b[0m\u001b[1;36m6\u001b[0m\u001b[1;33m]\u001b[0m\u001b[1;33m\u001b[0m\u001b[0m\n\u001b[0;32m      7\u001b[0m        \u001b[0mday\u001b[0m\u001b[1;33m=\u001b[0m\u001b[0mint\u001b[0m\u001b[1;33m(\u001b[0m\u001b[0mdate\u001b[0m\u001b[1;33m[\u001b[0m\u001b[1;36m6\u001b[0m\u001b[1;33m:\u001b[0m\u001b[1;36m8\u001b[0m\u001b[1;33m]\u001b[0m\u001b[1;33m)\u001b[0m\u001b[1;33m\u001b[0m\u001b[0m\n\u001b[1;32m----> 8\u001b[1;33m        \u001b[0mdayCount\u001b[0m\u001b[1;33m=\u001b[0m\u001b[0mdatetime\u001b[0m\u001b[1;33m.\u001b[0m\u001b[0mdate\u001b[0m\u001b[1;33m.\u001b[0m\u001b[0mtoday\u001b[0m\u001b[1;33m(\u001b[0m\u001b[1;33m)\u001b[0m\u001b[1;33m-\u001b[0m\u001b[0mdatetime\u001b[0m\u001b[1;33m.\u001b[0m\u001b[0mdate\u001b[0m\u001b[1;33m(\u001b[0m\u001b[0myear\u001b[0m\u001b[1;33m,\u001b[0m\u001b[0mmonth\u001b[0m\u001b[1;33m,\u001b[0m\u001b[0mday\u001b[0m\u001b[1;33m)\u001b[0m\u001b[1;33m\u001b[0m\u001b[0m\n\u001b[0m\u001b[0;32m      9\u001b[0m        \u001b[0mdayCount\u001b[0m\u001b[1;33m=\u001b[0m\u001b[0mdayCount\u001b[0m\u001b[1;33m.\u001b[0m\u001b[0mdays\u001b[0m\u001b[1;33m\u001b[0m\u001b[0m\n\u001b[0;32m     10\u001b[0m \u001b[1;33m\u001b[0m\u001b[0m\n",
      "\u001b[1;31mTypeError\u001b[0m: an integer is required"
     ]
    }
   ],
   "source": [
    "getCriticalInning('20160702','KIA')"
   ]
  },
  {
   "cell_type": "code",
   "execution_count": null,
   "metadata": {
    "collapsed": true
   },
   "outputs": [],
   "source": []
  }
 ],
 "metadata": {
  "kernelspec": {
   "display_name": "Python 2",
   "language": "python",
   "name": "python2"
  },
  "language_info": {
   "codemirror_mode": {
    "name": "ipython",
    "version": 2
   },
   "file_extension": ".py",
   "mimetype": "text/x-python",
   "name": "python",
   "nbconvert_exporter": "python",
   "pygments_lexer": "ipython2",
   "version": "2.7.10"
  }
 },
 "nbformat": 4,
 "nbformat_minor": 0
}
