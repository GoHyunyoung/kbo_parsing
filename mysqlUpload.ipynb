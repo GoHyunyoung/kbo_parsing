{
 "cells": [
  {
   "cell_type": "code",
   "execution_count": 1,
   "metadata": {
    "collapsed": false
   },
   "outputs": [],
   "source": [
    "# -*- coding: utf-8 -*-\n",
    "from bs4 import BeautifulSoup\n",
    "from hanspell import spell_checker\n",
    "from selenium import webdriver\n",
    "from BoxScoreParser import BoxScoreParser\n",
    "from UrlParser import UrlParser\n",
    "from sklearn import tree\n",
    "from sklearn.externals.six import StringIO\n",
    "\n",
    "import pandas as pd\n",
    "import numpy as np\n",
    "import MySQLdb\n",
    "import random\n",
    "import datetime\n",
    "import urllib2\n",
    "import os"
   ]
  },
  {
   "cell_type": "code",
   "execution_count": 2,
   "metadata": {
    "collapsed": false
   },
   "outputs": [],
   "source": [
    "# DecisionTree - 서두\n",
    "path_INTRO = './DecisionLearning//DecisionTree_sample.csv'\n",
    "df_INTRO = pd.read_csv(path_INTRO,index_col=None,header=None,names=['1H','2H','3H','4H','5H','6H','7H','8H','9H','10H','11H','12H','sum','context'])\n",
    "score_INTRO = np.array(df_INTRO.reindex(columns=['1H','2H','3H','4H','5H','6H','7H','8H','9H','10H','11H','12H','sum']))\n",
    "context_INTRO = np.array(df_INTRO.get('context'))\n",
    "context_sen_INTRO = [' ','승리하였다.','접전끝에 승리를 하였다.','역전에 성공했다.','완승을 하였다.','무승부로 끝이났다.','영봉승을 하였다.']\n",
    "clf_INTRO = tree.DecisionTreeClassifier(criterion='entropy')\n",
    "clf_INTRO = clf_INTRO.fit(score_INTRO,context_INTRO)\n",
    "\n",
    "# DecisionTree - 투수\n",
    "path_MVP_PITCHER = './DecisionLearning/MVP_Pitcher_sample.csv'\n",
    "df_MVP_PITCHER = pd.read_csv(path_MVP_PITCHER,index_col=None,header=None,names=['ERA','BN','H','SO','context'])\n",
    "score_MVP_PITCHER = np.array(df_MVP_PITCHER.reindex(columns=['ERA','BN','H','SO']))\n",
    "context_MVP_PITCHER = np.array(df_MVP_PITCHER.get('context'))\n",
    "clf_MVP_PITCHER = tree.DecisionTreeClassifier(criterion='entropy')\n",
    "clf_MVP_PITCHER = clf_MVP_PITCHER.fit(score_MVP_PITCHER,context_MVP_PITCHER)"
   ]
  },
  {
   "cell_type": "code",
   "execution_count": 3,
   "metadata": {
    "collapsed": true
   },
   "outputs": [],
   "source": [
    "def writeDate(url):    \n",
    "    date=bxsParser.date[4:6]+u\"월\"+bxsParser.date[6:8]+u\"일\"+bxsParser.date[8:]\n",
    "    return date"
   ]
  },
  {
   "cell_type": "code",
   "execution_count": 4,
   "metadata": {
    "collapsed": true
   },
   "outputs": [],
   "source": [
    "def writeHead(url,contextClassifier,bxsParser):\n",
    "\n",
    "    # HEAD\n",
    "    HEAD=u'at ascore vs ht hscore'\n",
    "    HEAD=HEAD.replace('at',bxsParser.a_team)\n",
    "    HEAD=HEAD.replace('ht',bxsParser.h_team)\n",
    "    HEAD=HEAD.replace('hscore',str(bxsParser.h_score[12]))\n",
    "    HEAD=HEAD.replace('ascore',str(bxsParser.a_score[12]))\n",
    "    \n",
    "    return HEAD"
   ]
  },
  {
   "cell_type": "code",
   "execution_count": 5,
   "metadata": {
    "collapsed": true
   },
   "outputs": [],
   "source": [
    "def getClassifier(url):\n",
    "    return clf_INTRO.predict([x-y for x,y in zip(bxsParser.h_score[:13],bxsParser.a_score[:13])])[0]"
   ]
  },
  {
   "cell_type": "code",
   "execution_count": 6,
   "metadata": {
    "collapsed": true
   },
   "outputs": [],
   "source": [
    "def writeIntro(url,contextClassifier,bxsParser):\n",
    "    MVP_PITCHER=None\n",
    "    \n",
    "    sentences1=(\n",
    "        u'winTeam는 date stadium 경기장에서 열린 loseTeam와의 경기에서 ascore-hscore 으로 context',\n",
    "        u'date stadium에서 열린 at와 ht와의 경기에서 ascore-hscore로 winTeam이 context',\n",
    "        u'at와 ht의 경기가 date stadium에서 있었던 오늘 at는 ascore, ht는 hscore로 winTeam가 경기에서 context',\n",
    "        u'date stadium에서 있었던 at와 ht와의 경기, winTeam이 winScore loseTeam이 loseScore로 winTeam이 context',\n",
    "    )\n",
    "    sentences2=(\n",
    "        u'이날 경기에서 mvp_pitcher가 투구수NP 피안타H 의 기록을 보여주며 호투를 하였다.',\n",
    "        u'이번 경기에서 winTeam의  mvp_pitcher가 INN이닝을 호투하며, R실점 SO삼진을 잡아내며 승리를 이끌었다.'\n",
    "    )\n",
    "    \n",
    "    # INTRO1\n",
    "    INTRO1=sentences1[random.randint(0,len(sentences1)-1)]\n",
    "    INTRO1=INTRO1.replace('winTeam',bxsParser.winTeam)\n",
    "    INTRO1=INTRO1.replace('loseTeam',bxsParser.loseTeam)\n",
    "    INTRO1=INTRO1.replace('winScore',str(bxsParser.winScore))\n",
    "    INTRO1=INTRO1.replace('loseScore',str(bxsParser.loseScore))\n",
    "    INTRO1=INTRO1.replace('stadium',bxsParser.stadium)\n",
    "    INTRO1=INTRO1.replace('hscore',str(bxsParser.h_score[12]))\n",
    "    INTRO1=INTRO1.replace('ascore',str(bxsParser.a_score[12]))\n",
    "    INTRO1=INTRO1.replace('date',bxsParser.date)\n",
    "    INTRO1=INTRO1.replace('ht',bxsParser.h_team)\n",
    "    INTRO1=INTRO1.replace('at',bxsParser.a_team)    \n",
    "    \n",
    "    # INTRO-context\n",
    "    #'context' -> exception_case(무승부)\n",
    "    if bxsParser.h_score[12]==bxsParser.a_score[12]:\n",
    "        INTRO1=INTRO1.replace('context',context_sen_INTRO[5].decode('utf-8'))    \n",
    "    #'context' -> exception_case(영봉승)\n",
    "    elif bxsParser.h_score[12]==0 or bxsParser.a_score[12]==0:\n",
    "        INTRO1=INTRO1.replace('context',context_sen_INTRO[6].decode('utf-8'))    \n",
    "    #'context'-> 나머지의 경우\n",
    "    else:\n",
    "        INTRO1=INTRO1.replace('context',context_sen_INTRO[getClassifier(url)].decode('utf-8'))\n",
    "        \n",
    "#     #HOME팀이 이긴 경우 승리->패배\n",
    "#     if bxsParser.a_score[12] < bxsParser.h_score[12]:\n",
    "#         INTRO1=INTRO1.replace(u'승리',u'패배')\n",
    "#         INTRO1=INTRO1.replace(u'성공',u'실패')\n",
    "#         INTRO1=INTRO1.replace(u'완승',u'완패')\n",
    "#         INTRO1=INTRO1.replace(u'영봉승',u'영봉패')\n",
    "\n",
    "#     이날 경기를 승리로 이끈 MVP_PITCHER는 +\n",
    "#     date.encode('utf8')\n",
    "#     head.encode('utf8')\n",
    "#     pre.encode('utf8')\n",
    "#     url.encode('utf8')\n",
    "    \n",
    "    # MVP_PITCHER\n",
    "    for row in range(len(bxsParser.winTeam_pitRecord)):\n",
    "        ERA=bxsParser.winTeam_pitRecord[u'평균자책점'][row]\n",
    "        if type(ERA)==float:\n",
    "            ERA=float(ERA)\n",
    "        else:\n",
    "            ERA=0\n",
    "        BN=int(bxsParser.winTeam_pitRecord[u'타자'][row])\n",
    "        H=int(bxsParser.winTeam_pitRecord[u'피안타'][row])\n",
    "        SO=int(bxsParser.winTeam_pitRecord[u'삼진'][row])\n",
    "        arr=np.array([ERA,BN,H,SO])\n",
    "                       \n",
    "        INTRO2=''\n",
    "        if clf_MVP_PITCHER.predict(arr)[0]:\n",
    "            MVP_PITCHER=bxsParser.winTeam_pitRecord[u'선수명'][row] \n",
    "            #INTRO2\n",
    "            INTRO2=sentences2[random.randint(0,len(sentences2)-1)]\n",
    "            INTRO2=INTRO2.replace('winTeam',bxsParser.winTeam)\n",
    "            INTRO2=INTRO2.replace('mvp_pitcher',bxsParser.winTeam_pitRecord.iloc[row][u'선수명'])\n",
    "            INTRO2=INTRO2.replace('ERA',bxsParser.winTeam_pitRecord.iloc[row][u'평균자책점'])\n",
    "            INTRO2=INTRO2.replace('INN',bxsParser.winTeam_pitRecord.iloc[row][u'이닝'])\n",
    "            INTRO2=INTRO2.replace('BN',bxsParser.winTeam_pitRecord.iloc[row][u'타자'])\n",
    "            INTRO2=INTRO2.replace('NP',bxsParser.winTeam_pitRecord.iloc[row][u'투구수'])\n",
    "            INTRO2=INTRO2.replace('SO',bxsParser.winTeam_pitRecord.iloc[row][u'삼진'])            \n",
    "            INTRO2=INTRO2.replace('ER',bxsParser.winTeam_pitRecord.iloc[row][u'자책'])\n",
    "            INTRO2=INTRO2.replace('R',bxsParser.winTeam_pitRecord.iloc[row][u'실점'])\n",
    "            INTRO2=INTRO2.replace('H',bxsParser.winTeam_pitRecord.iloc[row][u'피안타'])\n",
    "            break\n",
    "            \n",
    "    return INTRO1+INTRO2"
   ]
  },
  {
   "cell_type": "code",
   "execution_count": 7,
   "metadata": {
    "collapsed": true
   },
   "outputs": [],
   "source": [
    "# 결론작성\n",
    "def writeConc(url,contextClassifier,bxsParser):\n",
    "    pass"
   ]
  },
  {
   "cell_type": "code",
   "execution_count": 8,
   "metadata": {
    "collapsed": true
   },
   "outputs": [],
   "source": [
    "def getEmblem(bxsParser):\n",
    "    if bxsParser.winTeam=='삼성':\n",
    "        emblem='SS'\n",
    "    elif bxsParser.winTeam=='한화':\n",
    "        emblem='HH'\n",
    "    elif bxsParser.winTeam=='SK':\n",
    "        emblem='SK'\n",
    "    elif bxsParser.winTeam=='KIA':\n",
    "        emblem='HT'\n",
    "    elif bxsParser.winTeam=='LG':\n",
    "        emblem='LG'\n",
    "    elif bxsParser.winTeam=='두산':\n",
    "        emblem='OB'\n",
    "    elif bxsParser.winTeam=='롯데':\n",
    "        emblem='LT'\n",
    "    elif bxsParser.winTeam=='넥센':\n",
    "        emblem='WO'\n",
    "    elif bxsParser.winTeam=='kt':\n",
    "        emblem='KT'\n",
    "    else:\n",
    "        emblem='NC'\n",
    "    return emblem"
   ]
  },
  {
   "cell_type": "code",
   "execution_count": 9,
   "metadata": {
    "collapsed": false
   },
   "outputs": [],
   "source": [
    " def getCriticalInning(date,awayTeam):\n",
    "#         print date,awayTeam\n",
    "        critical_inning=[]\n",
    "        if os.name=='nt':\n",
    "            browser = webdriver.Chrome(executable_path='./chromedriver.exe')\n",
    "        else:\n",
    "            browser = webdriver.Chrome(executable_path='./chromedriver')\n",
    "\n",
    "        year=date[0:4]        \n",
    "        month=date[4:6]        \n",
    "        day=int(date[6:8])\n",
    "        dayCount=datetime.date.today()-datetime.date(int(year),int(month),day)\n",
    "        dayCount=dayCount.days\n",
    "        \n",
    "        url='http://score.sports.media.daum.net/schedule/baseball/kbo/main.daum?game_year=%s&game_month=%s'%(year,month)\n",
    "        page=urllib2.urlopen(url)\n",
    "        html=BeautifulSoup(page)\n",
    "\n",
    "        s=unicode(html)\n",
    "        date_index=s.find(str.format('<td class=\"time_date\" rowspan=\"5\">%d<span class=\"txt_day\">')%(day))\n",
    "        s=s[date_index:]\n",
    "        \n",
    "        s=s[s.find(awayTeam):]\n",
    "        serial_find_url='http://sports.media.daum.net/sports/gamecenter/'\n",
    "        serial_start_index=s.find(serial_find_url)+len(serial_find_url)\n",
    "        serial=s[serial_start_index:serial_start_index+8]\n",
    "        \n",
    "        url=str.format('http://m.sports.media.daum.net/m/sports/pack/3min/%s?lineup')%(serial)\n",
    "        \n",
    "        browser.get(url)\n",
    "        soup=BeautifulSoup(browser.page_source)\n",
    "        \n",
    "        awayTeam = soup.select('div.awayth:nth-child(1) > div')\n",
    "        sel=soup.select('strong.img_highlight')\n",
    "\n",
    "        for inn in sel:\n",
    "            try:\n",
    "                inningNumber=inn.parent.parent.parent.attrs['data-inning']\n",
    "                topbottom=inn.parent.parent.parent.attrs['data-half']\n",
    "#                 inningNumber가 11이상이면 KBO사이트에서 흐름에 조회가 되지않음\n",
    "                if int(inningNumber)<11:\n",
    "                    critical_inning.append((inningNumber,topbottom))\n",
    "            except :\n",
    "                pass\n",
    "        browser.close()\n",
    "        return critical_inning"
   ]
  },
  {
   "cell_type": "code",
   "execution_count": 20,
   "metadata": {
    "collapsed": false,
    "scrolled": true
   },
   "outputs": [
    {
     "ename": "SyntaxError",
     "evalue": "invalid syntax (<ipython-input-20-ee21e464c581>, line 11)",
     "output_type": "error",
     "traceback": [
      "\u001b[1;36m  File \u001b[1;32m\"<ipython-input-20-ee21e464c581>\"\u001b[1;36m, line \u001b[1;32m11\u001b[0m\n\u001b[1;33m    MAIN3 : about the keyPlayer\u001b[0m\n\u001b[1;37m          ^\u001b[0m\n\u001b[1;31mSyntaxError\u001b[0m\u001b[1;31m:\u001b[0m invalid syntax\n"
     ]
    }
   ],
   "source": [
    "# 본문작성\n",
    "def writeMain(url,contextClassifier,bxsParser):\n",
    "    url=url.replace('BoxScore','Situation')\n",
    "    month=bxsParser.date[4:6]\n",
    "    day=bxsParser.date[6:8]\n",
    "    critical_Inning=getCriticalInning(date='2016'+month+day,awayTeam=unicode(bxsParser.a_team))\n",
    "#     MAIN1 : about critical Inning\n",
    "    MAIN1=u''\n",
    "#     MAIN2 : about the flow of critical Inning\n",
    "    MAIN2=u''\n",
    "#     MAIN3 : about the keyPlayer(batter)\n",
    "    MAIN3=u''\n",
    "    \n",
    "    sen=u''\n",
    "#     no critical Inning\n",
    "    if len(critical_Inning)==0:\n",
    "        sen+=u'결정적인 이닝이 없던 무난한 경기였다.'\n",
    "#         1 or more critical Exist\n",
    "    else:\n",
    "        inning=','.join([inn[0] for inn in critical_Inning])\n",
    "        sen+=u'승부는 inning이닝에서 갈리게 되었다.'\n",
    "        sen=sen.replace('inning',inning)\n",
    "#         MAIN1 made\n",
    "    MAIN1+=sen\n",
    "\n",
    "    for inn in critical_Inning:\n",
    "#         open All Of Flow\n",
    "        data=urllib2.urlopen(url+'#sms11')\n",
    "        html=BeautifulSoup(data)\n",
    "        cri=str.format('div.situation div#sms%02d > table'%(int(inn[0])))\n",
    "#                              first = AWAY WIN\n",
    "        if inn[1]=='first':\n",
    "            cri=html.select(cri)[0]\n",
    "#                              second= HOME WIN\n",
    "        else:\n",
    "            cri=html.select(cri)[1]\n",
    "        \n",
    "        hitContextList=[u'안타',u'루타',u'홈런']\n",
    "        tmphitList=[]\n",
    "        hitList=[]\n",
    "        for line in cri.text.splitlines():\n",
    "            line = line.strip()\n",
    "            if line!='':\n",
    "                tmphitList.append(line)\n",
    "        for sen in tmphitList[2:]:\n",
    "            hitList.append(sen.split(' ',2)[2])\n",
    "            \n",
    "        for sen in hitList:\n",
    "            for context in hitContextList:\n",
    "                if context in sen:\n",
    "                    player=unicode(sen.split(' ',1)[0])\n",
    "                    action=unicode(sen.split(' ',1)[1])\n",
    "                    ex_sen=u'player의 action,'\n",
    "                    ex_sen=ex_sen.replace(u'player',player) \n",
    "                    ex_sen=ex_sen.replace(u'action',action)\n",
    "                    MAIN2+=ex_sen\n",
    "                    \n",
    "        MAIN2+='등이 bxsParser.winTeam의 승리에 큰 기여를 하였다.'\n",
    "        MAIN2=MAIN2.replace('bxsParser.winTeam',bxsParser.winTeam)\n",
    "                \n",
    "            \n",
    "    return MAIN1+MAIN2"
   ]
  },
  {
   "cell_type": "code",
   "execution_count": 54,
   "metadata": {
    "collapsed": false
   },
   "outputs": [],
   "source": [
    "year=bxsParser.date[:4]\n",
    "month=bxsParser.date[4:6]\n",
    "day=bxsParser.date[6:8]\n",
    "html=BeautifulSoup(data)\n",
    "\n",
    "if os.name=='nt':\n",
    "    browser = webdriver.Chrome(executable_path='./chromedriver.exe')\n",
    "else:\n",
    "    browser = webdriver.Chrome(executable_path='./chromedriver')\n",
    "\n",
    "\n",
    "url='http://score.sports.media.daum.net/schedule/baseball/kbo/main.daum?game_year=%s&game_month=%s'%(year,month)\n",
    "page=urllib2.urlopen(url)\n",
    "html=BeautifulSoup(page)\n",
    "\n",
    "s=unicode(html)\n",
    "date_index=s.find(str.format('<td class=\"time_date\" rowspan=\"5\">%d<span class=\"txt_day\">')%(int(day)))\n",
    "s=s[date_index:]\n",
    "\n",
    "s=s[s.find(bxsParser.a_team):]\n",
    "serial_find_url='http://sports.media.daum.net/sports/gamecenter/'\n",
    "serial_start_index=s.find(serial_find_url)+len(serial_find_url)\n",
    "serial=s[serial_start_index:serial_start_index+8]\n",
    "\n",
    "url=str.format('http://m.sports.media.daum.net/m/sports/pack/3min/%s?lineup')%(serial)\n",
    "\n",
    "browser.get(url)\n",
    "soup=BeautifulSoup(browser.page_source)\n",
    "sel=soup.select('td.key-player')\n",
    "# for keyPlayer in sel:\n",
    "\n",
    "browser.close()"
   ]
  },
  {
   "cell_type": "code",
   "execution_count": 58,
   "metadata": {
    "collapsed": false
   },
   "outputs": [],
   "source": [
    "sel=soup.select('td.key-player~td')"
   ]
  },
  {
   "cell_type": "code",
   "execution_count": 59,
   "metadata": {
    "collapsed": false
   },
   "outputs": [
    {
     "data": {
      "text/plain": [
       "[]"
      ]
     },
     "execution_count": 59,
     "metadata": {},
     "output_type": "execute_result"
    }
   ],
   "source": [
    "sel"
   ]
  },
  {
   "cell_type": "code",
   "execution_count": 53,
   "metadata": {
    "collapsed": false
   },
   "outputs": [
    {
     "data": {
      "text/plain": [
       "[<span class=\"key_player_mark\">\\ud0a4\\ud50c\\ub808\\uc774\\uc5b4</span>,\n",
       " <span class=\"key_player_mark\">\\ud0a4\\ud50c\\ub808\\uc774\\uc5b4</span>]"
      ]
     },
     "execution_count": 53,
     "metadata": {},
     "output_type": "execute_result"
    }
   ],
   "source": [
    "sel"
   ]
  },
  {
   "cell_type": "code",
   "execution_count": 50,
   "metadata": {
    "collapsed": false
   },
   "outputs": [
    {
     "ename": "AttributeError",
     "evalue": "'list' object has no attribute 'text'",
     "output_type": "error",
     "traceback": [
      "\u001b[1;31m---------------------------------------------------------------------------\u001b[0m",
      "\u001b[1;31mAttributeError\u001b[0m                            Traceback (most recent call last)",
      "\u001b[1;32m<ipython-input-50-be7de44fa8d1>\u001b[0m in \u001b[0;36m<module>\u001b[1;34m()\u001b[0m\n\u001b[0;32m      1\u001b[0m \u001b[1;32mfor\u001b[0m \u001b[0mk\u001b[0m \u001b[1;32min\u001b[0m \u001b[0msel\u001b[0m\u001b[1;33m:\u001b[0m\u001b[1;33m\u001b[0m\u001b[0m\n\u001b[1;32m----> 2\u001b[1;33m     \u001b[1;32mprint\u001b[0m \u001b[1;33m(\u001b[0m\u001b[0mk\u001b[0m\u001b[1;33m.\u001b[0m\u001b[0mparent\u001b[0m\u001b[1;33m.\u001b[0m\u001b[0mparent\u001b[0m\u001b[1;33m.\u001b[0m\u001b[0mselect\u001b[0m\u001b[1;33m(\u001b[0m\u001b[1;34m'td:nth-of-type(2)'\u001b[0m\u001b[1;33m)\u001b[0m\u001b[1;33m.\u001b[0m\u001b[0mtext\u001b[0m\u001b[1;33m,\u001b[0m\u001b[0mk\u001b[0m\u001b[1;33m.\u001b[0m\u001b[0mparent\u001b[0m\u001b[1;33m.\u001b[0m\u001b[0mparent\u001b[0m\u001b[1;33m.\u001b[0m\u001b[0mselect\u001b[0m\u001b[1;33m(\u001b[0m\u001b[1;34m'td.batting_average'\u001b[0m\u001b[1;33m)\u001b[0m\u001b[1;33m.\u001b[0m\u001b[0mtext\u001b[0m\u001b[1;33m)\u001b[0m\u001b[1;33m\u001b[0m\u001b[0m\n\u001b[0m",
      "\u001b[1;31mAttributeError\u001b[0m: 'list' object has no attribute 'text'"
     ]
    }
   ],
   "source": [
    "for k in sel:\n",
    "    print (k.parent.parent.select('td:nth-of-type(2)').text,k.parent.parent.select('td.batting_average').text)"
   ]
  },
  {
   "cell_type": "code",
   "execution_count": 11,
   "metadata": {
    "collapsed": false
   },
   "outputs": [],
   "source": [
    "searchingDate='20160714'\n",
    "urlParser = UrlParser(searchingDate)"
   ]
  },
  {
   "cell_type": "code",
   "execution_count": 12,
   "metadata": {
    "collapsed": false,
    "scrolled": true
   },
   "outputs": [
    {
     "name": "stderr",
     "output_type": "stream",
     "text": [
      "/home/gohyunyoung98/Enthought/Canopy_64bit/User/lib/python2.7/site-packages/bs4/__init__.py:166: UserWarning: No parser was explicitly specified, so I'm using the best available HTML parser for this system (\"lxml\"). This usually isn't a problem, but if you run this code on another system, or in a different virtual environment, it may use a different parser and behave differently.\n",
      "\n",
      "To get rid of this warning, change this:\n",
      "\n",
      " BeautifulSoup([your markup])\n",
      "\n",
      "to this:\n",
      "\n",
      " BeautifulSoup([your markup], \"lxml\")\n",
      "\n",
      "  markup_type=markup_type))\n",
      "/home/gohyunyoung98/Enthought/Canopy_64bit/User/lib/python2.7/site-packages/sklearn/utils/validation.py:386: DeprecationWarning: Passing 1d arrays as data is deprecated in 0.17 and willraise ValueError in 0.19. Reshape your data either using X.reshape(-1, 1) if your data has a single feature or X.reshape(1, -1) if it contains a single sample.\n",
      "  DeprecationWarning)\n",
      "/home/gohyunyoung98/Enthought/Canopy_64bit/User/lib/python2.7/site-packages/sklearn/utils/validation.py:386: DeprecationWarning: Passing 1d arrays as data is deprecated in 0.17 and willraise ValueError in 0.19. Reshape your data either using X.reshape(-1, 1) if your data has a single feature or X.reshape(1, -1) if it contains a single sample.\n",
      "  DeprecationWarning)\n",
      "/home/gohyunyoung98/Enthought/Canopy_64bit/User/lib/python2.7/site-packages/sklearn/utils/validation.py:386: DeprecationWarning: Passing 1d arrays as data is deprecated in 0.17 and willraise ValueError in 0.19. Reshape your data either using X.reshape(-1, 1) if your data has a single feature or X.reshape(1, -1) if it contains a single sample.\n",
      "  DeprecationWarning)\n",
      "/home/gohyunyoung98/Enthought/Canopy_64bit/User/lib/python2.7/site-packages/sklearn/utils/validation.py:386: DeprecationWarning: Passing 1d arrays as data is deprecated in 0.17 and willraise ValueError in 0.19. Reshape your data either using X.reshape(-1, 1) if your data has a single feature or X.reshape(1, -1) if it contains a single sample.\n",
      "  DeprecationWarning)\n",
      "/home/gohyunyoung98/Enthought/Canopy_64bit/User/lib/python2.7/site-packages/sklearn/utils/validation.py:386: DeprecationWarning: Passing 1d arrays as data is deprecated in 0.17 and willraise ValueError in 0.19. Reshape your data either using X.reshape(-1, 1) if your data has a single feature or X.reshape(1, -1) if it contains a single sample.\n",
      "  DeprecationWarning)\n",
      "/home/gohyunyoung98/Enthought/Canopy_64bit/User/lib/python2.7/site-packages/sklearn/utils/validation.py:386: DeprecationWarning: Passing 1d arrays as data is deprecated in 0.17 and willraise ValueError in 0.19. Reshape your data either using X.reshape(-1, 1) if your data has a single feature or X.reshape(1, -1) if it contains a single sample.\n",
      "  DeprecationWarning)\n",
      "/home/gohyunyoung98/Enthought/Canopy_64bit/User/lib/python2.7/site-packages/sklearn/utils/validation.py:386: DeprecationWarning: Passing 1d arrays as data is deprecated in 0.17 and willraise ValueError in 0.19. Reshape your data either using X.reshape(-1, 1) if your data has a single feature or X.reshape(1, -1) if it contains a single sample.\n",
      "  DeprecationWarning)\n",
      "/home/gohyunyoung98/Enthought/Canopy_64bit/User/lib/python2.7/site-packages/sklearn/utils/validation.py:386: DeprecationWarning: Passing 1d arrays as data is deprecated in 0.17 and willraise ValueError in 0.19. Reshape your data either using X.reshape(-1, 1) if your data has a single feature or X.reshape(1, -1) if it contains a single sample.\n",
      "  DeprecationWarning)\n",
      "/home/gohyunyoung98/Enthought/Canopy_64bit/User/lib/python2.7/site-packages/sklearn/utils/validation.py:386: DeprecationWarning: Passing 1d arrays as data is deprecated in 0.17 and willraise ValueError in 0.19. Reshape your data either using X.reshape(-1, 1) if your data has a single feature or X.reshape(1, -1) if it contains a single sample.\n",
      "  DeprecationWarning)\n",
      "/home/gohyunyoung98/Enthought/Canopy_64bit/User/lib/python2.7/site-packages/sklearn/utils/validation.py:386: DeprecationWarning: Passing 1d arrays as data is deprecated in 0.17 and willraise ValueError in 0.19. Reshape your data either using X.reshape(-1, 1) if your data has a single feature or X.reshape(1, -1) if it contains a single sample.\n",
      "  DeprecationWarning)\n",
      "/home/gohyunyoung98/Enthought/Canopy_64bit/User/lib/python2.7/site-packages/sklearn/utils/validation.py:386: DeprecationWarning: Passing 1d arrays as data is deprecated in 0.17 and willraise ValueError in 0.19. Reshape your data either using X.reshape(-1, 1) if your data has a single feature or X.reshape(1, -1) if it contains a single sample.\n",
      "  DeprecationWarning)\n",
      "/home/gohyunyoung98/Enthought/Canopy_64bit/User/lib/python2.7/site-packages/ipykernel/__main__.py:2: UnicodeWarning: Unicode equal comparison failed to convert both arguments to Unicode - interpreting them as being unequal\n",
      "  from ipykernel import kernelapp as app\n",
      "/home/gohyunyoung98/Enthought/Canopy_64bit/User/lib/python2.7/site-packages/ipykernel/__main__.py:4: UnicodeWarning: Unicode equal comparison failed to convert both arguments to Unicode - interpreting them as being unequal\n",
      "/home/gohyunyoung98/Enthought/Canopy_64bit/User/lib/python2.7/site-packages/ipykernel/__main__.py:12: UnicodeWarning: Unicode equal comparison failed to convert both arguments to Unicode - interpreting them as being unequal\n",
      "/home/gohyunyoung98/Enthought/Canopy_64bit/User/lib/python2.7/site-packages/ipykernel/__main__.py:14: UnicodeWarning: Unicode equal comparison failed to convert both arguments to Unicode - interpreting them as being unequal\n",
      "/home/gohyunyoung98/Enthought/Canopy_64bit/User/lib/python2.7/site-packages/ipykernel/__main__.py:16: UnicodeWarning: Unicode equal comparison failed to convert both arguments to Unicode - interpreting them as being unequal\n",
      "/home/gohyunyoung98/Enthought/Canopy_64bit/User/lib/python2.7/site-packages/sklearn/utils/validation.py:386: DeprecationWarning: Passing 1d arrays as data is deprecated in 0.17 and willraise ValueError in 0.19. Reshape your data either using X.reshape(-1, 1) if your data has a single feature or X.reshape(1, -1) if it contains a single sample.\n",
      "  DeprecationWarning)\n",
      "/home/gohyunyoung98/Enthought/Canopy_64bit/User/lib/python2.7/site-packages/sklearn/utils/validation.py:386: DeprecationWarning: Passing 1d arrays as data is deprecated in 0.17 and willraise ValueError in 0.19. Reshape your data either using X.reshape(-1, 1) if your data has a single feature or X.reshape(1, -1) if it contains a single sample.\n",
      "  DeprecationWarning)\n",
      "/home/gohyunyoung98/Enthought/Canopy_64bit/User/lib/python2.7/site-packages/sklearn/utils/validation.py:386: DeprecationWarning: Passing 1d arrays as data is deprecated in 0.17 and willraise ValueError in 0.19. Reshape your data either using X.reshape(-1, 1) if your data has a single feature or X.reshape(1, -1) if it contains a single sample.\n",
      "  DeprecationWarning)\n",
      "/home/gohyunyoung98/Enthought/Canopy_64bit/User/lib/python2.7/site-packages/sklearn/utils/validation.py:386: DeprecationWarning: Passing 1d arrays as data is deprecated in 0.17 and willraise ValueError in 0.19. Reshape your data either using X.reshape(-1, 1) if your data has a single feature or X.reshape(1, -1) if it contains a single sample.\n",
      "  DeprecationWarning)\n",
      "/home/gohyunyoung98/Enthought/Canopy_64bit/User/lib/python2.7/site-packages/sklearn/utils/validation.py:386: DeprecationWarning: Passing 1d arrays as data is deprecated in 0.17 and willraise ValueError in 0.19. Reshape your data either using X.reshape(-1, 1) if your data has a single feature or X.reshape(1, -1) if it contains a single sample.\n",
      "  DeprecationWarning)\n",
      "/home/gohyunyoung98/Enthought/Canopy_64bit/User/lib/python2.7/site-packages/sklearn/utils/validation.py:386: DeprecationWarning: Passing 1d arrays as data is deprecated in 0.17 and willraise ValueError in 0.19. Reshape your data either using X.reshape(-1, 1) if your data has a single feature or X.reshape(1, -1) if it contains a single sample.\n",
      "  DeprecationWarning)\n",
      "/home/gohyunyoung98/Enthought/Canopy_64bit/User/lib/python2.7/site-packages/sklearn/utils/validation.py:386: DeprecationWarning: Passing 1d arrays as data is deprecated in 0.17 and willraise ValueError in 0.19. Reshape your data either using X.reshape(-1, 1) if your data has a single feature or X.reshape(1, -1) if it contains a single sample.\n",
      "  DeprecationWarning)\n",
      "/home/gohyunyoung98/Enthought/Canopy_64bit/User/lib/python2.7/site-packages/sklearn/utils/validation.py:386: DeprecationWarning: Passing 1d arrays as data is deprecated in 0.17 and willraise ValueError in 0.19. Reshape your data either using X.reshape(-1, 1) if your data has a single feature or X.reshape(1, -1) if it contains a single sample.\n",
      "  DeprecationWarning)\n",
      "/home/gohyunyoung98/Enthought/Canopy_64bit/User/lib/python2.7/site-packages/sklearn/utils/validation.py:386: DeprecationWarning: Passing 1d arrays as data is deprecated in 0.17 and willraise ValueError in 0.19. Reshape your data either using X.reshape(-1, 1) if your data has a single feature or X.reshape(1, -1) if it contains a single sample.\n",
      "  DeprecationWarning)\n",
      "/home/gohyunyoung98/Enthought/Canopy_64bit/User/lib/python2.7/site-packages/sklearn/utils/validation.py:386: DeprecationWarning: Passing 1d arrays as data is deprecated in 0.17 and willraise ValueError in 0.19. Reshape your data either using X.reshape(-1, 1) if your data has a single feature or X.reshape(1, -1) if it contains a single sample.\n",
      "  DeprecationWarning)\n",
      "/home/gohyunyoung98/Enthought/Canopy_64bit/User/lib/python2.7/site-packages/sklearn/utils/validation.py:386: DeprecationWarning: Passing 1d arrays as data is deprecated in 0.17 and willraise ValueError in 0.19. Reshape your data either using X.reshape(-1, 1) if your data has a single feature or X.reshape(1, -1) if it contains a single sample.\n",
      "  DeprecationWarning)\n",
      "/home/gohyunyoung98/Enthought/Canopy_64bit/User/lib/python2.7/site-packages/sklearn/utils/validation.py:386: DeprecationWarning: Passing 1d arrays as data is deprecated in 0.17 and willraise ValueError in 0.19. Reshape your data either using X.reshape(-1, 1) if your data has a single feature or X.reshape(1, -1) if it contains a single sample.\n",
      "  DeprecationWarning)\n",
      "/home/gohyunyoung98/Enthought/Canopy_64bit/User/lib/python2.7/site-packages/sklearn/utils/validation.py:386: DeprecationWarning: Passing 1d arrays as data is deprecated in 0.17 and willraise ValueError in 0.19. Reshape your data either using X.reshape(-1, 1) if your data has a single feature or X.reshape(1, -1) if it contains a single sample.\n",
      "  DeprecationWarning)\n",
      "/home/gohyunyoung98/Enthought/Canopy_64bit/User/lib/python2.7/site-packages/sklearn/utils/validation.py:386: DeprecationWarning: Passing 1d arrays as data is deprecated in 0.17 and willraise ValueError in 0.19. Reshape your data either using X.reshape(-1, 1) if your data has a single feature or X.reshape(1, -1) if it contains a single sample.\n",
      "  DeprecationWarning)\n",
      "/home/gohyunyoung98/Enthought/Canopy_64bit/User/lib/python2.7/site-packages/sklearn/utils/validation.py:386: DeprecationWarning: Passing 1d arrays as data is deprecated in 0.17 and willraise ValueError in 0.19. Reshape your data either using X.reshape(-1, 1) if your data has a single feature or X.reshape(1, -1) if it contains a single sample.\n",
      "  DeprecationWarning)\n",
      "/home/gohyunyoung98/Enthought/Canopy_64bit/User/lib/python2.7/site-packages/sklearn/utils/validation.py:386: DeprecationWarning: Passing 1d arrays as data is deprecated in 0.17 and willraise ValueError in 0.19. Reshape your data either using X.reshape(-1, 1) if your data has a single feature or X.reshape(1, -1) if it contains a single sample.\n",
      "  DeprecationWarning)\n",
      "/home/gohyunyoung98/Enthought/Canopy_64bit/User/lib/python2.7/site-packages/sklearn/utils/validation.py:386: DeprecationWarning: Passing 1d arrays as data is deprecated in 0.17 and willraise ValueError in 0.19. Reshape your data either using X.reshape(-1, 1) if your data has a single feature or X.reshape(1, -1) if it contains a single sample.\n",
      "  DeprecationWarning)\n",
      "/home/gohyunyoung98/Enthought/Canopy_64bit/User/lib/python2.7/site-packages/sklearn/utils/validation.py:386: DeprecationWarning: Passing 1d arrays as data is deprecated in 0.17 and willraise ValueError in 0.19. Reshape your data either using X.reshape(-1, 1) if your data has a single feature or X.reshape(1, -1) if it contains a single sample.\n",
      "  DeprecationWarning)\n",
      "/home/gohyunyoung98/Enthought/Canopy_64bit/User/lib/python2.7/site-packages/sklearn/utils/validation.py:386: DeprecationWarning: Passing 1d arrays as data is deprecated in 0.17 and willraise ValueError in 0.19. Reshape your data either using X.reshape(-1, 1) if your data has a single feature or X.reshape(1, -1) if it contains a single sample.\n",
      "  DeprecationWarning)\n",
      "/home/gohyunyoung98/Enthought/Canopy_64bit/User/lib/python2.7/site-packages/sklearn/utils/validation.py:386: DeprecationWarning: Passing 1d arrays as data is deprecated in 0.17 and willraise ValueError in 0.19. Reshape your data either using X.reshape(-1, 1) if your data has a single feature or X.reshape(1, -1) if it contains a single sample.\n",
      "  DeprecationWarning)\n",
      "/home/gohyunyoung98/Enthought/Canopy_64bit/User/lib/python2.7/site-packages/sklearn/utils/validation.py:386: DeprecationWarning: Passing 1d arrays as data is deprecated in 0.17 and willraise ValueError in 0.19. Reshape your data either using X.reshape(-1, 1) if your data has a single feature or X.reshape(1, -1) if it contains a single sample.\n",
      "  DeprecationWarning)\n",
      "/home/gohyunyoung98/Enthought/Canopy_64bit/User/lib/python2.7/site-packages/sklearn/utils/validation.py:386: DeprecationWarning: Passing 1d arrays as data is deprecated in 0.17 and willraise ValueError in 0.19. Reshape your data either using X.reshape(-1, 1) if your data has a single feature or X.reshape(1, -1) if it contains a single sample.\n",
      "  DeprecationWarning)\n",
      "/home/gohyunyoung98/Enthought/Canopy_64bit/User/lib/python2.7/site-packages/sklearn/utils/validation.py:386: DeprecationWarning: Passing 1d arrays as data is deprecated in 0.17 and willraise ValueError in 0.19. Reshape your data either using X.reshape(-1, 1) if your data has a single feature or X.reshape(1, -1) if it contains a single sample.\n",
      "  DeprecationWarning)\n"
     ]
    }
   ],
   "source": [
    "# MySQL conf\n",
    "con=MySQLdb.connect(host='218.150.181.131',user='root',passwd='1234',db='link10th',charset='utf8', use_unicode=True)\n",
    "\n",
    "for url in urlParser.urlList:\n",
    "    bxsParser=BoxScoreParser(url)\n",
    "    date=writeDate(url)\n",
    "    contextClassifier=getClassifier(url)\n",
    "    Head=writeHead(url,contextClassifier,bxsParser)\n",
    "    Intro=writeIntro(url,contextClassifier,bxsParser)\n",
    "    Main=writeMain(url,contextClassifier,bxsParser)\n",
    "#     Conc=writeConc(url,contextClassifier,bxsParser)\n",
    "    emblem=getEmblem(bxsParser)\n",
    "    \n",
    "    #교정부분\n",
    "    Head = spell_checker.check(Head)\n",
    "    Intro = spell_checker.check(Intro)\n",
    "    Main = spell_checker.check(Main)\n",
    "#     Conc = spell_checker.check(Conc)\n",
    "    Head = Head.checked\n",
    "    Intro = Intro.checked\n",
    "    Main = Main.checked\n",
    "#     Conc = Conc.checked\n",
    "     \n",
    "    cursor=con.cursor()\n",
    "    cursor.execute(\n",
    "    '''\n",
    "    INSERT INTO Article(date,Head,Intro,Main,url,emblem)\n",
    "    VALUES (\\'%s\\',\\'%s\\',\\'%s\\',\\'%s\\',\\'%s\\',\\'%s\\')\n",
    "    '''\n",
    "    %(date,Head,Intro,Main,url,emblem))\n",
    "\n",
    "    # MySQL disconnect\n",
    "    con.commit()\n",
    "    cursor.close()\n",
    "con.close()"
   ]
  }
 ],
 "metadata": {
  "kernelspec": {
   "display_name": "Python 2",
   "language": "python",
   "name": "python2"
  },
  "language_info": {
   "codemirror_mode": {
    "name": "ipython",
    "version": 2
   },
   "file_extension": ".py",
   "mimetype": "text/x-python",
   "name": "python",
   "nbconvert_exporter": "python",
   "pygments_lexer": "ipython2",
   "version": "2.7.11"
  }
 },
 "nbformat": 4,
 "nbformat_minor": 0
}
