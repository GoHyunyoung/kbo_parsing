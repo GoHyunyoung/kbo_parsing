{
 "cells": [
  {
   "cell_type": "code",
   "execution_count": 2,
   "metadata": {
    "collapsed": true
   },
   "outputs": [],
   "source": [
    "# -*- coding: utf-8 -*-\n",
    "from bs4 import BeautifulSoup\n",
    "import sys\n",
    "import urllib2"
   ]
  },
  {
   "cell_type": "code",
   "execution_count": 3,
   "metadata": {
    "collapsed": false
   },
   "outputs": [],
   "source": [
    "#날짜와 AWAY팀이름을 넣으면 url상의 serial을 반환\n",
    "class SerialParserForDaumKBO:\n",
    "    def __init__(self,date,awayTeam):\n",
    "        year=date[:4]\n",
    "        month=date[4:4+2]\n",
    "        day=date[4+2:(4+2)+2]\n",
    "        \n",
    "        url='http://score.sports.media.daum.net/schedule/baseball/kbo/main.daum?game_year=%s&game_month=%s'%(year,month)\n",
    "        page=urllib2.urlopen(url)\n",
    "        html=BeautifulSoup(page)\n",
    "        s=unicode(html)\n",
    "        date_index=s.find(str.format('<td class=\"time_date\" rowspan=\"5\">%d<span class=\"txt_day\">'%(int(day))))\n",
    "        \n",
    "#         찾는 데이터가 없을때\n",
    "        if date_index==-1:\n",
    "            sys.stderr.write('******* Cannot found Game with date : %s awayTeam : %s data******* '%(date,awayTeam))\n",
    "            return None\n",
    "        \n",
    "        s=s[date_index:]\n",
    "        \n",
    "        s=s[s.find(awayTeam):]\n",
    "        serial_find_url='http://sports.media.daum.net/sports/gamecenter/'\n",
    "        serial_start_index=s.find(serial_find_url)+len(serial_find_url)\n",
    "        serial=s[serial_start_index:serial_start_index+8]\n",
    "        self.serial=serial\n",
    "        \n",
    "    def getSerial(self):\n",
    "        return self.serial"
   ]
  }
 ],
 "metadata": {
  "kernelspec": {
   "display_name": "Python 2",
   "language": "python",
   "name": "python2"
  },
  "language_info": {
   "codemirror_mode": {
    "name": "ipython",
    "version": 2
   },
   "file_extension": ".py",
   "mimetype": "text/x-python",
   "name": "python",
   "nbconvert_exporter": "python",
   "pygments_lexer": "ipython2",
   "version": "2.7.11"
  }
 },
 "nbformat": 4,
 "nbformat_minor": 0
}
