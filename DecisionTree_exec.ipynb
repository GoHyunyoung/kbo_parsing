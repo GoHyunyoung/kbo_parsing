{
 "cells": [
  {
   "cell_type": "code",
   "execution_count": 3,
   "metadata": {
    "collapsed": false
   },
   "outputs": [],
   "source": [
    "# -*- coding: utf-8 -*-\n",
    "import pandas as pd\n",
    "import numpy as np\n",
    "import urllib\n",
    "\n",
    "from BoxScoreParser import BoxScoreParser\n",
    "from UrlParser import UrlParser\n",
    "from bs4 import BeautifulSoup\n",
    "from sklearn import tree\n",
    "from sklearn.externals.six import StringIO"
   ]
  },
  {
   "cell_type": "code",
   "execution_count": 4,
   "metadata": {
    "collapsed": false
   },
   "outputs": [
    {
     "data": {
      "text/plain": [
       "array([1, 1, 1, ..., 1, 3, 3])"
      ]
     },
     "execution_count": 4,
     "metadata": {},
     "output_type": "execute_result"
    }
   ],
   "source": [
    "path = './ScoreCase/DecisionTree_sample.csv'\n",
    "df = pd.read_csv(path,index_col=None,header=None,\n",
    "                 names=['1H','2H','3H','4H','5H','6H','7H','8H','9H','10H','11H','12H','sum',\n",
    "                        'context'])\n",
    "\n",
    "score = np.array(df.reindex(columns=['1H','2H','3H','4H','5H','6H','7H','8H','9H','10H','11H','12H','sum']))\n",
    "                        \n",
    "context = np.array(df.get('context'))\n",
    "context_sen = [' ',\n",
    "               '승리하였다.',\n",
    "               '접전끝에 승리를 하였다.',\n",
    "               '역전에 성공했다.',\n",
    "               '완승을 하였다.',\n",
    "               '무승부로 끝이났다.',\n",
    "               '영봉승을 하였다.']\n",
    "\n",
    "clf = tree.DecisionTreeClassifier(criterion='entropy')\n",
    "clf = clf.fit(score,context)\n",
    "clf.predict(np.array(score))"
   ]
  },
  {
   "cell_type": "code",
   "execution_count": 5,
   "metadata": {
    "collapsed": true
   },
   "outputs": [],
   "source": [
    "# scoreBoard=[0,0,0,0,0,0,0,0,0,0,0,0,0]\n",
    "\n",
    "# import random\n",
    "# cnt=3\n",
    "# for x in range(10):\n",
    "#     for y in range(cnt):\n",
    "#         scoreBoard[random.randint(0,8)]=random.randint(-6,6)  \n",
    "#     for y in range(cnt):\n",
    "#         scoreBoard[random.randint(0,12)]=0\n",
    "#     scoreBoard[12]=sum(scoreBoard[0:12])\n",
    "#     print scoreBoard[:13]\n",
    "#     print context_sen[clf.predict(np.array(scoreBoard))]"
   ]
  },
  {
   "cell_type": "code",
   "execution_count": 7,
   "metadata": {
    "collapsed": false,
    "scrolled": false
   },
   "outputs": [],
   "source": [
    "date=20160508\n",
    "urlParser = UrlParser(date)\n",
    "for url in urlParser.urlList:\n",
    "    bxsParser = BoxScoreParser(url)\n",
    "    sen=u'ht는 date stadium에서 열린 at와의 경기에서 hscore-ascore으로 context'\n",
    "    sen.replace('ht',bxsParser.h_team)\n",
    "    sen.replace('ht',bxsParser.date)\n",
    "    sen.replace('ht',bxs.h_team)\n",
    "    sen.replace('ht',bxs.h_team)\n",
    "    sen.replace('ht',bxs.h_team)\n",
    "    sen.replace('ht',bxs.h_team)\n",
    "    sen.replace('ht',bxs.h_team)\n",
    "    sen.replacee(ht.h_team,\n",
    "                 bxsParser.date,\\\n",
    "      bxsParser.stadium,\\\n",
    "      bxsParser.a_team,\\\n",
    "      bxsParser.h_score[-4],\\\n",
    "      bxsParser.a_score[-4],\\\n",
    "      context_sen[clf.predict([x-y for x,y in zip(bxsParser.h_score[:13],bxsParser.a_score[:13])])].decode('utf-8'))"
   ]
  },
  {
   "cell_type": "code",
   "execution_count": 12,
   "metadata": {
    "collapsed": false,
    "scrolled": true
   },
   "outputs": [
    {
     "name": "stdout",
     "output_type": "stream",
     "text": [
      "한화는 date stadium에서 열린 at와의 경기에서 hscore-ascore으로 context\n"
     ]
    }
   ],
   "source": [
    "print sen.replace('ht',u'한화').replace('stadium',)"
   ]
  },
  {
   "cell_type": "code",
   "execution_count": 1,
   "metadata": {
    "collapsed": false,
    "scrolled": true
   },
   "outputs": [
    {
     "name": "stderr",
     "output_type": "stream",
     "text": [
      "/usr/lib/python2.7/dist-packages/bs4/__init__.py:166: UserWarning: No parser was explicitly specified, so I'm using the best available HTML parser for this system (\"lxml\"). This usually isn't a problem, but if you run this code on another system, or in a different virtual environment, it may use a different parser and behave differently.\n",
      "\n",
      "To get rid of this warning, change this:\n",
      "\n",
      " BeautifulSoup([your markup])\n",
      "\n",
      "to this:\n",
      "\n",
      " BeautifulSoup([your markup], \"lxml\")\n",
      "\n",
      "  markup_type=markup_type))\n"
     ]
    },
    {
     "data": {
      "text/plain": [
       "0    4\n",
       "1    0\n",
       "2    0\n",
       "3    0\n",
       "Name: 피안타, dtype: object"
      ]
     },
     "execution_count": 1,
     "metadata": {},
     "output_type": "execute_result"
    }
   ],
   "source": [
    "import pandas as pd\n",
    "import numpy as np\n",
    "import urllib\n",
    "\n",
    "from BoxScoreParser import BoxScoreParser\n",
    "from UrlParser import UrlParser\n",
    "from bs4 import BeautifulSoup\n",
    "from sklearn import tree\n",
    "from sklearn.externals.six import StringIO\n",
    "\n",
    "date=20160508\n",
    "urlParser = UrlParser(date)\n",
    "for url in urlParser.urlList:\n",
    "    bxsParser = BoxScoreParser(url)\n",
    "bxsParser.h_pitRecord[u'피안타']"
   ]
  },
  {
   "cell_type": "code",
   "execution_count": 43,
   "metadata": {
    "collapsed": false
   },
   "outputs": [
    {
     "data": {
      "text/html": [
       "<div>\n",
       "<table border=\"1\" class=\"dataframe\">\n",
       "  <thead>\n",
       "    <tr style=\"text-align: right;\">\n",
       "      <th></th>\n",
       "      <th>선수명</th>\n",
       "      <th>등판</th>\n",
       "      <th>결과</th>\n",
       "      <th>승</th>\n",
       "      <th>패</th>\n",
       "      <th>세</th>\n",
       "      <th>이닝</th>\n",
       "      <th>타자</th>\n",
       "      <th>투구수</th>\n",
       "      <th>타수</th>\n",
       "      <th>피안타</th>\n",
       "      <th>홈런</th>\n",
       "      <th>4사구</th>\n",
       "      <th>삼진</th>\n",
       "      <th>실점</th>\n",
       "      <th>자책</th>\n",
       "      <th>평균자책점</th>\n",
       "    </tr>\n",
       "  </thead>\n",
       "  <tbody>\n",
       "    <tr>\n",
       "      <th>0</th>\n",
       "      <td>주권</td>\n",
       "      <td>선발</td>\n",
       "      <td></td>\n",
       "      <td>0</td>\n",
       "      <td>1</td>\n",
       "      <td>0</td>\n",
       "      <td>3</td>\n",
       "      <td>16</td>\n",
       "      <td>70</td>\n",
       "      <td>13</td>\n",
       "      <td>4</td>\n",
       "      <td>1</td>\n",
       "      <td>3</td>\n",
       "      <td>2</td>\n",
       "      <td>4</td>\n",
       "      <td>4</td>\n",
       "      <td>6.64</td>\n",
       "    </tr>\n",
       "    <tr>\n",
       "      <th>1</th>\n",
       "      <td>고영표</td>\n",
       "      <td>4.8</td>\n",
       "      <td>승</td>\n",
       "      <td>1</td>\n",
       "      <td>1</td>\n",
       "      <td>0</td>\n",
       "      <td>3</td>\n",
       "      <td>12</td>\n",
       "      <td>52</td>\n",
       "      <td>9</td>\n",
       "      <td>0</td>\n",
       "      <td>0</td>\n",
       "      <td>3</td>\n",
       "      <td>3</td>\n",
       "      <td>0</td>\n",
       "      <td>0</td>\n",
       "      <td>2.95</td>\n",
       "    </tr>\n",
       "    <tr>\n",
       "      <th>2</th>\n",
       "      <td>홍성용</td>\n",
       "      <td>7.2</td>\n",
       "      <td>홀드</td>\n",
       "      <td>2</td>\n",
       "      <td>0</td>\n",
       "      <td>0</td>\n",
       "      <td>1</td>\n",
       "      <td>2</td>\n",
       "      <td>6</td>\n",
       "      <td>2</td>\n",
       "      <td>0</td>\n",
       "      <td>0</td>\n",
       "      <td>0</td>\n",
       "      <td>0</td>\n",
       "      <td>0</td>\n",
       "      <td>0</td>\n",
       "      <td>4.50</td>\n",
       "    </tr>\n",
       "    <tr>\n",
       "      <th>3</th>\n",
       "      <td>김재윤</td>\n",
       "      <td>8.4</td>\n",
       "      <td>세</td>\n",
       "      <td>1</td>\n",
       "      <td>0</td>\n",
       "      <td>2</td>\n",
       "      <td>2</td>\n",
       "      <td>6</td>\n",
       "      <td>27</td>\n",
       "      <td>6</td>\n",
       "      <td>0</td>\n",
       "      <td>0</td>\n",
       "      <td>0</td>\n",
       "      <td>4</td>\n",
       "      <td>0</td>\n",
       "      <td>0</td>\n",
       "      <td>3.18</td>\n",
       "    </tr>\n",
       "  </tbody>\n",
       "</table>\n",
       "</div>"
      ],
      "text/plain": [
       "   선수명   등판  결과  승  패  세 이닝  타자 투구수  타수 피안타 홈런 4사구 삼진 실점 자책 평균자책점\n",
       "0   주권   선발      0  1  0  3  16  70  13   4  1   3  2  4  4  6.64\n",
       "1  고영표  4.8   승  1  1  0  3  12  52   9   0  0   3  3  0  0  2.95\n",
       "2  홍성용  7.2  홀드  2  0  0  1   2   6   2   0  0   0  0  0  0  4.50\n",
       "3  김재윤  8.4   세  1  0  2  2   6  27   6   0  0   0  4  0  0  3.18"
      ]
     },
     "execution_count": 43,
     "metadata": {},
     "output_type": "execute_result"
    }
   ],
   "source": [
    "bxsParser.h_pitRecord"
   ]
  },
  {
   "cell_type": "code",
   "execution_count": null,
   "metadata": {
    "collapsed": true
   },
   "outputs": [],
   "source": []
  }
 ],
 "metadata": {
  "kernelspec": {
   "display_name": "Python 2",
   "language": "python",
   "name": "python2"
  },
  "language_info": {
   "codemirror_mode": {
    "name": "ipython",
    "version": 2
   },
   "file_extension": ".py",
   "mimetype": "text/x-python",
   "name": "python",
   "nbconvert_exporter": "python",
   "pygments_lexer": "ipython2",
   "version": "2.7.11+"
  }
 },
 "nbformat": 4,
 "nbformat_minor": 0
}
