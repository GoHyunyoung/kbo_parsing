{
 "cells": [
  {
   "cell_type": "code",
   "execution_count": 11,
   "metadata": {
    "collapsed": false
   },
   "outputs": [],
   "source": [
    "#-*-coding: utf-8 -*-\n",
    "\n",
    "#facepy 설치되어있어야 합니다<pip install>\n",
    "from facepy import GraphAPI\n",
    "import MySQLdb"
   ]
  },
  {
   "cell_type": "code",
   "execution_count": 2,
   "metadata": {
    "collapsed": true
   },
   "outputs": [],
   "source": [
    "facebook_key = 'EAACEdEose0cBAGu11fatu2I4AZAJqC6eHI8T1bFuG6UAcFKg3sWSrQi4pGmsG04QTjLEvpO4MkMhIG6GwxSjSSSQbhEWeZAnKLgtNokoKcWsJC0yp6ZBdq6NqbOpZCTMlqed4HkCNvmevC9efx8OZAAOx2wZA0ZCiJzA4M8y3yd5HUd615JhZBud'"
   ]
  },
  {
   "cell_type": "code",
   "execution_count": 3,
   "metadata": {
    "collapsed": true
   },
   "outputs": [],
   "source": [
    "graph=GraphAPI(facebook_key)"
   ]
  },
  {
   "cell_type": "code",
   "execution_count": 10,
   "metadata": {
    "collapsed": false
   },
   "outputs": [
    {
     "data": {
      "text/plain": [
       "{u'id': u'623494431134235_658422037641474'}"
      ]
     },
     "execution_count": 10,
     "metadata": {},
     "output_type": "execute_result"
    }
   ],
   "source": [
    "graph.post(path='KBO.Mr.Writer/feed',\n",
    "           admin_creator=['aa','bb'],\n",
    "           message='facepy를 이용한 테스트',\n",
    "           link='naver.com')"
   ]
  },
  {
   "cell_type": "code",
   "execution_count": 1,
   "metadata": {
    "collapsed": false
   },
   "outputs": [],
   "source": [
    "import datetime"
   ]
  },
  {
   "cell_type": "code",
   "execution_count": 7,
   "metadata": {
    "collapsed": false
   },
   "outputs": [],
   "source": [
    "today=datetime.date.today()\n",
    "yesterday=today - datetime.timedelta(1)"
   ]
  },
  {
   "cell_type": "code",
   "execution_count": 8,
   "metadata": {
    "collapsed": false
   },
   "outputs": [],
   "source": [
    "year=str.format('%04d'%(yesterday.year))\n",
    "month=str.format('%02d'%(yesterday.month))\n",
    "day=str.format('%02d'%(yesterday.day))"
   ]
  },
  {
   "cell_type": "code",
   "execution_count": null,
   "metadata": {
    "collapsed": true
   },
   "outputs": [],
   "source": [
    "# MySQL conf\n",
    "con=MySQLdb.connect(host='218.150.181.131',user='root',passwd='1234',db='link10th',charset='utf8', use_unicode=True)\n",
    "cursor=con.cursor()\n",
    "cursor.execute('''\n",
    "SELECT * FROM link10th.Article WHERE Article.date like '%s%s%s%',\n",
    "''')\n",
    "HEAD = \n",
    "CONTENT = "
   ]
  }
 ],
 "metadata": {
  "kernelspec": {
   "display_name": "Python 2",
   "language": "python",
   "name": "python2"
  },
  "language_info": {
   "codemirror_mode": {
    "name": "ipython",
    "version": 2
   },
   "file_extension": ".py",
   "mimetype": "text/x-python",
   "name": "python",
   "nbconvert_exporter": "python",
   "pygments_lexer": "ipython2",
   "version": "2.7.11"
  }
 },
 "nbformat": 4,
 "nbformat_minor": 0
}
