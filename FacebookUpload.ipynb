{
 "cells": [
  {
   "cell_type": "code",
   "execution_count": 1,
   "metadata": {
    "collapsed": false
   },
   "outputs": [],
   "source": [
    "#-*-coding: utf-8 -*-\n",
    "\n",
    "#facepy 설치되어있어야 합니다<pip install>\n",
    "from facepy import GraphAPI\n",
    "import MySQLdb\n",
    "import datetime\n",
    "import time"
   ]
  },
  {
   "cell_type": "code",
   "execution_count": 2,
   "metadata": {
    "collapsed": true
   },
   "outputs": [],
   "source": [
    "# This key is expired every 2 months.\n",
    "# Need to be Refresh the key in FaceBook Developer\n",
    "# https://developers.facebook.com/tools/explorer\n",
    "# Due Date = 2016/10/16\n",
    "facebook_key='EAABb67MbMAIBABKdPNQZBiJbtCI35JxtQH8aRFSuJEYTbojix03lYHFdgDtOGHYnfce6ALppFKmsemyKWHarpNYYCTLmT5zPKHSUHHaKCObJsMnb4X8WIey54BH6EO9XRsAPdVrUQa5aJxMBS76LmlOZBZB6UEZD'"
   ]
  },
  {
   "cell_type": "code",
   "execution_count": 3,
   "metadata": {
    "collapsed": false
   },
   "outputs": [],
   "source": [
    "graph=GraphAPI(facebook_key)"
   ]
  },
  {
   "cell_type": "code",
   "execution_count": 4,
   "metadata": {
    "collapsed": false
   },
   "outputs": [],
   "source": [
    "today=datetime.date.today()\n",
    "yesterday=today - datetime.timedelta(1)"
   ]
  },
  {
   "cell_type": "code",
   "execution_count": 5,
   "metadata": {
    "collapsed": true
   },
   "outputs": [],
   "source": [
    "# ***** DO NOT upload more than 5days article at ONCE *****"
   ]
  },
  {
   "cell_type": "code",
   "execution_count": 6,
   "metadata": {
    "collapsed": true
   },
   "outputs": [],
   "source": [
    "year = str.format('%04d'%(yesterday.year))\n",
    "month=str.format('%02d'%(yesterday.month))\n",
    "day=str.format('%02d'%(yesterday.day))"
   ]
  },
  {
   "cell_type": "code",
   "execution_count": 7,
   "metadata": {
    "collapsed": false
   },
   "outputs": [
    {
     "name": "stdout",
     "output_type": "stream",
     "text": [
      "SELECT * FROM link10th.Article WHERE Article.date like '20160911%'\n"
     ]
    }
   ],
   "source": [
    "con=MySQLdb.connect(host='218.150.181.131',user='root',passwd='1234',db='link10th',charset='utf8', use_unicode=True)\n",
    "cursor=con.cursor()\n",
    "sql=str.format('SELECT * FROM link10th.Article WHERE Article.date like \\'%s%s%s%%\\''%(year,month,day))\n",
    "print sql\n",
    "cursor.execute(sql)\n",
    "sqlResult=cursor.fetchall()\n",
    "\n",
    "for event in sqlResult:\n",
    "    HEAD=event[2]\n",
    "    MAIN=' '.join(event[3:7])\n",
    "\n",
    "    # POST on the MrWriter\n",
    "    graph.post(path='/feed',message=HEAD+'\\n'+MAIN,retry=10)\n",
    "\n",
    "con.commit()\n",
    "cursor.close()\n",
    "con.close()"
   ]
  }
 ],
 "metadata": {
  "kernelspec": {
   "display_name": "Python [Root]",
   "language": "python",
   "name": "Python [Root]"
  },
  "language_info": {
   "codemirror_mode": {
    "name": "ipython",
    "version": 2
   },
   "file_extension": ".py",
   "mimetype": "text/x-python",
   "name": "python",
   "nbconvert_exporter": "python",
   "pygments_lexer": "ipython2",
   "version": "2.7.12"
  }
 },
 "nbformat": 4,
 "nbformat_minor": 0
}
