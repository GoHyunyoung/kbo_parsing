{
 "cells": [
  {
   "cell_type": "code",
   "execution_count": 1,
   "metadata": {
    "collapsed": true
   },
   "outputs": [],
   "source": [
    "#-*-coding: utf-8 -*-\n",
    "\n",
    "#facepy 설치되어있어야 합니다<pip install>\n",
    "\n",
    "from facepy import GraphAPI"
   ]
  },
  {
   "cell_type": "code",
   "execution_count": 2,
   "metadata": {
    "collapsed": true
   },
   "outputs": [],
   "source": [
    "facebook_key = 'EAAQ37c5K7bMBAOGcXgot48oXPEd6ZBydhNlT8yCtR2Wm1tH6izzeGn1FmjOei6BbeCvEUtJzfttk61S5z5zNPZC4zdqH4ixM8IMNZBUuXTB17hMGv3gZCuZCZA2j5WE2ryxmMAPUZC0mwlNE4FKGghtYZBb7S0HZCM7sZD'"
   ]
  },
  {
   "cell_type": "code",
   "execution_count": 20,
   "metadata": {
    "collapsed": true
   },
   "outputs": [],
   "source": [
    "graph=GraphAPI(facebook_key)"
   ]
  },
  {
   "cell_type": "code",
   "execution_count": 13,
   "metadata": {
    "collapsed": false
   },
   "outputs": [
    {
     "data": {
      "text/plain": [
       "{u'id': u'623494431134235_1065849703500022'}"
      ]
     },
     "execution_count": 13,
     "metadata": {},
     "output_type": "execute_result"
    }
   ],
   "source": [
    "graph.post(path='KBO.Mr.Writer/feed',\n",
    "           admin_creator=['aa','bb'],\n",
    "           message='facepy를 이용한 테스트',\n",
    "           link='naver.com')"
   ]
  },
  {
   "cell_type": "code",
   "execution_count": 41,
   "metadata": {
    "collapsed": false
   },
   "outputs": [
    {
     "data": {
      "text/plain": [
       "{u'id': u'623494431134235_645231265627218'}"
      ]
     },
     "execution_count": 41,
     "metadata": {},
     "output_type": "execute_result"
    }
   ],
   "source": [
    "graph.post(path='KBO.Mr.Writer/feed',\n",
    "           message='12')           "
   ]
  },
  {
   "cell_type": "code",
   "execution_count": null,
   "metadata": {
    "collapsed": true
   },
   "outputs": [],
   "source": []
  }
 ],
 "metadata": {
  "kernelspec": {
   "display_name": "Python 2",
   "language": "python",
   "name": "python2"
  },
  "language_info": {
   "codemirror_mode": {
    "name": "ipython",
    "version": 2
   },
   "file_extension": ".py",
   "mimetype": "text/x-python",
   "name": "python",
   "nbconvert_exporter": "python",
   "pygments_lexer": "ipython2",
   "version": "2.7.10"
  }
 },
 "nbformat": 4,
 "nbformat_minor": 0
}
