{
 "cells": [
  {
   "cell_type": "code",
   "execution_count": 1,
   "metadata": {
    "collapsed": false
   },
   "outputs": [],
   "source": [
    "#-*- coding: utf-8 -*- \n",
    "from bs4 import BeautifulSoup\n",
    "from selenium import webdriver\n",
    "from selenium.webdriver.common.keys import Keys\n",
    "from selenium.webdriver.common.action_chains import ActionChains\n",
    "from selenium.webdriver.support.ui import WebDriverWait\n",
    "from selenium.webdriver.support import expected_conditions as EC\n",
    "from selenium.common.exceptions import TimeoutException\n",
    "from selenium.webdriver.common.by import By\n",
    "\n",
    "import datetime\n",
    "import numpy  as np\n",
    "import pandas as pd\n",
    "import random as rd\n",
    "import time\n",
    "import urllib2\n",
    "import sys"
   ]
  },
  {
   "cell_type": "code",
   "execution_count": 1,
   "metadata": {
    "collapsed": false,
    "scrolled": true
   },
   "outputs": [],
   "source": [
    "class UrlParser:\n",
    "#     초기화때 날짜를 입력(박스스코어 확인 날짜)\n",
    "    def __init__(self,date):\n",
    "#         박스스코어의 url을 담는 리스트\n",
    "        self.urlList=list()\n",
    "        \n",
    "        today=datetime.date.today()\n",
    "        date=str(date)\n",
    "        yy=int(date[:4])\n",
    "        mm=int(date[4:6])\n",
    "        dd=int(date[6:])\n",
    "        date=datetime.date(yy,mm,dd)\n",
    "        backCount=(today-date).days\n",
    "#         print 'back 횟수 : ',backCount\n",
    "\n",
    "            # 크롬창 \n",
    "        browser = webdriver.Chrome(executable_path='/home/gohyunyoung98/apm_home/kbo_parsing/chromedriver')\n",
    "        # 접속\n",
    "        browser.get('http://www.koreabaseball.com/Schedule/ScoreBoard/ScoreBoard.aspx')\n",
    "\n",
    "        # backCount일 전의 경기들의 BoxScore 갯수 btnList에 저장\n",
    "        for i in range(backCount):\n",
    "        #     이전일 버튼\n",
    "            browser.find_element_by_id('cphContainer_cphContents_btnPreDate').click()\n",
    "            time.sleep(1)\n",
    "        time.sleep(1)\n",
    "        btnList = browser.find_elements_by_css_selector('a[href^=\"/Schedule/Game/BoxScore.aspx?\"]')\n",
    "\n",
    "        for i in range(len(btnList)):\n",
    "        #     박스스코어 버튼\n",
    "            browser.find_elements_by_css_selector('a[href^=\"/Schedule/Game/BoxScore.aspx?\"]')[i].click()\n",
    "            self.urlList.append(browser.current_url)\n",
    "            time.sleep(1)\n",
    "\n",
    "            browser.get('http://www.koreabaseball.com/Schedule/ScoreBoard/ScoreBoard.aspx')\n",
    "            for i in range(backCount):\n",
    "        #         이전일 버튼\n",
    "                browser.find_element_by_id('cphContainer_cphContents_btnPreDate').click()\n",
    "                time.sleep(1)"
   ]
  }
 ],
 "metadata": {
  "kernelspec": {
   "display_name": "Python 2",
   "language": "python",
   "name": "python2"
  },
  "language_info": {
   "codemirror_mode": {
    "name": "ipython",
    "version": 2
   },
   "file_extension": ".py",
   "mimetype": "text/x-python",
   "name": "python",
   "nbconvert_exporter": "python",
   "pygments_lexer": "ipython2",
   "version": "2.7.11"
  }
 },
 "nbformat": 4,
 "nbformat_minor": 0
}
