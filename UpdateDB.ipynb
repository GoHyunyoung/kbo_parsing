{
 "cells": [
  {
   "cell_type": "code",
   "execution_count": 1,
   "metadata": {
    "collapsed": false,
    "scrolled": true
   },
   "outputs": [],
   "source": [
    "# -*- coding: utf-8 -*-\n",
    "from hanspell import spell_checker\n",
    "# pip install selenium\n",
    "# pip install bs4\n",
    "from UrlParserForKBO import UrlParserForKBO\n",
    "from Parser_DaumKBO import Parser_DaumKBO\n",
    "from Parser_KBO import Parser_KBO\n",
    "from sklearn import tree\n",
    "from sklearn.externals.six import StringIO\n",
    "from TransformeTeamName import TransformeTeamName\n",
    "\n",
    "import pandas as pd\n",
    "import numpy as np\n",
    "# pip install MySQL-Python\n",
    "import MySQLdb\n",
    "import random\n",
    "\n",
    "import os\n",
    "import sys"
   ]
  },
  {
   "cell_type": "code",
   "execution_count": 2,
   "metadata": {
    "collapsed": true
   },
   "outputs": [],
   "source": [
    "contextSentence = [' ','승리하였다. ','접전끝에 승리를 하였다. ','역전에 성공했다. ','완승을 하였다. ','무승부로 끝이났다. ','영봉승을 하였다. ']"
   ]
  },
  {
   "cell_type": "code",
   "execution_count": 3,
   "metadata": {
    "collapsed": true
   },
   "outputs": [],
   "source": [
    "def changeWithParam(sentence, *wordBox):\n",
    "    '''\n",
    "    Change '()'(bracket) to element of wordBox(List) in Random.\n",
    "    return type : String\n",
    "    '''\n",
    "    for element in wordBox:\n",
    "#         print element\n",
    "        word=element[random.randint(0,len(element)-1)]\n",
    "        sentence=sentence.replace(u'()',word,1)\n",
    "    return sentence"
   ]
  },
  {
   "cell_type": "code",
   "execution_count": 4,
   "metadata": {
    "collapsed": true
   },
   "outputs": [],
   "source": [
    "def getClassifier(Parser_KBO,Parser_DaumKBO):\n",
    "    # DecisionTree - 서두\n",
    "    path_Intro = './DecisionLearning//DecisionTree_sample.csv'\n",
    "    df_Intro = pd.read_csv(path_Intro,index_col=None,header=None,names=['1H','2H','3H','4H','5H','6H','7H','8H','9H','10H','11H','12H','sum','context'])\n",
    "    score_Intro = np.array(df_Intro.reindex(columns=['1H','2H','3H','4H','5H','6H','7H','8H','9H','10H','11H','12H','sum']))\n",
    "    context_Intro = np.array(df_Intro.get('context'))\n",
    "    clf_Intro = tree.DecisionTreeClassifier(criterion='entropy')\n",
    "    clf_Intro = clf_Intro.fit(score_Intro,context_Intro)\n",
    "    return clf_Intro.predict([x-y for x,y in zip(Parser_KBO.boxScore['home']['score'][:13],Parser_KBO.boxScore['away']['score'][:13])])[0]"
   ]
  },
  {
   "cell_type": "code",
   "execution_count": 5,
   "metadata": {
    "collapsed": false
   },
   "outputs": [],
   "source": [
    "def writeDate(Parser_KBO):    \n",
    "    return Parser_KBO.boxScore['date']"
   ]
  },
  {
   "cell_type": "code",
   "execution_count": 6,
   "metadata": {
    "collapsed": true
   },
   "outputs": [],
   "source": [
    "def writeHead(Parser_KBO,Parser_DaumKBO,contextClassifier):\n",
    "#     문장뭉치\n",
    "    sentenceGroup=[\n",
    "        'at ascore vs ht hscore'\n",
    "    ]\n",
    "    \n",
    "#     문장뽑기\n",
    "    sentence=sentenceGroup[random.randint(0,len(sentenceGroup)-1)]\n",
    "    \n",
    "#     문장만들기\n",
    "    sentence=sentence.replace('at',Parser_KBO.boxScore['away']['name'])\n",
    "    sentence=sentence.replace('ht',Parser_KBO.boxScore['home']['name'])\n",
    "    sentence=sentence.replace('hscore',str(Parser_KBO.boxScore['home']['sum']))\n",
    "    sentence=sentence.replace('ascore',str(Parser_KBO.boxScore['away']['sum']))\n",
    "    \n",
    "    return sentence"
   ]
  },
  {
   "cell_type": "code",
   "execution_count": 7,
   "metadata": {
    "collapsed": false
   },
   "outputs": [],
   "source": [
    "def writeIntro(Parser_KBO,Parser_DaumKBO,contextClassifier):\n",
    "#     문장뭉치\n",
    "    sentence1Group=[\n",
    "        changeWithParam(u'winTeam_name는 date stadium에서 () loseTeam_name와의 ()에서 winTeam_sum-loseTeam_sum 으로 context',\n",
    "                        [u'열린',u'열렸던',u'치뤄진'],\n",
    "                        [u'승부',u'경기',u'대결']\n",
    "                       ),\n",
    "        changeWithParam(u'date stadium에서 () away_name와 home_name와의 ()에서 away_sum-home_sum으로 winTeam_name이 context',\n",
    "                        [u'열린',u'열렸던',u'치뤄진'],\n",
    "                        [u'승부',u'경기',u'대결']\n",
    "                       ),\n",
    "        changeWithParam(u'away_name와 home_name의 ()가 date stadium에서 있었던 오늘 away_name는 away_sum, home_name는 home_sum로 winTeam_name가 경기에서 context',\n",
    "                        [u'승부',u'경기',u'대결']\n",
    "                       ),\n",
    "        changeWithParam(u'date stadium에서 있었던 away_name와 home_name과의 (), winTeam_name이 winTeam_sum loseTeam_name이 loseTeam_sum로 winTeam_name이 context',\n",
    "                        [u'승부',u'경기',u'대결']\n",
    "                       ),\n",
    "        changeWithParam(u'홈팀 home_name과 어웨이팀 away_name ()경기가 오늘 date 펼쳐졌다. stadium경기장에서 () 이 경기에서 winTeam_name이 winTeam_sum : loseTeam_sum으로 loseTeam_name을 context',\n",
    "                        [u'승부',u'경기',u'대결'],\n",
    "                        [u'열린',u'열렸던',u'치뤄진']\n",
    "                       )\n",
    "        ]\n",
    "#     print sentence1Group\n",
    "                        \n",
    "    sentence2Group=[\n",
    "        changeWithParam(u' winTeam_name 선발투수로 나온 winTeam_StarterPitcher선수가 INN이닝동안 NP개를 던지고 H피안타 BB볼넷 SO탈삼진 R실점의 ()를 () ()',\n",
    "#                         선발투수 승수가 5이상이면 완벽투구\n",
    "                        [u'역투',u'호투',u'투구'] if Parser_DaumKBO.seasonStat['winTeam']['StarterPitcherWinCount']>5 else [u'완벽투구'], \n",
    "                        [u'펼치며',u'던지며'],\n",
    "                        [u'승리를 리드했다.',u'승리를 이끌었다.',u'팀의 승리를 주도했다.'] if Parser_DaumKBO.seasonStat['winTeam']['StarterPitcherWinCount']>5 else [u'승리에 기여했다.',u'경기를 해나갔다.']\n",
    "                       )\n",
    "#         changeWithParam(u'본 ()에서 winTeam_name winTeam_StarterPitcher선수가 투구수 피안타H 의 기록을 보여주며 호투를 하였다. ',\n",
    "#                         [u'경기',u'승부',u'대결'])\n",
    "#         changeWithParam(u'() ()에서 winTeam_name의  winTeam_StarterPitcher선수가 winTeam_Start이닝을 호투하며, R실점 SO삼진을 잡아내며 승리를 이끌었다. ',\n",
    "#                        [u'이번',u'본'],[u'승부',u'경기',u'대결'],[''])\n",
    "    ]\n",
    "    \n",
    "#     문장뽑기\n",
    "    sentence1=sentence1Group[random.randint(0,len(sentence1Group)-1)]\n",
    "    sentence2=sentence2Group[random.randint(0,len(sentence2Group)-1)]\n",
    "    \n",
    "#     문장만들기\n",
    "\n",
    "    #------- BEGIN Intro1-------#\n",
    "    sentence1=sentence1.replace('winTeam_name',Parser_KBO.boxScore['winTeam']['name'])\n",
    "    sentence1=sentence1.replace('loseTeam_name',Parser_KBO.boxScore['loseTeam']['name'])\n",
    "    sentence1=sentence1.replace('winTeam_sum',str(Parser_KBO.boxScore['winTeam']['sum']))\n",
    "    sentence1=sentence1.replace('loseTeam_sum',str(Parser_KBO.boxScore['loseTeam']['sum']))\n",
    "    sentence1=sentence1.replace('home_sum',str(Parser_KBO.boxScore['home']['sum']))\n",
    "    sentence1=sentence1.replace('away_sum',str(Parser_KBO.boxScore['away']['sum']))\n",
    "    sentence1=sentence1.replace('stadium',Parser_DaumKBO.stadium)\n",
    "    sentence1=sentence1.replace('date',str(int(Parser_KBO.boxScore['date'][4:6]))+u'월'+str(int(Parser_KBO.boxScore['date'][6:8]))+u'일'+Parser_KBO.boxScore['date'][8:])\n",
    "    sentence1=sentence1.replace('home_name',Parser_KBO.boxScore['home']['name'])\n",
    "    sentence1=sentence1.replace('away_name',Parser_KBO.boxScore['away']['name'])    \n",
    "    \n",
    "    # Intro1 예외처리\n",
    "    #'context' -> 무승부\n",
    "    if Parser_KBO.boxScore['home']['sum']==Parser_KBO.boxScore['away']['sum']:\n",
    "        sentence1=sentence1.replace('context',contextSentence[5].decode('utf-8'))    \n",
    "    #'context' -> 영봉승\n",
    "    elif Parser_KBO.boxScore['home']['sum']==0 or Parser_KBO.boxScore['away']['sum']==0:\n",
    "        sentence1=sentence1.replace('context',contextSentence[6].decode('utf-8'))    \n",
    "    #'context'-> 나머지의 경우\n",
    "    else:\n",
    "        sentence1=sentence1.replace('context',contextSentence[contextClassifier].decode('utf-8'))\n",
    "    #------- END Intro1-------#\n",
    "\n",
    "    #------- BEGIN Intro2-------#\n",
    "    sentence2=sentence2.replace('winTeam_name',Parser_KBO.boxScore['winTeam']['name'])\n",
    "    sentence2=sentence2.replace('winTeam_StarterPitcher',Parser_KBO.boxScore['winTeam']['pitRecord'].ix[Parser_DaumKBO.seasonStat['winTeam']['StarterPitcher']].name)\n",
    "    sentence2=sentence2.replace('ERA',Parser_KBO.boxScore['winTeam']['pitRecord'].ix[Parser_DaumKBO.seasonStat['winTeam']['StarterPitcher']][u'평균자책점'])\n",
    "    sentence2=sentence2.replace('INN',Parser_KBO.boxScore['winTeam']['pitRecord'].ix[Parser_DaumKBO.seasonStat['winTeam']['StarterPitcher']][u'이닝'])\n",
    "    sentence2=sentence2.replace('BB',Parser_KBO.boxScore['winTeam']['pitRecord'].ix[Parser_DaumKBO.seasonStat['winTeam']['StarterPitcher']][u'4사구'])\n",
    "    sentence2=sentence2.replace('BN',Parser_KBO.boxScore['winTeam']['pitRecord'].ix[Parser_DaumKBO.seasonStat['winTeam']['StarterPitcher']][u'타자'])\n",
    "    sentence2=sentence2.replace('NP',Parser_KBO.boxScore['winTeam']['pitRecord'].ix[Parser_DaumKBO.seasonStat['winTeam']['StarterPitcher']][u'투구수'])\n",
    "    sentence2=sentence2.replace('SO',Parser_KBO.boxScore['winTeam']['pitRecord'].ix[Parser_DaumKBO.seasonStat['winTeam']['StarterPitcher']][u'삼진'])            \n",
    "    sentence2=sentence2.replace('ER',Parser_KBO.boxScore['winTeam']['pitRecord'].ix[Parser_DaumKBO.seasonStat['winTeam']['StarterPitcher']][u'자책'])\n",
    "    sentence2=sentence2.replace('R',Parser_KBO.boxScore['winTeam']['pitRecord'].ix[Parser_DaumKBO.seasonStat['winTeam']['StarterPitcher']][u'실점'])\n",
    "    sentence2=sentence2.replace('H',Parser_KBO.boxScore['winTeam']['pitRecord'].ix[Parser_DaumKBO.seasonStat['winTeam']['StarterPitcher']][u'피안타'])\n",
    "    \n",
    "    #-------END Intro2-------#\n",
    "    return sentence1+sentence2"
   ]
  },
  {
   "cell_type": "code",
   "execution_count": 8,
   "metadata": {
    "collapsed": false
   },
   "outputs": [],
   "source": [
    "# 결론작성\n",
    "def writeConc(Parser_KBO,Parser_DaumKBO,contextClassifier):\n",
    "#     문장뭉치\n",
    "    sentence1Group=[\n",
    "    changeWithParam(u' () winTeam_name은 winTeam_win_lose_winCount승 winTeam_win_lose_drawCount무 winTeam_win_lose_loseCount패를 기록하게 되었다.',\n",
    "                    [u'이날의 승리로',u'오늘의 승리로',u'이로인해',u'오늘 열렸던 경기로',u'오늘 치뤄진 경기로']),\n",
    "#     changeWithParam(u' () () away_name은 away_win_lose_winCount승 away_win_lose_drawCount무 away_win_lose_loseCount패, home_name은 home_win_lose_winCount승 home_win_lose_drawCount무 home_win_lose_loseCount패를 기록하게 되었다.',\n",
    "#                     [u'이날의',u'오늘의',u'오늘 있었던',u'오늘 열렸던',u'오늘 치뤄진'],\n",
    "#                     [u'경기로',u'승부로',u'대결로'])\n",
    "    ]\n",
    "    \n",
    "    sentence2Group=[\n",
    "    u'',\n",
    "    changeWithParam(u' () loseTeam_name은 loseTeam_win_lose_winCount승 loseTeam_win_lose_drawCount무 loseTeam_win_lose_loseCount패를 기록하게 되었다.',\n",
    "#                     1:승리/2:접전/3:역전/4:완승 각 경우에 대한 다른 문장\n",
    "                    [u'패배의 아픔을 맛본',u'패배한'] if contextClassifier==1 else \n",
    "                    [u'아쉽게 패배한',u'안타깝게 패배한',u'접전끝에 패배한'] if contextClassifier==2 else\n",
    "                    [u'역전을 당한',u'역전을 허용한'] if contextClassifier==3 else\n",
    "                    [u'완패한',u'큰 점수차로 패배한']\n",
    "    )]\n",
    "    \n",
    "    \n",
    "#     순위 변동,연승의 내용은 필수\n",
    "    essentialSentence=''\n",
    "    #      순위가 올라간경우\n",
    "    if parser_DaumKBO.rank['winTeam'][1]>0:\n",
    "            rankNum=Parser_KBO.rank.loc[Parser_KBO.rank[u'팀명'] == Parser_KBO.boxScore['winTeam']['name']]\n",
    "            nextTeam=Parser_KBO.rank.ix[str(int(rankNum.index[0])+1)][u'팀명']\n",
    "            essentialSentence+=changeWithParam(u' winTeam_name은 리그winTeam_rank+1위에서 () winTeam_rank위로 nextTeam을 ()  ()',\n",
    "                                           [u'1순위 올라가',u'한 순위 올라간'],\n",
    "                                           [u'밟고',u'밀치고 올라가'],\n",
    "                                           [u'한순위 더 높이 안착하게 되었다.',u'팀의 순위가 상승하였다.']\n",
    "                                          )\n",
    "\n",
    "    #      순위가 내려간 경우\n",
    "    if parser_DaumKBO.rank['loseTeam'][1]<0:\n",
    "        essentialSentence+=changeWithParam(u' 한편, loseTeam_name은 리그 loseTeam_rank-1위에서 () loseTeam_rank위로 ()',\n",
    "                                           [u'1순위 내려가',u'한 순위 내려간'],\n",
    "                                           [u'안착하게 되었다.',u'팀의 순위가 하락하였다.']\n",
    "                                          )\n",
    "        \n",
    "    #     연승을 하게된 경우\n",
    "    if parser_DaumKBO.accumulation['winTeam'] > 1:\n",
    "        essentialSentence+=changeWithParam(u' () winTeam_name은 () () ()',\n",
    "                                           [u'또한'],\n",
    "                                           [u'이번 경기로',u'이번 승리로',u'오늘의 경기로'],\n",
    "                                           [u'winTeam_accumulation연승을',u'연속 winTeam_accumulation승을'],\n",
    "                                           [u'달려나가고 있다.',u'행진하고 있다.',u'이루고 있다.']\n",
    "                                          )\n",
    "    #     연패를 하게된 경우\n",
    "    if parser_DaumKBO.accumulation['loseTeam'] < -1:\n",
    "        essentialSentence+=changeWithParam(u' () loseTeam_name은 () loseTeam_accumulation연패를 ()',\n",
    "                                           [u'하지만',u'안타깝게도'],\n",
    "                                           [u'이번 패배로',u'오늘의 패배로'],\n",
    "                                           [u'끊어내기 위한 연습이 필요할 것이다.',u'잘라내기위한 노력이 필요할 것이다.']\n",
    "                                          )\n",
    "        \n",
    "#     문장뽑기\n",
    "    sentence1=sentence1Group[random.randint(0,len(sentence1Group)-1)]\n",
    "    sentence2=sentence2Group[random.randint(0,len(sentence2Group)-1)]\n",
    "    \n",
    "#     문장만들기\n",
    "    sentence1=sentence1.replace('winTeam_name',Parser_KBO.boxScore['winTeam']['name'])\n",
    "    sentence1=sentence1.replace('winTeam_win_lose_winCount',str(Parser_DaumKBO.win_lose['winTeam'][0]))\n",
    "    sentence1=sentence1.replace('winTeam_win_lose_loseCount',str(Parser_DaumKBO.win_lose['winTeam'][2]))\n",
    "    sentence1=sentence1.replace('winTeam_win_lose_drawCount',str(Parser_DaumKBO.win_lose['winTeam'][1]))\n",
    "    sentence1=sentence1.replace('away_name',Parser_KBO.boxScore['away']['name'])\n",
    "    sentence1=sentence1.replace('away_win_lose_winCount',str(Parser_DaumKBO.win_lose['away'][0]))\n",
    "    sentence1=sentence1.replace('away_win_lose_loseCount',str(Parser_DaumKBO.win_lose['away'][2]))\n",
    "    sentence1=sentence1.replace('away_win_lose_drawCount',str(Parser_DaumKBO.win_lose['away'][1]))\n",
    "    sentence1=sentence1.replace('home_name',Parser_KBO.boxScore['home']['name'])\n",
    "    sentence1=sentence1.replace('home_win_lose_winCount',str(Parser_DaumKBO.win_lose['home'][0]))\n",
    "    sentence1=sentence1.replace('home_win_lose_loseCount',str(Parser_DaumKBO.win_lose['home'][2]))\n",
    "    sentence1=sentence1.replace('home_win_lose_drawCount',str(Parser_DaumKBO.win_lose['home'][1]))\n",
    "    \n",
    "    sentence2=sentence2.replace('loseTeam_name',Parser_KBO.boxScore['loseTeam']['name'])\n",
    "    sentence2=sentence2.replace('loseTeam_win_lose_winCount',str(Parser_DaumKBO.win_lose['loseTeam'][0]))\n",
    "    sentence2=sentence2.replace('loseTeam_win_lose_loseCount',str(Parser_DaumKBO.win_lose['loseTeam'][2]))\n",
    "    sentence2=sentence2.replace('loseTeam_win_lose_drawCount',str(Parser_DaumKBO.win_lose['loseTeam'][1]))\n",
    "    \n",
    "    essentialSentence=essentialSentence.replace('winTeam_name',Parser_KBO.boxScore['winTeam']['name'])\n",
    "    essentialSentence=essentialSentence.replace('loseTeam_name',Parser_KBO.boxScore['loseTeam']['name'])\n",
    "    essentialSentence=essentialSentence.replace('home_name',Parser_KBO.boxScore['home']['name'])\n",
    "    essentialSentence=essentialSentence.replace('away_name',Parser_KBO.boxScore['away']['name'])  \n",
    "    essentialSentence=essentialSentence.replace('winTeam_rank+1',str(Parser_DaumKBO.rank['winTeam'][0]+1))\n",
    "    essentialSentence=essentialSentence.replace('winTeam_rank',str(Parser_DaumKBO.rank['winTeam'][0]))\n",
    "    essentialSentence=essentialSentence.replace('winTeam_accumulation',str(Parser_DaumKBO.accumulation['winTeam']))\n",
    "    essentialSentence=essentialSentence.replace('loseTeam_rank-1',str(Parser_DaumKBO.rank['loseTeam'][0]+1))\n",
    "    essentialSentence=essentialSentence.replace('loseTeam_rank',str(Parser_DaumKBO.rank['loseTeam'][0]))\n",
    "    essentialSentence=essentialSentence.replace('loseTeam_accumulation',str(abs(Parser_DaumKBO.accumulation['loseTeam'])))\n",
    "    if 'nextTeam' in essentialSentence:\n",
    "        essentialSentence=essentialSentence.replace('nextTeam',nextTeam)\n",
    "    \n",
    "    Conclusion=sentence1+sentence2+essentialSentence\n",
    "    \n",
    "    return Conclusion"
   ]
  },
  {
   "cell_type": "code",
   "execution_count": 9,
   "metadata": {
    "collapsed": true
   },
   "outputs": [],
   "source": [
    "def getEmblem(Parser_KBO):\n",
    "    emblem=TransformeTeamName.get(Parser_KBO.boxScore['winTeam']['name'])\n",
    "    return emblem"
   ]
  },
  {
   "cell_type": "code",
   "execution_count": 10,
   "metadata": {
    "collapsed": false
   },
   "outputs": [],
   "source": [
    "# 본문작성\n",
    "def writeMain(Parser_KBO,Parser_DaumKBO):\n",
    "    criticalInning=sorted(Parser_DaumKBO.criticalInning['home']+Parser_DaumKBO.criticalInning['away'])\n",
    "    importantBattingKeyword=[u'안타',u'홈런',u'루타']\n",
    "    \n",
    "#     문장뭉치\n",
    "#     Main1 : 승부처에 관한 내용\n",
    "    #------- BEGIN Main1 -------#\n",
    "    sentence1Group=[\n",
    "    #         승부처 이닝이 없는 경기에 대한 문장들\n",
    "        changeWithParam(u''),\n",
    "        changeWithParam(u' () 이닝없이 경기는 진행되었다.',\n",
    "                       [u' 결정적인']\n",
    "                       ),\n",
    "        changeWithParam(u' () 점수차에 영향을 준 이닝은 없었다.',\n",
    "                       [u' 결정적으로',u'크게']\n",
    "                       ),\n",
    "        changeWithParam(u' 결정적이 이닝이 없었던 ()',\n",
    "                       [u' 그저그런 경기의 연속이었다.'],\n",
    "                       [u' 물흐르듯 지나가는 이닝이 대부분이었다.']\n",
    "                       ),\n",
    "        changeWithParam(u' 승부가 어느이닝에서 판가름 났다고 얘기하기는 어려웠다.') \n",
    "    ] if len(criticalInning)==0 else [\n",
    "    #         승부처 이닝이 있는 경기에 대한 문장들\n",
    "        changeWithParam(u' ()의 ()은 () criticalInning이닝에서 () ',\n",
    "                        [u'승부',u'대결'],\n",
    "                        [u'양상',u'흐름',u'분위기'],\n",
    "                        [u'',u'결국'],\n",
    "                        [u'갈렸다.',u'나뉘었다.',u'두드러졌다.']\n",
    "                        )]\n",
    "    #------- END Main1 -------#\n",
    "    \n",
    "    \n",
    "#     Main2는 sentenceGroup없이 바로 문장을 만든다\n",
    "#     Main2 : 승부처 이닝에 있었던 경기내용\n",
    "    #------- BEGIN Main2 -------#\n",
    "    sentence2=''\n",
    "    inningWithPlayer={}\n",
    "    \n",
    "\n",
    "    #     inningWithPlayer[이닝][[선수명,행동][선수명,행동]]\n",
    "    #     승부처 이닝을 검사\n",
    "    for inning in criticalInning:\n",
    "        #         10이닝 이상은 흐름을 KBO에서 알수 없음\n",
    "        if inning <10:\n",
    "        #         각 이닝에 타자들을 검사\n",
    "            inningWithPlayer[inning]=[]\n",
    "            for battingSequence in Parser_KBO.situation['winTeam'][inning-1]:\n",
    "                #             해당 타자가 안타,루타,홈런이 있는지 검사\n",
    "                for keyWord in importantBattingKeyword:\n",
    "                    if keyWord in battingSequence['act']:\n",
    "                        inningWithPlayer[inning].append({\n",
    "                            'player':battingSequence['player'],\n",
    "                            'act':battingSequence['act'],\n",
    "                            })\n",
    "                        break\n",
    "                    \n",
    "    #     inningWithPlayer로 문장만들기\n",
    "    for inning in criticalInning:\n",
    "        if inning<10:\n",
    "            sentence2+=str(inning)+u'이닝 '\n",
    "            sentence2+=','.join([player['player']+u'선수의 '+player['act'] for player in inningWithPlayer[inning]])\n",
    "    \n",
    "    #     마무리 짓기\n",
    "    if len(sentence2)>0:\n",
    "        sentence2+=changeWithParam(u'등의 () 팀의 승리에 기여하였다.',\n",
    "                                   [u'활약들이',u'요인들이'])\n",
    "    #------- END Main2 -------#\n",
    "    \n",
    "\n",
    "#     Main3 : 키플레이어 관한 내용\n",
    "    #------- BEGIN Main3 -------#\n",
    "    #     boxScore['winTeam']['batRecord'].ix[u'허경민'][u'타수']\n",
    "    #     승리팀에 키플레이어가 있으면\n",
    "    if Parser_DaumKBO.keyPlayer['winTeam']:\n",
    "        sentence3Group=[\n",
    "                changeWithParam(u' winTeam_name의 winTeam_keyPlayer[1]선수(winTeam_keyPlayer[0])가 AT타수 HITS안타 RUNS득점 BATTING타율을 기록하여 () ',\n",
    "                                [u'팀의 키플레이어 역할을 해주었다.',\n",
    "                                 u'승리를 이끌도록 하였다.',\n",
    "                                 u'팀을 승리로 리드하였다.',\n",
    "                                 u'winTeam_name를 승리로 이끌었다.',\n",
    "                                 u'loseTeam_name을 승리의 제물로 만들었다.',\n",
    "                                 u'winTeam_name의 핵심 득점원이 되주었다.']\n",
    "                               )\n",
    "        ]\n",
    "                                \n",
    "    if Parser_DaumKBO.keyPlayer['loseTeam']:\n",
    "        sentence4Group=[u'',\n",
    "            changeWithParam(u' loseTeam_name의 loseTeam_keyPlayer[1] 선수(loseTeam_keyPlayer[0])가 AT타수 HITS안타 RUNS득점 BATTING타율을 ()',\n",
    "                            [u'기록했지만 아쉽게도 팀의 승리는 힘들었다.',\n",
    "                            u'기록했지만 팀을 승리로 이끌기에는 역부족이었다.',\n",
    "                            u'했지만 팀의 승리를 리드하기에는 턱없이 부족했다.',\n",
    "                            u'했지만 loseTeam_name의 승리를 돕기에는 부족했다.',\n",
    "                            u'했지만 아쉬운 결과였다.']\n",
    "                           )\n",
    "        ]\n",
    "                                \n",
    "    #------- END Main3 -------#\n",
    "\n",
    "      \n",
    "    teamrank = Parser_KBO.rank\n",
    "    gab = []\n",
    "    gameN = []\n",
    "    upper=u''\n",
    "    down=u''\n",
    "    tmp=0\n",
    "    add=u''\n",
    "     \n",
    "    winTeamName = Parser_KBO.boxScore['winTeam']['name']\n",
    "    awayTeamName = Parser_KBO.boxScore['home']['name']\n",
    "    teamPointer = int(Parser_KBO.rank.loc[parser_KBO.rank[u'팀명']==winTeamName].index[0])-1\n",
    "    for i in ['1', '2', '3', '4', '5', '6', '7', '8', '9', '10']:\n",
    "        gab.append(teamrank.loc[i,u'게임차'])\n",
    "        gameN.append(int(teamrank.loc[i,u'승']) + int(teamrank.loc[i,u'패']) + int(teamrank.loc[i,u'무']))\n",
    "    for i in range(0,9):\n",
    "        upper = teamrank.loc[str(int(i) + 1),u'팀명']\n",
    "        down = teamrank.loc[str(int(i+1) + 1),u'팀명']\n",
    "        if((float(gab[i+1]) - float(gab[i])) <= 1 and gameN[i] < 144 and gameN[i+1] < 144):\n",
    "            tmp=(float(gab[i+1]) - float(gab[i]))\n",
    "            if(upper == winTeamName or down == winTeamName ):\n",
    "                add+=u' 내일 경기결과에 따라 순위 변동의 가능성이 보인다.'\n",
    "                break\n",
    "                \n",
    "        elif((float(gab[i+1]) - float(gab[i])) <= 3 and gameN[i]+6 < 144 and gameN[i+1]+6 < 144):\n",
    "            upper = teamrank.loc[str(int(i) + 1),u'팀명']\n",
    "            down = teamrank.loc[str(int(i+1) + 1),u'팀명']\n",
    "            tmp=(float(gab[i+1]) - float(gab[i]))\n",
    "            if(upper == winTeamName or down == winTeamName):\n",
    "                add+= u' 앞으로의 경기가 중요하게 되었다.'\n",
    "                break\n",
    "\n",
    "        if(float(gab[teamPointer]) - float(gab[4]) < 144 - gameN[teamPointer] and teamPointer > 4):\n",
    "            add+=changeWithParam(u'winTeam은 () () gap경기를 ()',\n",
    "                                       [u' 가을야구로',u'포스트 시즌으로'],\n",
    "                                       [u' 진출하기 위해서는', u'출전하기 위해서는'],\n",
    "                                       [u' 따내야 한다.',u'잡아야 한다.',u'승리해야 한다.']\n",
    "                                      )\n",
    "            break\n",
    "            \n",
    "    sentence5=changeWithParam(u' upperTeam와 downTeam은 ()',\n",
    "                              [u' gabOfGame게임 차이가 되었다.',u' gabOfGame게임 차이로 좁혀졌다.',u' gabOfGame게임차로 줄어들었다.'] if tmp!=0 else [u'승차가 타이를 이루게 되었다.'])\n",
    "    sentence5+=add\n",
    "    sentence5=sentence5.replace('winTeam',Parser_KBO.boxScore['winTeam']['name'])        \n",
    "    sentence5=sentence5.replace('upperTeam',upper)\n",
    "    sentence5=sentence5.replace('downTeam',down)\n",
    "    sentence5=sentence5.replace('gabOfGame',str(tmp))\n",
    "    sentence5=sentence5.replace('gap',str(float(gab[teamPointer]) - float(gab[4])))\n",
    "                \n",
    "#     문장뽑기\n",
    "    sentence1=sentence1Group[random.randint(0,len(sentence1Group)-1)]\n",
    "    sentence3=sentence3Group[random.randint(0,len(sentence3Group)-1)] if Parser_DaumKBO.keyPlayer['winTeam'] else u''\n",
    "    sentence4=sentence4Group[random.randint(0,len(sentence4Group)-1)] if Parser_DaumKBO.keyPlayer['loseTeam'] else  u''\n",
    "    \n",
    "#    문장 만들기\n",
    "    sentence1=sentence1.replace('criticalInning',', '.join((map(str,criticalInning))))\n",
    "    sentence2=sentence2\n",
    "    sentence3=sentence3.replace('winTeam_name',Parser_KBO.boxScore['winTeam']['name'])\n",
    "    sentence3=sentence3.replace('loseTeam_name',Parser_KBO.boxScore['loseTeam']['name'])\n",
    "    if Parser_DaumKBO.keyPlayer['winTeam']:\n",
    "        sentence3=sentence3.replace('winTeam_keyPlayer[1]',Parser_DaumKBO.keyPlayer['winTeam'][1])\n",
    "        sentence3=sentence3.replace('winTeam_keyPlayer[0]',Parser_DaumKBO.keyPlayer['winTeam'][0])\n",
    "        sentence3=sentence3.replace('BATTING',Parser_KBO.boxScore['winTeam']['batRecord'].ix[Parser_DaumKBO.keyPlayer['winTeam'][1]][u'타율'])\n",
    "        sentence3=sentence3.replace('RUNS',Parser_KBO.boxScore['winTeam']['batRecord'].ix[Parser_DaumKBO.keyPlayer['winTeam'][1]][u'득점'])\n",
    "        sentence3=sentence3.replace('HITS',Parser_KBO.boxScore['winTeam']['batRecord'].ix[Parser_DaumKBO.keyPlayer['winTeam'][1]][u'안타'])\n",
    "        sentence3=sentence3.replace('AT',Parser_KBO.boxScore['winTeam']['batRecord'].ix[Parser_DaumKBO.keyPlayer['winTeam'][1]][u'타수'])    \n",
    "\n",
    "    if Parser_DaumKBO.keyPlayer['loseTeam']:\n",
    "        sentence4=sentence4.replace('loseTeam_name',Parser_KBO.boxScore['loseTeam']['name'])\n",
    "        sentence4=sentence4.replace('loseTeam_keyPlayer[1]',Parser_DaumKBO.keyPlayer['loseTeam'][1])\n",
    "        sentence4=sentence4.replace('loseTeam_keyPlayer[0]',Parser_DaumKBO.keyPlayer['loseTeam'][0])\n",
    "        sentence4=sentence4.replace('BATTING',Parser_KBO.boxScore['loseTeam']['batRecord'].ix[Parser_DaumKBO.keyPlayer['loseTeam'][1]][u'타율'])\n",
    "        sentence4=sentence4.replace('RUNS',Parser_KBO.boxScore['loseTeam']['batRecord'].ix[Parser_DaumKBO.keyPlayer['loseTeam'][1]][u'득점'])\n",
    "        sentence4=sentence4.replace('HITS',Parser_KBO.boxScore['loseTeam']['batRecord'].ix[Parser_DaumKBO.keyPlayer['loseTeam'][1]][u'안타'])\n",
    "        sentence4=sentence4.replace('AT',Parser_KBO.boxScore['loseTeam']['batRecord'].ix[Parser_DaumKBO.keyPlayer['loseTeam'][1]][u'타수'])\n",
    "    \n",
    "                               \n",
    "    return sentence1+sentence2+sentence3+sentence4+sentence5"
   ]
  },
  {
   "cell_type": "code",
   "execution_count": 11,
   "metadata": {
    "collapsed": false,
    "scrolled": true
   },
   "outputs": [],
   "source": [
    "# 최신날짜\n",
    "startDate='20160903'\n",
    "# 예전날짜\n",
    "endDate='20160901'\n",
    "urlParserForKBO = UrlParserForKBO(startDate,endDate)"
   ]
  },
  {
   "cell_type": "code",
   "execution_count": 13,
   "metadata": {
    "collapsed": false,
    "scrolled": true
   },
   "outputs": [
    {
     "name": "stdout",
     "output_type": "stream",
     "text": [
      "http://www.koreabaseball.com/Schedule/Game/BoxScore.aspx?leagueId=1&seriesId=0&gameId=20160901NCLT0&gyear=2016\n"
     ]
    },
    {
     "name": "stderr",
     "output_type": "stream",
     "text": [
      "/home/gohyunyoung98/anaconda2/lib/python2.7/site-packages/sklearn/utils/validation.py:386: DeprecationWarning: Passing 1d arrays as data is deprecated in 0.17 and willraise ValueError in 0.19. Reshape your data either using X.reshape(-1, 1) if your data has a single feature or X.reshape(1, -1) if it contains a single sample.\n",
      "  DeprecationWarning)\n"
     ]
    },
    {
     "name": "stdout",
     "output_type": "stream",
     "text": [
      "http://www.koreabaseball.com/Schedule/Game/BoxScore.aspx?leagueId=1&seriesId=0&gameId=20160901HTSS0&gyear=2016\n"
     ]
    },
    {
     "name": "stderr",
     "output_type": "stream",
     "text": [
      "/home/gohyunyoung98/anaconda2/lib/python2.7/site-packages/sklearn/utils/validation.py:386: DeprecationWarning: Passing 1d arrays as data is deprecated in 0.17 and willraise ValueError in 0.19. Reshape your data either using X.reshape(-1, 1) if your data has a single feature or X.reshape(1, -1) if it contains a single sample.\n",
      "  DeprecationWarning)\n"
     ]
    },
    {
     "name": "stdout",
     "output_type": "stream",
     "text": [
      "http://www.koreabaseball.com/Schedule/Game/BoxScore.aspx?leagueId=1&seriesId=0&gameId=20160901LGHH0&gyear=2016\n"
     ]
    },
    {
     "name": "stderr",
     "output_type": "stream",
     "text": [
      "/home/gohyunyoung98/anaconda2/lib/python2.7/site-packages/sklearn/utils/validation.py:386: DeprecationWarning: Passing 1d arrays as data is deprecated in 0.17 and willraise ValueError in 0.19. Reshape your data either using X.reshape(-1, 1) if your data has a single feature or X.reshape(1, -1) if it contains a single sample.\n",
      "  DeprecationWarning)\n"
     ]
    },
    {
     "name": "stdout",
     "output_type": "stream",
     "text": [
      "http://www.koreabaseball.com/Schedule/Game/BoxScore.aspx?leagueId=1&seriesId=0&gameId=20160901KTOB0&gyear=2016\n"
     ]
    },
    {
     "name": "stderr",
     "output_type": "stream",
     "text": [
      "/home/gohyunyoung98/anaconda2/lib/python2.7/site-packages/sklearn/utils/validation.py:386: DeprecationWarning: Passing 1d arrays as data is deprecated in 0.17 and willraise ValueError in 0.19. Reshape your data either using X.reshape(-1, 1) if your data has a single feature or X.reshape(1, -1) if it contains a single sample.\n",
      "  DeprecationWarning)\n"
     ]
    },
    {
     "name": "stdout",
     "output_type": "stream",
     "text": [
      "http://www.koreabaseball.com/Schedule/Game/BoxScore.aspx?leagueId=1&seriesId=0&gameId=20160901SKWO0&gyear=2016\n"
     ]
    },
    {
     "name": "stderr",
     "output_type": "stream",
     "text": [
      "td.position.home.key-player == None\n",
      "/home/gohyunyoung98/anaconda2/lib/python2.7/site-packages/sklearn/utils/validation.py:386: DeprecationWarning: Passing 1d arrays as data is deprecated in 0.17 and willraise ValueError in 0.19. Reshape your data either using X.reshape(-1, 1) if your data has a single feature or X.reshape(1, -1) if it contains a single sample.\n",
      "  DeprecationWarning)\n"
     ]
    },
    {
     "name": "stdout",
     "output_type": "stream",
     "text": [
      "http://www.koreabaseball.com/Schedule/Game/BoxScore.aspx?leagueId=1&seriesId=0&gameId=20160902LGHH0&gyear=2016\n"
     ]
    },
    {
     "name": "stderr",
     "output_type": "stream",
     "text": [
      "/home/gohyunyoung98/anaconda2/lib/python2.7/site-packages/sklearn/utils/validation.py:386: DeprecationWarning: Passing 1d arrays as data is deprecated in 0.17 and willraise ValueError in 0.19. Reshape your data either using X.reshape(-1, 1) if your data has a single feature or X.reshape(1, -1) if it contains a single sample.\n",
      "  DeprecationWarning)\n"
     ]
    },
    {
     "name": "stdout",
     "output_type": "stream",
     "text": [
      "http://www.koreabaseball.com/Schedule/Game/BoxScore.aspx?leagueId=1&seriesId=0&gameId=20160902KTOB0&gyear=2016\n"
     ]
    },
    {
     "name": "stderr",
     "output_type": "stream",
     "text": [
      "td.position.home.key-player == None\n",
      "/home/gohyunyoung98/anaconda2/lib/python2.7/site-packages/sklearn/utils/validation.py:386: DeprecationWarning: Passing 1d arrays as data is deprecated in 0.17 and willraise ValueError in 0.19. Reshape your data either using X.reshape(-1, 1) if your data has a single feature or X.reshape(1, -1) if it contains a single sample.\n",
      "  DeprecationWarning)\n"
     ]
    },
    {
     "name": "stdout",
     "output_type": "stream",
     "text": [
      "http://www.koreabaseball.com/Schedule/Game/BoxScore.aspx?leagueId=1&seriesId=0&gameId=20160902SKWO0&gyear=2016\n"
     ]
    },
    {
     "name": "stderr",
     "output_type": "stream",
     "text": [
      "/home/gohyunyoung98/anaconda2/lib/python2.7/site-packages/sklearn/utils/validation.py:386: DeprecationWarning: Passing 1d arrays as data is deprecated in 0.17 and willraise ValueError in 0.19. Reshape your data either using X.reshape(-1, 1) if your data has a single feature or X.reshape(1, -1) if it contains a single sample.\n",
      "  DeprecationWarning)\n"
     ]
    },
    {
     "name": "stdout",
     "output_type": "stream",
     "text": [
      "http://www.koreabaseball.com/Schedule/Game/BoxScore.aspx?leagueId=1&seriesId=0&gameId=20160903LGKT0&gyear=2016\n"
     ]
    },
    {
     "name": "stderr",
     "output_type": "stream",
     "text": [
      "/home/gohyunyoung98/anaconda2/lib/python2.7/site-packages/sklearn/utils/validation.py:386: DeprecationWarning: Passing 1d arrays as data is deprecated in 0.17 and willraise ValueError in 0.19. Reshape your data either using X.reshape(-1, 1) if your data has a single feature or X.reshape(1, -1) if it contains a single sample.\n",
      "  DeprecationWarning)\n"
     ]
    },
    {
     "name": "stdout",
     "output_type": "stream",
     "text": [
      "http://www.koreabaseball.com/Schedule/Game/BoxScore.aspx?leagueId=1&seriesId=0&gameId=20160903SKNC0&gyear=2016\n"
     ]
    },
    {
     "name": "stderr",
     "output_type": "stream",
     "text": [
      "/home/gohyunyoung98/anaconda2/lib/python2.7/site-packages/sklearn/utils/validation.py:386: DeprecationWarning: Passing 1d arrays as data is deprecated in 0.17 and willraise ValueError in 0.19. Reshape your data either using X.reshape(-1, 1) if your data has a single feature or X.reshape(1, -1) if it contains a single sample.\n",
      "  DeprecationWarning)\n"
     ]
    },
    {
     "name": "stdout",
     "output_type": "stream",
     "text": [
      "http://www.koreabaseball.com/Schedule/Game/BoxScore.aspx?leagueId=1&seriesId=0&gameId=20160903LTHT0&gyear=2016\n"
     ]
    },
    {
     "name": "stderr",
     "output_type": "stream",
     "text": [
      "/home/gohyunyoung98/anaconda2/lib/python2.7/site-packages/sklearn/utils/validation.py:386: DeprecationWarning: Passing 1d arrays as data is deprecated in 0.17 and willraise ValueError in 0.19. Reshape your data either using X.reshape(-1, 1) if your data has a single feature or X.reshape(1, -1) if it contains a single sample.\n",
      "  DeprecationWarning)\n"
     ]
    },
    {
     "name": "stdout",
     "output_type": "stream",
     "text": [
      "http://www.koreabaseball.com/Schedule/Game/BoxScore.aspx?leagueId=1&seriesId=0&gameId=20160903SSOB0&gyear=2016\n"
     ]
    },
    {
     "name": "stderr",
     "output_type": "stream",
     "text": [
      "/home/gohyunyoung98/anaconda2/lib/python2.7/site-packages/sklearn/utils/validation.py:386: DeprecationWarning: Passing 1d arrays as data is deprecated in 0.17 and willraise ValueError in 0.19. Reshape your data either using X.reshape(-1, 1) if your data has a single feature or X.reshape(1, -1) if it contains a single sample.\n",
      "  DeprecationWarning)\n"
     ]
    },
    {
     "name": "stdout",
     "output_type": "stream",
     "text": [
      "http://www.koreabaseball.com/Schedule/Game/BoxScore.aspx?leagueId=1&seriesId=0&gameId=20160903HHWO0&gyear=2016\n"
     ]
    },
    {
     "name": "stderr",
     "output_type": "stream",
     "text": [
      "/home/gohyunyoung98/anaconda2/lib/python2.7/site-packages/sklearn/utils/validation.py:386: DeprecationWarning: Passing 1d arrays as data is deprecated in 0.17 and willraise ValueError in 0.19. Reshape your data either using X.reshape(-1, 1) if your data has a single feature or X.reshape(1, -1) if it contains a single sample.\n",
      "  DeprecationWarning)\n"
     ]
    }
   ],
   "source": [
    "# MySQL conf\n",
    "con=MySQLdb.connect(host='218.150.181.131',user='root',passwd='1234',db='link10th',charset='utf8', use_unicode=True)\n",
    "\n",
    "for url in urlParserForKBO.urlList:\n",
    "    print url\n",
    "    parser_KBO=Parser_KBO(url)\n",
    "    parser_DaumKBO=Parser_DaumKBO(parser_KBO.boxScore['date'],parser_KBO.boxScore['away']['name'])\n",
    "    \n",
    "#     try:\n",
    "    date=writeDate(parser_KBO)\n",
    "    contextClassifier=getClassifier(parser_KBO,parser_DaumKBO)\n",
    "    Head=writeHead(parser_KBO,parser_DaumKBO,contextClassifier)\n",
    "    Intro=writeIntro(parser_KBO,parser_DaumKBO,contextClassifier)\n",
    "    Main=writeMain(parser_KBO,parser_DaumKBO)\n",
    "    Conc=writeConc(parser_KBO,parser_DaumKBO,contextClassifier)\n",
    "    emblem=getEmblem(parser_KBO)\n",
    "    homeT=TransformeTeamName.get(parser_KBO.boxScore['home']['name'])\n",
    "    awayT=TransformeTeamName.get(parser_KBO.boxScore['away']['name'])\n",
    "    A1=parser_KBO.boxScore['away']['score'][0]\n",
    "    A2=parser_KBO.boxScore['away']['score'][1]\n",
    "    A3=parser_KBO.boxScore['away']['score'][2]\n",
    "    A4=parser_KBO.boxScore['away']['score'][3]\n",
    "    A5=parser_KBO.boxScore['away']['score'][4]\n",
    "    A6=parser_KBO.boxScore['away']['score'][5]\n",
    "    A7=parser_KBO.boxScore['away']['score'][6]\n",
    "    A8=parser_KBO.boxScore['away']['score'][7]\n",
    "    A9=parser_KBO.boxScore['away']['score'][8]\n",
    "    A10=parser_KBO.boxScore['away']['score'][9]\n",
    "    A11=parser_KBO.boxScore['away']['score'][10]\n",
    "    A12=parser_KBO.boxScore['away']['score'][11]\n",
    "    AR=parser_KBO.boxScore['away']['score'][12]\n",
    "    AH=parser_KBO.boxScore['away']['score'][13]\n",
    "    AE=parser_KBO.boxScore['away']['score'][14]\n",
    "    AB=parser_KBO.boxScore['away']['score'][15]\n",
    "\n",
    "    H1=parser_KBO.boxScore['home']['score'][0]\n",
    "    H2=parser_KBO.boxScore['home']['score'][1]\n",
    "    H3=parser_KBO.boxScore['home']['score'][2]\n",
    "    H4=parser_KBO.boxScore['home']['score'][3]\n",
    "    H5=parser_KBO.boxScore['home']['score'][4]\n",
    "    H6=parser_KBO.boxScore['home']['score'][5]\n",
    "    H7=parser_KBO.boxScore['home']['score'][6]\n",
    "    H8=parser_KBO.boxScore['home']['score'][7]\n",
    "    H9=parser_KBO.boxScore['home']['score'][8]\n",
    "    H10=parser_KBO.boxScore['home']['score'][9]\n",
    "    H11=parser_KBO.boxScore['home']['score'][10]\n",
    "    H12=parser_KBO.boxScore['home']['score'][11]\n",
    "    HR=parser_KBO.boxScore['home']['score'][12]\n",
    "    HH=parser_KBO.boxScore['home']['score'][13]\n",
    "    HE=parser_KBO.boxScore['home']['score'][14]\n",
    "    HB=parser_KBO.boxScore['home']['score'][15]\n",
    "#     print Head\n",
    "#     print Intro\n",
    "#     print Main\n",
    "#     print Conc\n",
    "#     print\n",
    "#     except:\n",
    "#         sys.stderr.write(unicode.format(u'********** 날짜 : %s %s와 %s의 경기 파싱오류 ********** '%(parser_KBO.boxScore['date'],parser_KBO.boxScore['away']['name'],parser_KBO.boxScore['home']['name'])))\n",
    "    \n",
    "    #교정부분\n",
    "#     Head = spell_checker.check(Head)\n",
    "#     Intro = spell_checker.check(Intro)\n",
    "#     Main = spell_checker.check(Main)\n",
    "#     Conc = spell_checker.check(Conc)\n",
    "#     Head = Head.checked\n",
    "#     Intro = Intro.checked\n",
    "#     Main = Main.checked\n",
    "#     Conc = Conc.checked\n",
    "         \n",
    "    cursor=con.cursor()\n",
    "#     Article Table INSERT\n",
    "    cursor.execute(\n",
    "    '''\n",
    "    INSERT INTO Article(date,Head,Intro,Main,Conc,url,emblem,homeT,awayT,\n",
    "    A1,A2,A3,A4,A5,A6,A7,A8,A9,A10,A11,A12,AR,AH,AE,AB,\n",
    "    H1,H2,H3,H4,H5,H6,H7,H8,H9,H10,H11,H12,HR,HH,HE,HB)\n",
    "    VALUES (\n",
    "    \\'%s\\',\\'%s\\',\\'%s\\',\\'%s\\',\\'%s\\',\\'%s\\',\\'%s\\',\\'%s\\',\\'%s\\',\n",
    "    \\'%s\\',\\'%s\\',\\'%s\\',\\'%s\\',\\'%s\\',\\'%s\\',\\'%s\\',\\'%s\\',\\'%s\\',\\'%s\\',\\'%s\\',\\'%s\\',\\'%s\\',\\'%s\\',\\'%s\\',\\'%s\\',\n",
    "    \\'%s\\',\\'%s\\',\\'%s\\',\\'%s\\',\\'%s\\',\\'%s\\',\\'%s\\',\\'%s\\',\\'%s\\',\\'%s\\',\\'%s\\',\\'%s\\',\\'%s\\',\\'%s\\',\\'%s\\',\\'%s\\'\n",
    "    )\n",
    "    \n",
    "    \n",
    "    INSERT INTO CriticalInning(ArticleId,CriticalInning_Url)\n",
    "    VALUES(\n",
    "    \\'%s\\',\\'%s\\'\n",
    "    )\n",
    "    '''\n",
    "    %(date,Head,Intro,Main,Conc,url,emblem,homeT,awayT,\n",
    "      A1,A2,A3,A4,A5,A6,A7,A8,A9,A10,A11,A12,AR,AH,AE,AB,\n",
    "      H1,H2,H3,H4,H5,H6,H7,H8,H9,H10,H11,H12,HR,HH,HE,HB,\n",
    "      \n",
    "     )\n",
    "        \n",
    "    )\n",
    "    \n",
    "#     MySQL disconnect\n",
    "    con.commit()\n",
    "    cursor.close()\n",
    "con.close()"
   ]
  },
  {
   "cell_type": "code",
   "execution_count": 12,
   "metadata": {
    "collapsed": false
   },
   "outputs": [
    {
     "name": "stderr",
     "output_type": "stream",
     "text": [
      "/home/gohyunyoung98/anaconda2/lib/python2.7/site-packages/bs4/__init__.py:166: UserWarning: No parser was explicitly specified, so I'm using the best available HTML parser for this system (\"lxml\"). This usually isn't a problem, but if you run this code on another system, or in a different virtual environment, it may use a different parser and behave differently.\n",
      "\n",
      "To get rid of this warning, change this:\n",
      "\n",
      " BeautifulSoup([your markup])\n",
      "\n",
      "to this:\n",
      "\n",
      " BeautifulSoup([your markup], \"lxml\")\n",
      "\n",
      "  markup_type=markup_type))\n"
     ]
    }
   ],
   "source": [
    "a=Parser_DaumKBO('20160901','KIA')"
   ]
  },
  {
   "cell_type": "code",
   "execution_count": 17,
   "metadata": {
    "collapsed": false
   },
   "outputs": [
    {
     "data": {
      "text/plain": [
       "'http://videofarm.daum.net/controller/video/viewer/Video.html?use_post_message=true&play_loc=daum_sports&wmode=transparent&o_visibility=false&i_visibility=false&r_visibility=false&autoplay=false&m_use_inline=true&m_cover_visibility=true&m_use_3g4g_alert=true&m_use_hd_alert=true&vid=vadf422f2zzfsOp77UDY7Ug'"
      ]
     },
     "execution_count": 17,
     "metadata": {},
     "output_type": "execute_result"
    }
   ],
   "source": [
    "a.criticalInningVOD_Url[0]"
   ]
  },
  {
   "cell_type": "code",
   "execution_count": 161,
   "metadata": {
    "collapsed": false,
    "scrolled": false
   },
   "outputs": [
    {
     "name": "stdout",
     "output_type": "stream",
     "text": [
      "\n",
      "\n",
      "\n",
      "\n",
      "\n"
     ]
    }
   ],
   "source": [
    "# contextClassifier == 완승(승리팀 기준으로 얘기, 점수있는 이닝만)\n",
    "\n",
    "innCount=minInning\n",
    "for inning in parser_KBO.situation['winTeam'][minInning:]:\n",
    "    playerCount=1\n",
    "    #     해당이닝이 승리팀의 득점이 있는경우\n",
    "    if parser_KBO.boxScore['winTeam']['score'][innCount]>0:\n",
    "        for content in inning:\n",
    "            #             문장에 루타가 있는 경우\n",
    "            if u'루타' in content['act']:\n",
    "                innCount,str(playerCount)+content['act']\n",
    "                print innCount,'이닝',index['player'],index['act']\n",
    "            playerCount+=1\n",
    "    print\n",
    "    innCount+=1"
   ]
  },
  {
   "cell_type": "code",
   "execution_count": 28,
   "metadata": {
    "collapsed": false
   },
   "outputs": [],
   "source": [
    "sentence5Group=[u'',\n",
    "            changeWithParam(u' upperTeam 그리고 downTeam의 순위는 gabOfGame게임 차이다.',\n",
    "                            [u'내일 경기결과에 따라 순위 변동의 가능성이 보인다.',\n",
    "                            u'앞으로의 경기가 중요하게 되었다.',\n",
    "                            u'',\n",
    "                            u'',\n",
    "                            u'']\n",
    "                           )\n",
    "    ]\n",
    "    \n",
    "    \n",
    "    teamrank = Parser_KBO.rank\n",
    "    gab = []\n",
    "    gameN = []\n",
    "    rankSentence\n",
    "    homeTeamName = Parser_KBO.boxScore['home']['name']\n",
    "    awayTeamName = Parser_KBO.boxScore['home']['name']\n",
    "    for i in ['1', '2', '3', '4', '5', '6', '7', '8', '9', '10']:\n",
    "        gab.append(teamrank.loc[i,u'게임차'])\n",
    "        gameN.append(int(teamrank.loc[i,u'승']) + int(teamrank.loc[i,u'패']) + int(teamrank.loc[i,u'무']))\n",
    "    for i in range(0,9):\n",
    "        if((float(gab[i+1]) - float(gab[i])) <= 1 and gameN[i] < 144 and gameN[i+1] < 144):\n",
    "            upper = teamrank.loc[str(int(i) + 1),u'팀명']\n",
    "            down = teamrank.loc[str(int(i+1) + 1),u'팀명']\n",
    "            if(upper == homeTeamName or upper == awayTeamName or down == homeTeamName or down == awayTeamName):\n",
    "                \n",
    "        elif((float(gab[i+1]) - float(gab[i])) <= 3 and gameN[i]+6 < 144 and gameN[i+1]+6 < 144):\n",
    "            upper = teamrank.loc[str(int(i) + 1),u'팀명']\n",
    "            down = teamrank.loc[str(int(i+1) + 1),u'팀명']\n",
    "            if(upper == homeTeamName or upper == awayTeamName or down == homeTeamName or down == awayTeamName):"
   ]
  },
  {
   "cell_type": "code",
   "execution_count": 29,
   "metadata": {
    "collapsed": false
   },
   "outputs": [
    {
     "data": {
      "text/html": [
       "<div>\n",
       "<table border=\"1\" class=\"dataframe\">\n",
       "  <thead>\n",
       "    <tr style=\"text-align: right;\">\n",
       "      <th></th>\n",
       "      <th>팀명</th>\n",
       "      <th>승</th>\n",
       "      <th>패</th>\n",
       "      <th>무</th>\n",
       "      <th>승률</th>\n",
       "      <th>게임차</th>\n",
       "      <th>최근10경기</th>\n",
       "      <th>연속</th>\n",
       "      <th>홈</th>\n",
       "      <th>방문</th>\n",
       "    </tr>\n",
       "    <tr>\n",
       "      <th>순위</th>\n",
       "      <th></th>\n",
       "      <th></th>\n",
       "      <th></th>\n",
       "      <th></th>\n",
       "      <th></th>\n",
       "      <th></th>\n",
       "      <th></th>\n",
       "      <th></th>\n",
       "      <th></th>\n",
       "      <th></th>\n",
       "    </tr>\n",
       "  </thead>\n",
       "  <tbody>\n",
       "    <tr>\n",
       "      <th>1</th>\n",
       "      <td>두산</td>\n",
       "      <td>78</td>\n",
       "      <td>43</td>\n",
       "      <td>1</td>\n",
       "      <td>0.645</td>\n",
       "      <td>0</td>\n",
       "      <td>6승0무4패</td>\n",
       "      <td>1패</td>\n",
       "      <td>40-1-23</td>\n",
       "      <td>38-0-20</td>\n",
       "    </tr>\n",
       "    <tr>\n",
       "      <th>2</th>\n",
       "      <td>NC</td>\n",
       "      <td>67</td>\n",
       "      <td>45</td>\n",
       "      <td>2</td>\n",
       "      <td>0.598</td>\n",
       "      <td>6.5</td>\n",
       "      <td>6승0무4패</td>\n",
       "      <td>1패</td>\n",
       "      <td>29-2-22</td>\n",
       "      <td>38-0-23</td>\n",
       "    </tr>\n",
       "    <tr>\n",
       "      <th>3</th>\n",
       "      <td>넥센</td>\n",
       "      <td>68</td>\n",
       "      <td>52</td>\n",
       "      <td>1</td>\n",
       "      <td>0.567</td>\n",
       "      <td>9.5</td>\n",
       "      <td>6승0무4패</td>\n",
       "      <td>1패</td>\n",
       "      <td>40-0-27</td>\n",
       "      <td>28-1-25</td>\n",
       "    </tr>\n",
       "    <tr>\n",
       "      <th>4</th>\n",
       "      <td>KIA</td>\n",
       "      <td>59</td>\n",
       "      <td>61</td>\n",
       "      <td>1</td>\n",
       "      <td>0.492</td>\n",
       "      <td>18.5</td>\n",
       "      <td>5승0무5패</td>\n",
       "      <td>1패</td>\n",
       "      <td>31-0-30</td>\n",
       "      <td>28-1-31</td>\n",
       "    </tr>\n",
       "    <tr>\n",
       "      <th>5</th>\n",
       "      <td>SK</td>\n",
       "      <td>60</td>\n",
       "      <td>65</td>\n",
       "      <td>0</td>\n",
       "      <td>0.480</td>\n",
       "      <td>20</td>\n",
       "      <td>4승0무6패</td>\n",
       "      <td>1승</td>\n",
       "      <td>29-0-33</td>\n",
       "      <td>31-0-32</td>\n",
       "    </tr>\n",
       "    <tr>\n",
       "      <th>6</th>\n",
       "      <td>LG</td>\n",
       "      <td>57</td>\n",
       "      <td>63</td>\n",
       "      <td>1</td>\n",
       "      <td>0.475</td>\n",
       "      <td>20.5</td>\n",
       "      <td>4승0무6패</td>\n",
       "      <td>2패</td>\n",
       "      <td>31-1-25</td>\n",
       "      <td>26-0-38</td>\n",
       "    </tr>\n",
       "    <tr>\n",
       "      <th>7</th>\n",
       "      <td>한화</td>\n",
       "      <td>54</td>\n",
       "      <td>63</td>\n",
       "      <td>3</td>\n",
       "      <td>0.462</td>\n",
       "      <td>22</td>\n",
       "      <td>6승0무4패</td>\n",
       "      <td>2승</td>\n",
       "      <td>29-2-27</td>\n",
       "      <td>25-1-36</td>\n",
       "    </tr>\n",
       "    <tr>\n",
       "      <th>8</th>\n",
       "      <td>롯데</td>\n",
       "      <td>54</td>\n",
       "      <td>65</td>\n",
       "      <td>0</td>\n",
       "      <td>0.454</td>\n",
       "      <td>23</td>\n",
       "      <td>5승0무5패</td>\n",
       "      <td>1승</td>\n",
       "      <td>32-0-26</td>\n",
       "      <td>22-0-39</td>\n",
       "    </tr>\n",
       "    <tr>\n",
       "      <th>9</th>\n",
       "      <td>삼성</td>\n",
       "      <td>52</td>\n",
       "      <td>65</td>\n",
       "      <td>1</td>\n",
       "      <td>0.444</td>\n",
       "      <td>24</td>\n",
       "      <td>4승0무6패</td>\n",
       "      <td>1승</td>\n",
       "      <td>26-0-33</td>\n",
       "      <td>26-1-32</td>\n",
       "    </tr>\n",
       "    <tr>\n",
       "      <th>10</th>\n",
       "      <td>kt</td>\n",
       "      <td>45</td>\n",
       "      <td>72</td>\n",
       "      <td>2</td>\n",
       "      <td>0.385</td>\n",
       "      <td>31</td>\n",
       "      <td>4승0무6패</td>\n",
       "      <td>1승</td>\n",
       "      <td>23-0-38</td>\n",
       "      <td>22-2-34</td>\n",
       "    </tr>\n",
       "  </tbody>\n",
       "</table>\n",
       "</div>"
      ],
      "text/plain": [
       "     팀명   승   패  무     승률   게임차  최근10경기  연속        홈       방문\n",
       "순위                                                           \n",
       "1    두산  78  43  1  0.645     0  6승0무4패  1패  40-1-23  38-0-20\n",
       "2    NC  67  45  2  0.598   6.5  6승0무4패  1패  29-2-22  38-0-23\n",
       "3    넥센  68  52  1  0.567   9.5  6승0무4패  1패  40-0-27  28-1-25\n",
       "4   KIA  59  61  1  0.492  18.5  5승0무5패  1패  31-0-30  28-1-31\n",
       "5    SK  60  65  0  0.480    20  4승0무6패  1승  29-0-33  31-0-32\n",
       "6    LG  57  63  1  0.475  20.5  4승0무6패  2패  31-1-25  26-0-38\n",
       "7    한화  54  63  3  0.462    22  6승0무4패  2승  29-2-27  25-1-36\n",
       "8    롯데  54  65  0  0.454    23  5승0무5패  1승  32-0-26  22-0-39\n",
       "9    삼성  52  65  1  0.444    24  4승0무6패  1승  26-0-33  26-1-32\n",
       "10   kt  45  72  2  0.385    31  4승0무6패  1승  23-0-38  22-2-34"
      ]
     },
     "execution_count": 29,
     "metadata": {},
     "output_type": "execute_result"
    }
   ],
   "source": [
    "a.rank['']"
   ]
  },
  {
   "cell_type": "code",
   "execution_count": 82,
   "metadata": {
    "collapsed": false
   },
   "outputs": [
    {
     "name": "stdout",
     "output_type": "stream",
     "text": [
      "두산\n"
     ]
    }
   ],
   "source": [
    "print parser_KBO.rank.loc[u'1',u'팀명']"
   ]
  },
  {
   "cell_type": "code",
   "execution_count": null,
   "metadata": {
    "collapsed": true
   },
   "outputs": [],
   "source": [
    "loc"
   ]
  }
 ],
 "metadata": {
  "kernelspec": {
   "display_name": "Python [Root]",
   "language": "python",
   "name": "Python [Root]"
  },
  "language_info": {
   "codemirror_mode": {
    "name": "ipython",
    "version": 2
   },
   "file_extension": ".py",
   "mimetype": "text/x-python",
   "name": "python",
   "nbconvert_exporter": "python",
   "pygments_lexer": "ipython2",
   "version": "2.7.12"
  }
 },
 "nbformat": 4,
 "nbformat_minor": 0
}
