{
 "cells": [
  {
   "cell_type": "code",
   "execution_count": 1,
   "metadata": {
    "collapsed": false
   },
   "outputs": [],
   "source": [
    "# -*- coding: utf-8 -*-\n",
    "from bs4 import BeautifulSoup\n",
    "import numpy as np\n",
    "import pandas as pd\n",
    "import urllib2\n",
    "#import sys"
   ]
  },
  {
   "cell_type": "code",
   "execution_count": 2,
   "metadata": {
    "collapsed": true
   },
   "outputs": [],
   "source": [
    "#URL넣어주면 해당 박스스코어 파싱\n",
    "class BoxScoreParser:\n",
    "    def __init__(self,url):\n",
    "        self.data = urllib2.urlopen(url)\n",
    "        self.html = BeautifulSoup(self.data)"
   ]
  },
  {
   "cell_type": "code",
   "execution_count": 3,
   "metadata": {
    "collapsed": false
   },
   "outputs": [
    {
     "name": "stderr",
     "output_type": "stream",
     "text": [
      "C:\\Users\\GoHyunyoung98\\AppData\\Local\\Enthought\\Canopy\\User\\lib\\site-packages\\bs4\\__init__.py:166: UserWarning: No parser was explicitly specified, so I'm using the best available HTML parser for this system (\"lxml\"). This usually isn't a problem, but if you run this code on another system, or in a different virtual environment, it may use a different parser and behave differently.\n",
      "\n",
      "To get rid of this warning, change this:\n",
      "\n",
      " BeautifulSoup([your markup])\n",
      "\n",
      "to this:\n",
      "\n",
      " BeautifulSoup([your markup], \"lxml\")\n",
      "\n",
      "  markup_type=markup_type))\n"
     ]
    }
   ],
   "source": [
    "data = urllib2.urlopen('http://www.koreabaseball.com/Schedule/Game/BoxScore.aspx?leagueId=1&seriesId=1&gameId=20160327NCWO0&gyear=2016')\n",
    "html = BeautifulSoup(data)"
   ]
  },
  {
   "cell_type": "code",
   "execution_count": 4,
   "metadata": {
    "collapsed": false,
    "scrolled": true
   },
   "outputs": [
    {
     "data": {
      "text/plain": [
       "<!DOCTYPE html PUBLIC \"-//W3C//DTD XHTML 1.0 Transitional//EN\" \"http://www.w3.org/TR/xhtml1/DTD/xhtml1-transitional.dtd\">\\n<html xmlns=\"http://www.w3.org/1999/xhtml\">\\n<head><link href=\"//image.koreabaseball.com/client/images/common/favicon.ico\" rel=\"shortcut icon\"/><meta content=\"text/html; charset=unicode-escape\" http-equiv=\"content-type\"/><meta content=\"kbo\" name=\"keywords\"/><meta content=\"20130308\" name=\"author-date\"/><meta content=\"IE=9, Chrome\" http-equiv=\"x-ua-compatible\"/><title>\\r\\n\\t\\ubc15\\uc2a4\\uc2a4\\ucf54\\uc5b4 | \\uacbd\\uae30\\uc77c\\uc815/\\uacb0\\uacfc | KBO\\r\\n</title><link href=\"//image.koreabaseball.com/client/css/reset.css?version=201503111\" rel=\"stylesheet\" type=\"text/css\"/><link href=\"//image.koreabaseball.com/client/css/common.css?version=20160310\" rel=\"stylesheet\" type=\"text/css\"/><link href=\"//image.koreabaseball.com/client/css/jquery-ui.css\" rel=\"stylesheet\" type=\"text/css\"/><link href=\"//image.koreabaseball.com/client/css/jquery.bxslider.css?version=20151006\" rel=\"stylesheet\" type=\"text/css\"/>\\n<script src=\"//image.koreabaseball.com/client/js/jquery-1.11.1.min.js\" type=\"text/javascript\"></script>\\n<script src=\"//image.koreabaseball.com/client/js/jquery-ui.js\" type=\"text/javascript\"></script>\\n<script src=\"//image.koreabaseball.com/client/js/jquery.bxslider.min.js\" type=\"text/javascript\"></script>\\n<script src=\"//image.koreabaseball.com/client/js/common.js?version=20150724\" type=\"text/javascript\"></script>\\n<script src=\"//image.koreabaseball.com/client/js/rolling.js?version=20150305\" type=\"text/javascript\"></script>\\n<link href=\"http://image.koreabaseball.com/client/css/jquery-ui-theme.css?version=20150317\" rel=\"stylesheet\" type=\"text/css\"/>\\n<link href=\"http://image.koreabaseball.com/client/css/sub.css?version=20150311\" rel=\"stylesheet\" type=\"text/css\"/>\\n<link href=\"http://image.koreabaseball.com/client/css/games.css?version=20151029\" rel=\"stylesheet\" type=\"text/css\"/>\\n<script type=\"text/javascript\">\\r\\n        function setPlayerSearch() {\\r\\n            var searchWord = encodeURI($('#txtSearchWord').val());\\r\\n\\r\\n            if (searchWord != \"\") {\\r\\n                location.href = \"/Player/Search.aspx?searchWord=\" + searchWord;\\r\\n            }\\r\\n        }\\r\\n    </script>\\n<script type=\"text/javascript\">\\r\\n        (function (i, s, o, g, r, a, m) {\\r\\n        i['GoogleAnalyticsObject'] = r; i[r] = i[r] || function () {\\r\\n            (i[r].q = i[r].q || []).push(arguments)\\r\\n        }, i[r].l = 1 * new Date(); a = s.createElement(o),\\r\\n            m = s.getElementsByTagName(o)[0]; a.async = 1; a.src = g; m.parentNode.insertBefore(a, m)\\r\\n        })(window, document, 'script', '//www.google-analytics.com/analytics.js', 'ga');\\r\\n\\r\\n        ga('create', 'UA-15700655-14', 'auto');\\r\\n        ga('send', 'pageview');\\r\\n    </script>\\n</head>\\n<body>\\n<form action=\"./BoxScore.aspx?leagueId=1&amp;seriesId=1&amp;gameId=20160327NCWO0&amp;gyear=2016\" id=\"mainForm\" method=\"post\">\\n<input id=\"__VIEWSTATE\" name=\"__VIEWSTATE\" type=\"hidden\" value=\"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\"/>\\n<script src=\"/ScriptResource.axd?d=_Pvr0cgdLNXg2oiGWFaxUWFjfe-0-PxrgskDPNt6CoFIpzDRvcjNDpEx_u67j1iMbFaOI3L9P7NH3kmIzrf_nh2KivTgiTAU3OOm8iws77re50sJBJisvF7OTCcPPav2-hWjFSAD1O6OQ0bNbJaD4MpyMmglGoJnWYerJX5JpniUwAmgPzAgzuOo11CjDlwU0&amp;t=5f9d5645\" type=\"text/javascript\"></script>\\n<script type=\"text/javascript\">\\r\\n//<![CDATA[\\r\\nif (typeof(Sys) === 'undefined') throw new Error('ASP.NET Ajax \\ud074\\ub77c\\uc774\\uc5b8\\ud2b8 \\ucabd \\ud504\\ub808\\uc784\\uc6cc\\ud06c\\ub97c \\ub85c\\ub4dc\\ud558\\uc9c0 \\ubabb\\ud588\\uc2b5\\ub2c8\\ub2e4.');\\r\\n//]]>\\r\\n</script>\\n<input id=\"__VIEWSTATEGENERATOR\" name=\"__VIEWSTATEGENERATOR\" type=\"hidden\" value=\"A5085B47\"/>\\n<input id=\"__EVENTVALIDATION\" name=\"__EVENTVALIDATION\" type=\"hidden\" value=\"/wEdAAJCNgC8cTs7No6nkzSP6lgfEG4FQbqeMQMc81CqbOAKu/dio5L57VXVfcgKpPboVTGlxuFg7+vciqsVQD9k64/2\"/>\\n<div id=\"wrap\">\\n<!-- header -->\\n<div id=\"header\">\\n<div class=\"row \">\\n<div class=\"top_area\">\\n<ul class=\"top_menu\">\\n<li class=\"first-child\"><a href=\"/\" title=\"home\"><img alt=\"home\" src=\"//image.koreabaseball.com/client/images/common/btn_home.png\"/></a></li>\\n<li><a href=\"/Member/Login.aspx\" title=\"\\ub85c\\uadf8\\uc778\">\\ub85c\\uadf8\\uc778</a></li>\\n<li><a href=\"/Member/Join/Accessterms.aspx\" title=\"\\ud68c\\uc6d0\\uac00\\uc785\">\\ud68c\\uc6d0\\uac00\\uc785</a></li>\\n<li class=\"last\"><a href=\"//eng.koreabaseball.com/\" title=\"ENGLISH\">ENGLISH</a></li>\\n</ul>\\n<span class=\"srch_player\">\\n<input class=\"input01\" id=\"txtSearchWord\" name=\"ctl00$ctl00$txtSearchWord\" placeholder=\"\\uc120\\uc218\\uac80\\uc0c9\" type=\"text\"/>\\n<input alt=\"\\uc120\\uc218\\uac80\\uc0c9\\ud558\\uae30\" class=\"btn_srch\" onclick=\"setPlayerSearch();return false;\" src=\"//image.koreabaseball.com/client/images/common/btn_srch.png\" type=\"image\"/>\\n</span>\\n</div>\\n</div>\\n<div class=\"row\">\\n<div class=\"wrapper03\">\\n<h1 class=\"logo\"><a href=\"/Default.aspx\">KBO</a></h1>\\n<div class=\"kbo_history mgt30\">\\n<div class=\"row\">\\n<span class=\"title\"><b>KBO</b> \\uc5ed\\uc0ac\\uc18d \\uc624\\ub298 | </span>\\n<span class=\"date\">3\\uc6d4 30\\uc77c</span>\\n</div>\\n<div class=\"row flow_text bg_black mgt10\">\\n<ul id=\"HistoryItem\">\\n<li><a href=\"/Etc/TodayHistory.aspx?searchDate=1985-03-30\"><span class=\"point\">85'</span>\\xa0<b>\\ud328\\ub10c\\ud2b8\\ub808\\uc774\\uc2a4 \\uac1c\\ub9c9</b> \\uc0bc\\uc1315:3 \\ud574\\ud0dc(\\ub300\\uad6c), \\uc0bc...</a>\\xa0</li>\\n<li><a href=\"/Etc/TodayHistory.aspx?searchDate=2004-03-30\"><span class=\"point\">04'</span>\\xa0<b>\\ud55c-\\ubbf8-\\uc77c 3\\uad6d \\ucee4...</b> \\ud55c\\uad6d\\uc57c\\uad6c\\uc704\\uc6d0\\ud68c \\ubc15\\uc6a9\\uc624 \\ucd1d\\uc7ac\\ub294...</a>\\xa0</li>\\n<li><a href=\"/Etc/TodayHistory.aspx?searchDate=2008-03-30\"><span class=\"point\">08'</span>\\xa0<b>\\ud328\\ub10c\\ud2b8\\ub808\\uc774\\uc2a4 \\uac1c\\ub9c9 ...</b> \\ub450\\uc0b04:1 \\ud788\\uc5b4\\ub85c\\uc988(\\uc7a0\\uc2e4)\\r...</a>\\xa0</li>\\n<li><a href=\"/Etc/TodayHistory.aspx?searchDate=2011-03-30\"><span class=\"point\">11'</span>\\xa0<b>\\uc218\\uc6d0\\uc2dc, \\ud504\\ub85c\\uc57c\\uad6c ...</b> \\uc218\\uc6d0\\uc2dc\\uac00 \\ud504\\ub85c\\uc57c\\uad6c \\uc81c10\\uad6c\\ub2e8...</a>\\xa0</li>\\n<li><a href=\"/Etc/TodayHistory.aspx?searchDate=2011-03-30\"><span class=\"point\">11'</span>\\xa0<b>\\ud504\\ub85c\\uc57c\\uad6c 30\\uc8fc\\ub144 ...</b> \\ud55c\\uad6d\\uc57c\\uad6c\\uc704\\uc6d0\\ud68c\\ub294 \\ud55c\\uad6d\\uc2a4\\ud3ec\\uce20\\uc0ac...</a>\\xa0</li>\\n<li><a href=\"/Etc/TodayHistory.aspx?searchDate=2013-03-30\"><span class=\"point\">13'</span>\\xa0<b>2013 \\ud55c\\uad6d\\uc57c\\ucfe0\\ub974...</b> \\ubb38\\ud559 LG-SK, \\uc0ac\\uc9c1 \\ud55c\\ud654...</a>\\xa0</li>\\n</ul>\\n<div class=\"btnControl\">\\n<a class=\"left\" href=\"#\"><img alt=\"Left\" src=\"//image.koreabaseball.com/client/images/main/roll_prev.png\"/></a>\\n<a class=\"stop\" href=\"#\"><img alt=\"Stop\" src=\"//image.koreabaseball.com/client/images/main/roll_stop.png\"/></a>\\n<a class=\"right\" href=\"#\"><img alt=\"Right\" src=\"//image.koreabaseball.com/client/images/main/roll_next.png\"/></a>\\n</div>\\n</div>\\n</div>\\n</div>\\n</div>\\n<div class=\"row\">\\n<div class=\"wrapper03\">\\n<!-- gnb -->\\n<div class=\"gnb\">\\n<ul class=\"main\">\\n<li><a href=\"/Schedule/ScoreBoard/ScoreBoard.aspx\" style=\"width:86px\">\\uacbd\\uae30\\uc77c\\uc815/\\uacb0\\uacfc</a>\\n<ul class=\"sub por01\">\\n<li><a href=\"/Schedule/ScoreBoard/ScoreBoard.aspx\">\\uc2a4\\ucf54\\uc5b4\\ubcf4\\ub4dc</a></li>\\n<li><a href=\"/Schedule/GameList/General.aspx?seriesId=1\">\\uacbd\\uae30\\uc77c\\uc815/\\uacb0\\uacfc</a></li>\\n<li><a href=\"/Schedule/GameList/CalendarSchedule.aspx\">\\uc6d4\\ubcc4\\uc77c\\uc815/\\uacb0\\uacfc</a></li>\\n</ul>\\n</li>\\n<li><a href=\"/TeamRank/TeamRank.aspx\">\\ud300\\uc21c\\uc704</a>\\n<ul class=\"sub\">\\n<li><a href=\"/TeamRank/TeamRank.aspx\">\\ud300\\uc21c\\uc704</a></li>\\n<li><a href=\"/TeamRank/GraphDaily.aspx\">\\ud300\\ubcc4 \\uc21c\\uc704\\ubcc0\\ub3d9 \\uadf8\\ub798\\ud504</a></li>\\n</ul>\\n</li>\\n<li><a href=\"/Record/Main.aspx\">\\uae30\\ub85d\\uc2e4</a>\\n<ul class=\"sub\">\\n<li><a href=\"/Record/Main.aspx\">TOP5</a></li>\\n<li><a href=\"/Record/Player/HitterBasic/Basic1.aspx\">\\uae30\\ub85d\\uc2e4</a></li>\\n<li><a href=\"/Record/Etc/HitVsPit.aspx\">\\ud22c\\uc218 vs \\ud0c0\\uc790</a></li>\\n<li><a href=\"/Record/Crowd/GraphTeam.aspx\">\\uad00\\uc911\\ud604\\ud669-KBO \\uc815\\uaddc\\uc2dc\\uc98c</a></li>\\n<li><a href=\"/Record/Crowd/History.aspx\">\\uc5ed\\ub300 \\uad00\\uc911\\ud604\\ud669</a></li>\\n</ul>\\n</li>\\n<li><a href=\"/Futures/Schedule/GameList.aspx\" style=\"width:65px\">\\ud4e8\\ucc98\\uc2a4\\ub9ac\\uadf8</a>\\n<ul class=\"sub\">\\n<li><a href=\"/Futures/Schedule/GameList.aspx\">\\uacbd\\uae30\\uc77c\\uc815/\\uacb0\\uacfc</a></li>\\n<li><a href=\"/Futures/TeamRank/North.aspx\">\\ud300\\uc21c\\uc704</a></li>\\n<li><a href=\"/Futures/Main/Main.aspx\">TOP5</a></li>\\n<li><a href=\"/Futures/Player/Hitter.aspx\">\\uae30\\ub85d\\uc2e4</a></li>\\n</ul>\\n</li>\\n<li><a href=\"/History/Top/Hitter.aspx\" style=\"width:65px\">\\uc5ed\\ub300\\uae30\\ub85d\\uc2e4</a>\\n<ul class=\"sub\">\\n<li><a href=\"/History/Top/Hitter.aspx\">\\uc5ed\\ub300 \\ucd5c\\uace0\\uae30\\ub85d 10\\uac78</a></li>\\n<li><a href=\"/History/Team/Record.aspx\">\\uc5ed\\ub300 \\uad6c\\ub2e8\\uc131\\uc801</a></li>\\n<li><a href=\"/History/Player/HitterRecord.aspx\">\\uc5ed\\ub300 \\ud0c0\\uc790</a></li>\\n<li><a href=\"/History/Player/PitcherRecord.aspx\">\\uc5ed\\ub300 \\ud22c\\uc218</a></li>\\n<li><a href=\"/History/Etc/PlayerPrize.aspx\">\\uc5ed\\ub300 \\uac1c\\uc778\\uc218\\uc0c1</a></li>\\n<li><a href=\"/History/Etc/GoldenGlove.aspx\">\\uc5ed\\ub300 \\uace8\\ub4e0\\uae00\\ub7ec\\ube0c</a></li>\\n<li><a href=\"/History/Etc/Amazing.aspx\">\\uc9c4\\uae30\\ub85d \\uba85\\uae30\\ub85d</a></li>\\n<li><a href=\"/History/Ebook/Ebook2015.aspx\">E-BOOK</a></li>\\n<li><a href=\"/History/International/SeoulSuper2015.aspx\">\\uad6d\\uc81c\\ub300\\ud68c</a></li>\\n</ul>\\n</li>\\n<li><a href=\"/News/Main.aspx\">NEWS</a>\\n<ul class=\"sub\">\\n<li><a href=\"/News/Main.aspx\">NEWS</a></li>\\n<li><a href=\"/News/Notice/List.aspx\">KBO \\ubcf4\\ub3c4\\uc790\\ub8cc</a></li>\\n<li><a href=\"/News/Preview/List.aspx\">\\ud504\\ub9ac\\ubdf0</a></li>\\n<li><a href=\"/News/BreakingNews/List.aspx\">KBO \\ub9ac\\uadf8 \\uc18d\\ubcf4</a></li>\\n<li><a href=\"/News/Interview/List.aspx\">\\uc2a4\\ud0c0 \\uc778\\ud130\\ubdf0</a></li>\\n<li><a href=\"/News/KboPhoto/List.aspx\">KBO PHOTO</a></li>\\n<li><a href=\"/News/ExpectationWeek/List.aspx\">\\uc8fc\\uac04 \\uc608\\uc0c1 \\ub2ec\\uc131\\uae30\\ub85d</a></li>\\n<li><a href=\"/News/ExpectationDaily/List.aspx\">\\uc77c\\uac04 \\uc608\\uc0c1 \\ub2ec\\uc131\\uae30\\ub85d</a></li>\\n</ul>\\n</li>\\n<li><a href=\"/KboTv/Highlight/List.aspx\" style=\"width:52px\">KBO TV</a>\\n<ul class=\"sub\">\\n<li><a href=\"/KboTv/Highlight/List.aspx\">\\ud558\\uc774\\ub77c\\uc774\\ud2b8</a></li>\\n<li><a href=\"/KboTv/MonthMvp/List.aspx\">\\uc6d4\\uac04 MVP</a></li>\\n<li><a href=\"/KboTv/ADTCaps/List.aspx\">\\uc6d4\\uac04 ADT\\ucea1\\uc2a4\\ud50c\\ub808\\uc774</a></li>\\n<li><a href=\"/KboTv/Legend/List.aspx\">\\ub808\\uc804\\ub4dc \\uc62c\\uc2a4\\ud0c0 \\ub3d9\\uc601\\uc0c1</a></li>\\n<li><a href=\"/KboTv/Naver.aspx\">NAVER \\uc2a4\\ud3ec\\uce20</a></li>\\n<li><a href=\"/KboTv/Daum.aspx\">Daum \\uc2a4\\ud3ec\\uce20</a></li>\\n<li><a href=\"/KboTv/Crowd/List.aspx\">KBO \\uc601\\uc0c1</a></li>\\n<li><a href=\"/KboTv/VeteranInterview/List.aspx\">\\uc57c\\uad6c \\uc6d0\\ub85c \\uc778\\ud130\\ubdf0</a></li>\\n<li><a href=\"/KboTv/Beginner/List.aspx\">\\ucd08\\uae09\\uc790\\uc6a9 \\uc0ac\\uc774\\ubc84\\uc57c\\uad6c\\uad50\\uc2e4</a></li>\\n</ul>\\n</li>\\n<li><a href=\"/Player/Search.aspx\" style=\"width:52px\">\\uc120\\uc218\\ud604\\ud669</a>\\n<ul class=\"sub\">\\n<li><a href=\"/Player/Search.aspx\">\\uc120\\uc218\\uc870\\ud68c</a></li>\\n<li><a href=\"/Player/Register.aspx\">\\uc120\\uc218\\ub4f1\\ub85d\\ud604\\ud669</a></li>\\n<li><a href=\"/Player/RegisterAll.aspx\">\\uc804\\uccb4\\ub4f1\\ub85d\\ud604\\ud669</a></li>\\n</ul>\\n</li>\\n<li><a href=\"/Board/Faq/List.aspx\">\\uac8c\\uc2dc\\ud310</a>\\n<ul class=\"sub\">\\n<li><a href=\"/Board/Faq/List.aspx\">\\uc790\\uc8fc\\ud558\\ub294 \\uc9c8\\ubb38</a></li>\\n<li><a href=\"/Board/Qna/List.aspx\">Q&amp;A \\uac8c\\uc2dc\\ud310</a></li>\\n<li><a href=\"/Board/Free/List.aspx\">\\uc790\\uc720 \\uac8c\\uc2dc\\ud310</a></li>\\n<li><a href=\"/Board/Committee/List.aspx\">\\uae30\\ub85d\\uc704\\uc6d0\\ud68c Q&amp;A \\uac8c\\uc2dc\\ud310</a></li>\\n</ul>\\n</li>\\n</ul>\\n<ul class=\"special\">\\n<li><a class=\"gnb_about\" href=\"/About/Safe.aspx\">ABOUT <strong>KBO</strong></a>\\n<ul class=\"sub\">\\n<li><a href=\"/About/Safe.aspx\">SAFE \\ucea0\\ud398\\uc778</a></li>\\n<li><a href=\"/Event/DreamSave05.aspx\">Dream Save</a></li>\\n<li><a href=\"/About/TeamInfo.aspx\">\\uad6c\\ub2e8\\uc18c\\uac1c</a></li>\\n<li><a href=\"/About/Group/Activity.aspx\">\\uc870\\uc9c1 \\ubc0f \\ud65c\\ub3d9</a></li>\\n<li><a href=\"/About/Kbop.aspx\">KBOP</a></li>\\n<li><a href=\"/About/KboCi.aspx\">KBO CI</a></li>\\n<li><a href=\"/About/CatchPhrase.aspx\">KBO \\uce90\\uce58\\ud504\\ub808\\uc774\\uc988</a></li>\\n<li><a href=\"/About/GameManage.aspx\">\\uacbd\\uae30\\uc6b4\\uc601\\uccb4\\uc81c</a></li>\\n<li><a href=\"/About/Map.aspx\">\\uc57d\\ub3c4/\\uad00\\ub78c\\ub8cc</a></li>\\n<li><a href=\"/About/GameRule.aspx\">\\uacbd\\uae30\\uaddc\\uce59</a></li>\\n<li><a href=\"/About/TeamHistory.aspx\">\\uac01 \\uad6c\\ub2e8 \\ubcc0\\ucc9c\\uc0ac</a></li>\\n<li><a href=\"/About/Change2015.aspx\">2016 \\ub2ec\\ub77c\\uc9c0\\ub294 \\uc810</a></li>\\n<li><a href=\"/About/Service2015.aspx\">KBO \\uc0ac\\ud68c\\uacf5\\ud5cc \\uc0ac\\uc5c5</a></li>\\n<li><a href=\"/Committee/Organizationchart.aspx\">\\uae30\\ub85d\\uc704\\uc6d0\\ud68c</a></li>\\n<li><a href=\"/Allstar/AllstarEvent.aspx\">2015 KBO \\uc62c\\uc2a4\\ud0c0\\uc804 </a></li>\\n</ul>\\n</li>\\n<li class=\"last\"><a class=\"gnb_mobile\" href=\"/Mobile/Kboapp.aspx\">MOBILE</a></li>\\n</ul>\\n</div>\\n<!-- \\uc544\\uc2dc\\uc544\\uc2dc\\ub9ac\\uc988 -->\\n<!--\\r\\n                    <div class=\"gnb asia\">\\r\\n                        <a href=\"#\" class=\"s_menu\"><strong>\\uc544\\uc2dc\\uc544</strong> \\uc2dc\\ub9ac\\uc988</a>\\r\\n\\t\\t\\t\\t\\t        <ul class=\"main\">\\r\\n\\t\\t\\t\\t\\t\\t        <li><a href=\"/Schedule/ScoreBoard/ScoreBoard.aspx\"style=\"width:86px\">\\uacbd\\uae30\\uc77c\\uc815/\\uacb0\\uacfc</a>\\r\\n\\t\\t\\t\\t\\t\\t\\t        <ul class=\"sub por01\">\\r\\n\\t\\t\\t\\t\\t\\t\\t\\t        <li><a href=\"/Schedule/ScoreBoard/ScoreBoard.aspx\">\\uc2a4\\ucf54\\uc5b4\\ubcf4\\ub4dc</a></li>\\r\\n\\t\\t\\t\\t\\t\\t\\t\\t        <li><a href=\"/Schedule/GameList/General.aspx\">\\uacbd\\uae30\\uc77c\\uc815/\\uacb0\\uacfc</a></li>\\r\\n\\t\\t\\t\\t\\t\\t\\t\\t        <li><a href=\"/Schedule/Analysis/Main.aspx\">\\uc804\\ub825\\ubd84\\uc11d</a></li>\\r\\n\\t\\t\\t\\t\\t\\t\\t        </ul>\\r\\n\\t\\t\\t\\t\\t\\t        </li>\\r\\n\\t\\t\\t\\t\\t\\t        <li><a href=\"/TeamRank/TeamRank.aspx\">\\ud300\\uc21c\\uc704</a>\\r\\n\\t\\t\\t\\t\\t\\t\\t        <ul class=\"sub\">\\r\\n\\t\\t\\t\\t\\t\\t\\t\\t        <li><a href=\"/TeamRank/TeamRank.aspx\" >\\ud300\\uc21c\\uc704</a></li>\\r\\n\\t\\t\\t\\t\\t\\t\\t\\t        <li><a href=\"/TeamRank/GraphDaily.aspx\" >\\ud300\\ubcc4 \\uc21c\\uc704\\ubcc0\\ub3d9 \\uadf8\\ub798\\ud504</a></li>\\r\\n\\t\\t\\t\\t\\t\\t\\t        </ul>\\r\\n\\t\\t\\t\\t\\t\\t        </li>\\r\\n\\t\\t\\t\\t\\t\\t        <li><a href=\"/Record/Main.aspx\">\\uae30\\ub85d\\uc2e4</a>\\r\\n\\t\\t\\t\\t\\t\\t\\t        <ul class=\"sub\">\\r\\n\\t\\t\\t\\t\\t\\t\\t\\t        <li><a href=\"/Record/Main.aspx\" >\\uae30\\ub85d\\uc2e4</a></li>\\r\\n\\t\\t\\t                            <li><a href=\"/Record/Etc/HitVsPit.aspx\" >\\ud22c\\uc218 vs \\ud0c0\\uc790</a></li>\\r\\n\\t\\t\\t                            \\r\\n\\t\\t\\t                            <li><a href=\"/Record/Crowd/GraphTeam.aspx\" >\\uad00\\uc911\\ud604\\ud669-KBO \\uc815\\uaddc\\uc2dc\\uc98c</a></li>\\r\\n\\t\\t\\t                            <li><a href=\"/Record/Crowd/History.aspx\" >\\uc5ed\\ub300 \\uad00\\uc911\\ud604\\ud669</a></li>\\r\\n\\t\\t\\t\\t\\t\\t\\t        </ul>\\r\\n\\t\\t\\t\\t\\t\\t        </li>\\r\\n\\t\\t\\t\\t\\t\\t        <li><a href=\"/Futures/Schedule/GameList.aspx\" style=\"width:65px\">\\ud4e8\\ucc98\\uc2a4\\ub9ac\\uadf8</a>\\r\\n\\t\\t\\t\\t\\t\\t\\t        <ul class=\"sub\">\\r\\n\\t\\t\\t\\t\\t\\t\\t\\t        <li><a href=\"/Futures/Schedule/GameList.aspx\" >\\ud4e8\\ucc98\\uc2a4 \\uacbd\\uae30 \\uc77c\\uc815/\\uacb0\\uacfc</a></li>\\r\\n\\t\\t\\t\\t\\t\\t\\t\\t        <li><a href=\"/Futures/TeamRank/North.aspx\" >\\ud4e8\\ucc98\\uc2a4 \\ud300\\uc21c\\uc704</a></li>\\r\\n\\t\\t\\t\\t\\t\\t\\t\\t        <li><a href=\"/Futures/Main/North.aspx\" >\\ud4e8\\ucc98\\uc2a4 \\uae30\\ub85d\\uc2e4</a></li>\\r\\n\\t\\t\\t\\t\\t\\t\\t        </ul>\\r\\n\\t\\t\\t\\t\\t\\t        </li>\\r\\n\\t\\t\\t\\t\\t\\t        <li><a href=\"/History/Top/Hitter.aspx\" style=\"width:65px\">\\uc5ed\\ub300\\uae30\\ub85d\\uc2e4</a>\\r\\n\\t\\t\\t\\t\\t\\t\\t        <ul class=\"sub\">\\r\\n\\t\\t\\t\\t\\t\\t\\t\\t        <li><a href=\"/History/Top/Hitter.aspx\" >\\uc5ed\\ub300 \\ucd5c\\uace0\\uae30\\ub85d 10\\uac78</a></li>\\r\\n\\t\\t\\t\\t\\t\\t\\t\\t        <li><a href=\"/History/Team/Year2010.aspx\" >\\uc5ed\\ub300 \\uad6c\\ub2e8\\uc131\\uc801</a></li>\\r\\n\\t\\t\\t\\t\\t\\t\\t\\t        <li><a href=\"/History/Player/Hitter.aspx\" >\\uc5ed\\ub300 \\ud0c0\\uc790</a></li>\\r\\n\\t\\t\\t\\t\\t\\t\\t\\t        <li><a href=\"/History/Player/Pitcher.aspx\" >\\uc5ed\\ub300 \\ud22c\\uc218</a></li>\\r\\n\\t\\t\\t\\t\\t\\t\\t\\t        <li><a href=\"/History/Etc/Award.aspx\" >\\uc5ed\\ub300 \\uac1c\\uc778\\uc218\\uc0c1</a></li>\\r\\n                                        <li><a href=\"/History/Etc/GoldenGlobe.aspx\" >\\uc5ed\\ub300 \\uace8\\ub4e0\\uae00\\ub85c\\ube0c</a></li>\\r\\n\\t\\t\\t\\t\\t\\t\\t\\t        <li><a href=\"/History/Etc/Amazing.aspx\" >\\uc9c4\\uae30\\ub85d \\uba85\\uae30\\ub85d</a></li>\\r\\n\\t\\t\\t\\t\\t\\t\\t\\t        <li><a href=\"/History/Ebook/Ebook2014.aspx\" >E-BOOK</a></li>\\r\\n\\t\\t\\t\\t\\t\\t\\t\\t        <li><a href=\"/History/International/Asia.aspx\" >\\uad6d\\uc81c\\ub300\\ud68c</a></li>\\r\\n\\t\\t\\t\\t\\t\\t\\t        </ul>\\r\\n\\t\\t\\t\\t\\t\\t        </li>\\r\\n\\t\\t\\t\\t\\t\\t        <li><a href=\"/News/Main.aspx\">NEWS</a>\\r\\n\\t\\t\\t\\t\\t\\t\\t        <ul class=\"sub\">\\r\\n\\t\\t\\t\\t\\t\\t\\t\\t        <li><a href=\"/News/Main.aspx\" >NEWS</a></li>\\r\\n\\t\\t\\t                            <li><a href=\"/News/Notice/List.aspx\" >KBO \\ubcf4\\ub3c4\\uc790\\ub8cc</a></li>\\r\\n\\t\\t\\t                            <li><a href=\"/News/Preview/List.aspx\">\\ud504\\ub9ac\\ubdf0</a></li>\\r\\n\\t\\t\\t                            <li><a href=\"/News/BreakingNews/List.aspx\" >KBO \\ub9ac\\uadf8 \\uc18d\\ubcf4</a></li>\\r\\n\\t\\t\\t                            <li><a href=\"/News/Interview/List.aspx\" >\\uc2a4\\ud0c0 \\uc778\\ud130\\ubdf0</a></li>\\r\\n\\t\\t\\t                            <li><a href=\"/News/KboPhoto/List.aspx\" >KBO PHOTO</a></li>\\r\\n\\t\\t\\t                            <li><a href=\"/News/ExpectationWeek/List.aspx\" >\\uc8fc\\uac04 \\uc608\\uc0c1 \\ub2ec\\uc131\\uae30\\ub85d</a></li>\\r\\n\\t\\t\\t                            <li><a href=\"/News/ExpectationDaily/List.aspx\" >\\uc77c\\uac04 \\uc608\\uc0c1 \\ub2ec\\uc131\\uae30\\ub85d</a></li>\\r\\n\\t\\t\\t\\t\\t\\t\\t        </ul>\\r\\n\\t\\t\\t\\t\\t\\t        </li>\\r\\n\\t\\t\\t\\t\\t\\t        <li><a href=\"/KboTv/Highlight/List.aspx\" style=\"width:47px\">KBO TV</a>\\r\\n\\t\\t\\t\\t\\t\\t\\t        <ul class=\"sub\">\\r\\n\\t\\t\\t\\t\\t\\t\\t\\t        <li><a href=\"/KboTv/Highlight/List.aspx\" >\\ud558\\uc774\\ub77c\\uc774\\ud2b8</a></li>\\r\\n\\t\\t\\t                            <li><a href=\"/KboTv/MonthMvp/List.aspx\" >\\uc6d4\\uac04 MVP</a></li>\\r\\n\\t\\t\\t                            <li><a href=\"/KboTv/Legend/List.aspx\" >\\ub808\\uc804\\ub4dc \\uc62c\\uc2a4\\ud0c0 \\ub3d9\\uc601\\uc0c1</a></li>\\r\\n\\t\\t\\t                            <li><a href=\"/KboTv/Naver.aspx\" >NAVER \\uc2a4\\ud3ec\\uce20</a></li>\\r\\n\\t\\t\\t                            <li><a href=\"/KboTv/Daum.aspx\" >DAUM\\uc2a4\\ud3ec\\uce20</a></li>\\r\\n\\t\\t\\t                            <li><a href=\"/KboTv/Crowd/List.aspx\" >\\uad00\\uc911 \\ub3cc\\ud30c \\uac10\\uc0ac\\uc601\\uc0c1</a></li>\\r\\n\\t\\t\\t                            <li><a href=\"/KboTv/VeteranInterview/List.aspx\" >\\uc57c\\uad6c \\uc6d0\\ub85c \\uc778\\ud130\\ubdf0</a></li>\\r\\n\\t\\t\\t\\t\\t\\t\\t        </ul>\\r\\n\\t\\t\\t\\t\\t\\t        </li>\\r\\n\\t\\t\\t\\t\\t\\t        <li><a href=\"/Player/Search.aspx\" style=\"width:52px\">\\uc120\\uc218\\ud604\\ud669</a>\\r\\n\\t\\t\\t\\t\\t\\t\\t        <ul class=\"sub\">\\r\\n\\t\\t\\t\\t\\t\\t\\t\\t        <li><a href=\"/Player/Search.aspx\" >\\uc120\\uc218\\uc870\\ud68c</a></li>\\r\\n\\t\\t\\t\\t\\t\\t\\t\\t        <li><a href=\"/Player/Register.aspx\" >\\uc120\\uc218\\ub4f1\\ub85d\\ud604\\ud669</a></li>\\r\\n\\t\\t\\t\\t\\t\\t\\t        </ul>\\r\\n\\t\\t\\t\\t\\t\\t        </li>\\r\\n\\t\\t\\t\\t\\t\\t        <li><a href=\"/Board/Faq/List.aspx\">\\uac8c\\uc2dc\\ud310</a>\\r\\n\\t\\t\\t\\t\\t\\t\\t        <ul class=\"sub\">\\r\\n\\t\\t\\t\\t\\t\\t\\t\\t        <li><a href=\"/Board/Faq/List.aspx\">\\uc790\\uc8fc\\ud558\\ub294 \\uc9c8\\ubb38</a></li>\\r\\n\\t\\t\\t                            <li><a href=\"/Board/Qna/List.aspx\">Q&amp;A \\uac8c\\uc2dc\\ud310</a></li>\\r\\n\\t\\t\\t                            <li><a href=\"/Board/Free/List.aspx\">\\uc790\\uc720 \\uac8c\\uc2dc\\ud310</a></li>\\r\\n\\t\\t\\t\\t\\t\\t\\t\\t        <li><a href=\"/Board/Committee/List.aspx\" >\\uae30\\ub85d\\uc704\\uc6d0\\ud68c Q&amp;A \\uac8c\\uc2dc\\ud310</a></li>\\r\\n\\t\\t\\t\\t\\t\\t\\t        </ul>\\r\\n\\t\\t\\t\\t\\t\\t        </li>\\r\\n\\t\\t\\t\\t\\t        </ul>\\r\\n\\t\\t\\t\\t\\t        <ul class=\"special\">\\r\\n\\t\\t\\t\\t\\t\\t        <li><a href=\"/About/TeamInfo.aspx\" class=\"gnb_about\">About <strong>KBO</strong></a>\\r\\n\\t\\t\\t\\t\\t\\t\\t        <ul class=\"sub\">\\r\\n\\t\\t\\t\\t\\t\\t\\t\\t        <li><a href=\"/About/TeamInfo.aspx\" >\\uad6c\\ub2e8\\uc18c\\uac1c</a></li>\\r\\n                                        <li><a href=\"/About/Group/Activity.aspx\" >\\uc870\\uc9c1 \\ubc0f \\ud65c\\ub3d9</a></li>\\r\\n\\t\\t\\t\\t\\t\\t\\t\\t        <li><a href=\"/About/Kbop.aspx\" >KBOP</a></li>\\r\\n\\t\\t\\t\\t\\t\\t\\t\\t        <li><a href=\"/About/KboCi.aspx\" >KBO CI</a></li>\\r\\n\\t\\t\\t\\t\\t\\t\\t\\t        <li><a href=\"/About/CatchPhrase.aspx\" >2015 \\uce90\\uce58\\ud504\\ub808\\uc774\\uc988</a></li>\\r\\n\\t\\t\\t\\t\\t\\t\\t\\t        <li><a href=\"/About/GameManage.aspx\" >\\uacbd\\uae30\\uc6b4\\uc601\\uccb4\\uc81c</a></li>\\r\\n\\t\\t\\t\\t\\t\\t\\t\\t        <li><a href=\"/About/Map.aspx\" >\\uc57d\\ub3c4,\\uad00\\ub78c\\ub8cc</a></li>\\r\\n\\t\\t\\t\\t\\t\\t\\t\\t        <li><a href=\"/About/GameRule.aspx\" >\\uacbd\\uae30\\uaddc\\uce59</a></li>\\r\\n\\t\\t\\t\\t\\t\\t\\t\\t        <li><a href=\"/About/TeamHistory.aspx\" >\\uac01 \\uad6c\\ub2e8 \\ubcc0\\ucc9c\\uc0ac</a></li>\\r\\n\\t\\t\\t\\t\\t\\t\\t\\t        <li><a href=\"/About/Change2015.aspx\" >2015\\ub2ec\\ub77c\\uc9c0\\ub294 \\uc810</a></li>\\r\\n\\t\\t\\t\\t\\t\\t\\t\\t        <li><a href=\"/About/Service2014.aspx\" >KBO \\uc0ac\\ud68c\\uacf5\\ud5cc \\uc0ac\\uc5c5</a></li>\\r\\n\\t\\t\\t\\t\\t\\t\\t\\t        <li><a href=\"/Committee/Organizationchart.aspx\" >\\uae30\\ub85d\\uc704\\uc6d0\\ud68c</a></li>\\r\\n\\t\\t\\t\\t\\t\\t\\t        </ul>\\r\\n\\t\\t\\t\\t\\t\\t        </li>\\r\\n\\t\\t\\t\\t\\t\\t        <li class=\"last\"><a href=\"/Mobile/Baseball2015.aspx\" class=\"gnb_mobile\">Mobile</a></li>\\r\\n\\t\\t\\t\\t\\t        </ul>\\r\\n\\t\\t\\t\\t        </div>\\r\\n                        -->\\n<!-- \\uc544\\uc2dc\\uc544 \\uc2dc\\ub9ac\\uc988 -->\\n</div>\\n</div>\\n</div>\\n<!-- // header-->\\n<!-- container -->\\n<div id=\"container\">\\n<div class=\"wrap\">\\n<div id=\"lnb\">\\n<h3 class=\"title\"><img alt=\"\\uacbd\\uae30\\uc77c\\uc815/\\uacb0\\uacfc\" src=\"http://image.koreabaseball.com/client/images/common/lnb_title01.png\"/></h3>\\n<ul>\\n<li><a href=\"/Schedule/ScoreBoard/ScoreBoard.aspx\">\\uc2a4\\ucf54\\uc5b4\\ubcf4\\ub4dc</a></li>\\n<li><a href=\"/Schedule/GameList/General.aspx?seriesId=1\">\\uacbd\\uae30\\uc77c\\uc815/\\uacb0\\uacfc</a></li>\\n<li><a href=\"/Schedule/GameList/CalendarSchedule.aspx\">\\uc6d4\\ubcc4\\uc77c\\uc815/\\uacb0\\uacfc</a></li>\\n</ul>\\n</div>\\n<!--lnb-->\\n<script type=\"text/javascript\">\\r\\n        Menu();\\r\\n    </script>\\n<div class=\"content01\" id=\"contents\">\\n<!--sub title & location -->\\n<h3 class=\"sub_title\"><img alt=\"\\ubc15\\uc2a4\\uc2a4\\ucf54\\uc5b4\" src=\"http://image.koreabaseball.com/client/images/common/img_sub_boxscore.jpg\"/></h3>\\n<div class=\"location\">\\n<span><a href=\"/\"><img alt=\"\\ud648\" src=\"http://image.koreabaseball.com/client/images/common/location_home.jpg\"/></a></span>\\n<span><img alt=\"&gt;\" src=\"http://image.koreabaseball.com/client/images/common/location_next_level.jpg\"/></span>\\n<span class=\"f_depth\"><a href=\"/Schedule/ScoreBoard/ScoreBoard.aspx\">\\uacbd\\uae30\\uc77c\\uc815/\\uacb0\\uacfc</a></span>\\n<span><img alt=\"&gt;\" src=\"http://image.koreabaseball.com/client/images/common/location_next_level.jpg\"/></span>\\n<span class=\"l_depth\">\\ubc15\\uc2a4\\uc2a4\\ucf54\\uc5b4</span>\\n</div>\\n<!-- // sub title & location -->\\n<!-- banner -->\\n<div class=\"com_banner\">\\n<ul class=\"sub_banner\">\\n<a href=\"/Mobile/Baseball2015.aspx\"><img alt=\"\" src=\"//image.koreabaseball.com/client/images/common/img_banner_post.jpg?version=20160308\"/></a>\\n<a href=\"/Mobile/Kboapp.aspx\"><img alt=\"\" src=\"//image.koreabaseball.com/client/images/common/img_banner_app.jpg?version=20150407\"/></a>\\n</ul>\\n<div class=\"contron_area\">\\n<span class=\"sp_prev\" id=\"sp_prev10\"></span>\\n<span class=\"sp_stop\" id=\"sp_stop10\"></span>\\n<span class=\"sp_next\" id=\"sp_next10\"></span>\\n</div>\\n</div>\\n<script type=\"text/javascript\">\\r\\n    $('.sub_banner').bxSlider({\\r\\n        auto: true,\\r\\n        autoControls: true,\\r\\n        mode: 'vertical',\\r\\n        speed: 1000\\r\\n    });\\r\\n</script>\\n<!-- // banner -->\\n<div class=\"yearDate\">\\n<span>2016.03.27(\\uc77c)</span>\\n</div>\\n<div class=\"games_menu\">\\n<ul>\\n<li><a href=\"Review.aspx?leagueId=1&amp;seriesId=1&amp;gameId=20160327NCWO0&amp;gyear=2016\">\\uacbd\\uae30\\ub9ac\\ubdf0</a></li>\\n<li class=\"on\"><a href=\"#null\">\\ubc15\\uc2a4\\uc2a4\\ucf54\\uc5b4</a></li>\\n<li><a href=\"Situation.aspx?leagueId=1&amp;seriesId=1&amp;gameId=20160327NCWO0&amp;gyear=2016\">\\uacbd\\uae30\\uc0c1\\ud669</a></li>\\n<li><a href=\"Highlight.aspx?leagueId=1&amp;seriesId=1&amp;gameId=20160327NCWO0&amp;gyear=2016\">\\ud558\\uc774\\ub77c\\uc774\\ud2b8</a></li>\\n</ul>\\n</div>\\n<!-- fightResult -->\\n<div class=\"fightResult\">\\n<div class=\"left\">\\n<strong><img id=\"cphContainer_cphContents_ucScoreBoard_imgAwayWinLose\" src=\"http://image.koreabaseball.com/client/images/schedule/icon_win.gif\"/></strong>\\n<span><img alt=\"NC\" id=\"cphContainer_cphContents_ucScoreBoard_imgAwayTeamEmble\" src=\"http://image.koreabaseball.com/client/images/common/emblem/emblemB_NC.png\"/></span>\\n<p class=\"results\"><img alt=\"AWAY\" src=\"http://image.koreabaseball.com/client/images/schedule/away_img.gif\"/>8\\uc2b9 8\\ud328 1\\ubb34</p>\\n</div>\\n<div class=\"right\">\\n<strong><img id=\"cphContainer_cphContents_ucScoreBoard_imgHomeWinLose\" src=\"http://image.koreabaseball.com/client/images/schedule/icon_lose.gif\"/></strong>\\n<span><img alt=\"\\ub125\\uc13c\" id=\"cphContainer_cphContents_ucScoreBoard_imgHomeTeamEmble\" src=\"http://image.koreabaseball.com/client/images/common/emblem/emblemB_WO.png\"/></span>\\n<p class=\"results\"><img alt=\"HOME\" src=\"http://image.koreabaseball.com/client/images/schedule/home_img.gif\"/>5\\uc2b9 10\\ud328 1\\ubb34</p>\\n</div>\\n<table cellpadding=\"0\" cellspacing=\"0\" class=\"socreBoard\" summary=\"\\uac01\\ud300\\uc758 \\ud68c\\ucc28\\ubcc4 \\uc810\\uc218\\ub97c \\ubcf4\\uc5ec\\uc8fc\\uace0 \\uc788\\uc2b5\\ub2c8\\ub2e4.\">\\n<caption class=\"blind\"></caption>\\n<colgroup>\\n<col width=\"*\"></col>\\n<col width=\"23\"></col>\\n<col width=\"23\"></col>\\n<col width=\"23\"></col>\\n<col width=\"23\"></col>\\n<col width=\"23\"></col>\\n<col width=\"23\"></col>\\n<col width=\"23\"></col>\\n<col width=\"23\"></col>\\n<col width=\"23\"></col>\\n<col width=\"23\"></col>\\n<col width=\"23\"></col>\\n<col width=\"23\"></col>\\n<col width=\"23\"></col>\\n<col width=\"23\"></col>\\n<col width=\"23\"></col>\\n<col width=\"23\"></col>\\n<col width=\"23\"></col>\\n<col width=\"23\"></col>\\n<col width=\"23\"></col>\\n<col width=\"23\"></col>\\n</colgroup>\\n<thead>\\n<tr>\\n<th scope=\"col\">TEAM</th>\\n<th scope=\"col\">1</th><th scope=\"col\">2</th><th scope=\"col\">3</th><th scope=\"col\">4</th><th scope=\"col\">5</th><th scope=\"col\">6</th>\\n<th scope=\"col\">7</th><th scope=\"col\">8</th><th scope=\"col\">9</th><th scope=\"col\">10</th><th scope=\"col\">11</th><th scope=\"col\">12</th>\\n<th scope=\"col\">R</th><th scope=\"col\">H</th><th scope=\"col\">E</th><th scope=\"col\">B</th>\\n</tr>\\n</thead>\\n<tbody>\\n<tr>\\n<th scope=\"row\">NC</th>\\n<td>1</td>\\n<td>3</td>\\n<td>3</td>\\n<td>0</td>\\n<td>0</td>\\n<td>0</td>\\n<td>1</td>\\n<td>0</td>\\n<td>0</td>\\n<td>-</td>\\n<td>-</td>\\n<td>-</td>\\n<td class=\"point\">8</td>\\n<td class=\"hit\">17</td>\\n<td class=\"hit\">0</td>\\n<td class=\"hit\">1</td>\\n</tr>\\n<tr>\\n<th scope=\"row\">\\ub125\\uc13c</th>\\n<td>0</td>\\n<td>2</td>\\n<td>1</td>\\n<td>0</td>\\n<td>0</td>\\n<td>0</td>\\n<td>0</td>\\n<td>0</td>\\n<td>0</td>\\n<td>-</td>\\n<td>-</td>\\n<td>-</td>\\n<td class=\"point\">3</td>\\n<td class=\"hit\">8</td>\\n<td class=\"hit\">1</td>\\n<td class=\"hit\">3</td>\\n</tr>\\n</tbody>\\n</table>\\n<p class=\"ballpark\">\\r\\n        \\uad6c\\uc7a5 : \\uace0\\ucc99\\xa0\\xa0\\xa0\\xa0\\xa0\\xa0\\r\\n        \\uad00\\uc911 : 3,476\\xa0\\xa0\\xa0\\xa0\\xa0\\xa0\\r\\n        \\uac1c\\uc2dc : 13:00\\xa0\\xa0\\xa0\\xa0\\xa0\\xa0\\r\\n        \\uc885\\ub8cc : 15:44\\xa0\\xa0\\xa0\\xa0\\xa0\\xa0\\r\\n        \\uacbd\\uae30\\uc2dc\\uac04 : 2:44\\r\\n    </p>\\n</div>\\n<!-- //fightResult -->\\n<div class=\"boxscore\">\\n<table cellpadding=\"0\" cellspacing=\"0\" class=\"tEx\" summary=\"\\uacbd\\uae30\\ub0b4\\uc6a9\\uc778 2\\ub8e8\\ud0c0,3\\ub8e8\\ud0c0,\\ud648\\ub7f0,\\ub3c4\\ub8e8\\ub97c \\ud655\\uc778 \\ud558\\uc2e4 \\uc218 \\uc788\\uc2b5\\ub2c8\\ub2e4\">\\n<caption>\\uacbd\\uae30\\ub0b4\\uc6a9</caption>\\n<colgroup>\\n<col width=\"155\"></col>\\n<col width=\"*\"></col>\\n</colgroup>\\n<tbody>\\n<tr>\\n<th scope=\"row\">\\uacb0\\uc2b9\\ud0c0</th>\\n<td>\\ub098\\uc131\\ubc94(1\\ud68c 2\\uc0ac\\uc11c \\uc6b0\\uc6d4 \\ud648\\ub7f0)</td>\\n</tr>\\n<tr>\\n<th scope=\"row\">\\ud648\\ub7f0</th>\\n<td>\\ub098\\uc131\\ubc943\\ud638(1\\ud68c1\\uc810 \\ubc15\\uc8fc\\ud604) \\ubc15\\ub3d9\\uc6d03\\ud638(2\\ud68c2\\uc810 \\uc774\\uc7ac\\ud559) \\uc774\\ud638\\uc9004\\ud638(7\\ud68c1\\uc810 \\ub9c8\\uc815\\uae38) </td>\\n</tr>\\n<tr>\\n<th scope=\"row\">3\\ub8e8\\ud0c0</th>\\n<td>\\uae40\\uc131\\uc6b1(2\\ud68c) \\r\\n\\r\\n</td>\\n</tr>\\n<tr>\\n<th scope=\"row\">2\\ub8e8\\ud0c0</th>\\n<td>\\uae40\\ud0dc\\uad70(3\\ud68c) \\uac15\\ubbfc\\uad6d(9\\ud68c) \\r\\n\\r\\n</td>\\n</tr>\\n<tr>\\n<th scope=\"row\">\\uc2e4\\ucc45</th>\\n<td>\\uc774\\ud0dd\\uadfc(3\\ud68c) \\r\\n\\r\\n</td>\\n</tr>\\n<tr>\\n<th scope=\"row\">\\ub3c4\\ub8e8\\uc790</th>\\n<td>\\uc774\\ud0dd\\uadfc(1\\ud68c) \\r\\n\\r\\n</td>\\n</tr>\\n<tr>\\n<th scope=\"row\">\\uc8fc\\ub8e8\\uc0ac</th>\\n<td>\\ubc15\\uc11d\\ubbfc(3\\ud68c) \\uc774\\uc7ac\\uc728(5\\ud68c) \\r\\n\\r\\n</td>\\n</tr>\\n<tr>\\n<th scope=\"row\">\\uacac\\uc81c\\uc0ac</th>\\n<td>\\ubc15\\uc815\\uc74c(8\\ud68c) \\r\\n\\r\\n</td>\\n</tr>\\n<tr>\\n<th scope=\"row\">\\ubcd1\\uc0b4\\ud0c0</th>\\n<td>\\ub300\\ub2c8\\ub3c8(5\\ud68c) \\ubc15\\ub3d9\\uc6d0(6\\ud68c) \\uc11c\\uac74\\ucc3d(7\\ud68c) \\r\\n\\r\\n</td>\\n</tr>\\n<tr>\\n<th scope=\"row\">\\ud3ed\\ud22c</th>\\n<td>\\uc774\\uc7ac\\ud559(3\\ud68c) \\r\\n\\r\\n</td>\\n</tr>\\n<tr>\\n<th scope=\"row\">\\uc2ec\\ud310</th>\\n<td>\\ud669\\uc778\\ud0dc \\ucd94\\ud3c9\\ud638 \\uae40\\uc900\\ud76c \\uc804\\uc77c\\uc218</td>\\n</tr>\\n</tbody>\\n</table>\\n<h4 class=\"bul h_nc\">NC \\ub2e4\\uc774\\ub178\\uc2a4 \\ud0c0\\uc790 \\uae30\\ub85d</h4>\\n<table cellpadding=\"0\" cellspacing=\"0\" class=\"tData\" id=\"xtable1\" summary=\"\\ud0c0\\uc790\\uc774\\ub984\\ubc0f\\ud3ec\\uc9c0\\uc158\\uc5d0 \\ub530\\ub978 \\ud0c0\\uc218,\\uc548\\ud0c0,\\ud0c0\\uc810,\\ub4dd\\uc810,\\uc2dc\\uc98c \\ud0c0\\uc728\\uc744 \\ud655\\uc778 \\ud558\\uc2e4 \\uc218 \\uc788\\uc2b5\\ub2c8\\ub2e4.\">\\n<caption>\\ud0c0\\uc790</caption>\\n<colgroup>\\n<col width=\"30\"></col>\\n<col width=\"30\"></col>\\n<col width=\"*\"></col>\\n<col width=\"33\"></col>\\n<col width=\"33\"></col>\\n<col width=\"33\"></col>\\n<col width=\"33\"></col>\\n<col width=\"33\"></col>\\n<col width=\"33\"></col>\\n<col width=\"33\"></col>\\n<col width=\"33\"></col>\\n<col width=\"33\"></col>\\n<col width=\"33\"></col>\\n<col width=\"33\"></col>\\n<col width=\"33\"></col>\\n<col width=\"45\"></col>\\n<col width=\"45\"></col>\\n<col width=\"45\"></col>\\n<col width=\"45\"></col>\\n<col width=\"45\"></col>\\n</colgroup>\\n<thead>\\n<tr class=\"thNm\">\\n<th scope=\"col\">\\xa0</th>\\n<th scope=\"col\">\\xa0</th>\\n<th scope=\"col\">\\uc120\\uc218\\uba85</th>\\n<th scope=\"col\">1</th>\\n<th scope=\"col\">2</th>\\n<th scope=\"col\">3</th>\\n<th scope=\"col\">4</th>\\n<th scope=\"col\">5</th>\\n<th scope=\"col\">6</th>\\n<th scope=\"col\">7</th>\\n<th scope=\"col\">8</th>\\n<th scope=\"col\">9</th>\\n<th scope=\"col\">10</th>\\n<th scope=\"col\">11</th>\\n<th scope=\"col\">12</th>\\n<th scope=\"col\">\\ud0c0\\uc218</th>\\n<th scope=\"col\">\\uc548\\ud0c0</th>\\n<th scope=\"col\">\\ud0c0\\uc810</th>\\n<th scope=\"col\">\\ub4dd\\uc810</th>\\n<th scope=\"col\">\\ud0c0\\uc728</th>\\n</tr>\\n</thead>\\n<tfoot>\\n<tr><th colspan=\"15\" scope=\"row\">TOTAL</th><td>42</td><td>17</td><td>8</td><td>8</td><td>0.272</td></tr>\\n</tfoot>\\n<tbody>\\n<tr>\\n<th class=\"pos\" scope=\"row\">1</th>\\n<th class=\"pos2\" scope=\"row\">\\u4e8c</th>\\n<th class=\"name\" scope=\"row\">\\ubc15\\ubbfc\\uc6b0</th>\\n<td>2\\ube44</td>\\n<td>\\uc6b0\\uc548</td>\\n<td>\\uc6b0\\uc548</td>\\n<td>\\xa0</td>\\n<td>2\\uc9c1</td>\\n<td>\\xa0</td>\\n<td>\\xa0</td>\\n<td>\\xa0</td>\\n<td>\\xa0</td>\\n<td>\\xa0</td>\\n<td>\\xa0</td>\\n<td>\\xa0</td>\\n<td abbr=\"1\">4</td>\\n<td abbr=\"2\">2</td>\\n<td abbr=\"3\">2</td>\\n<td abbr=\"4\">1</td>\\n<td abbr=\"5\">0.327</td>\\n</tr>\\n<tr>\\n<th class=\"pos\" scope=\"row\">1</th>\\n<th class=\"pos2\" scope=\"row\">\\ud0c0\\uc6b0</th>\\n<th class=\"name\" scope=\"row\">\\uae40\\uc900\\uc644</th>\\n<td>\\xa0</td>\\n<td>\\xa0</td>\\n<td>\\xa0</td>\\n<td>\\xa0</td>\\n<td>\\xa0</td>\\n<td>\\xa0</td>\\n<td>\\xa0</td>\\n<td>1\\ub545</td>\\n<td>\\xa0</td>\\n<td>\\xa0</td>\\n<td>\\xa0</td>\\n<td>\\xa0</td>\\n<td abbr=\"1\">1</td>\\n<td abbr=\"2\">0</td>\\n<td abbr=\"3\">0</td>\\n<td abbr=\"4\">0</td>\\n<td abbr=\"5\">0.100</td>\\n</tr>\\n<tr>\\n<th class=\"pos\" scope=\"row\">2</th>\\n<th class=\"pos2\" scope=\"row\">\\uc88c\\uc6b0</th>\\n<th class=\"name\" scope=\"row\">\\uae40\\uc131\\uc6b1</th>\\n<td>\\uc0bc\\uc9c4</td>\\n<td>\\uc9113</td>\\n<td>3\\ub545</td>\\n<td>\\xa0</td>\\n<td>\\xa0</td>\\n<td>\\uc0bc\\uc9c4</td>\\n<td>\\xa0</td>\\n<td>\\xa0</td>\\n<td>\\xa0</td>\\n<td>\\xa0</td>\\n<td>\\xa0</td>\\n<td>\\xa0</td>\\n<td abbr=\"1\">4</td>\\n<td abbr=\"2\">1</td>\\n<td abbr=\"3\">2</td>\\n<td abbr=\"4\">1</td>\\n<td abbr=\"5\">0.297</td>\\n</tr>\\n<tr>\\n<th class=\"pos\" scope=\"row\">2</th>\\n<th class=\"pos2\" scope=\"row\">\\ud0c0</th>\\n<th class=\"name\" scope=\"row\">\\uc724\\ubcd1\\ud638</th>\\n<td>\\xa0</td>\\n<td>\\xa0</td>\\n<td>\\xa0</td>\\n<td>\\xa0</td>\\n<td>\\xa0</td>\\n<td>\\xa0</td>\\n<td>\\xa0</td>\\n<td>3\\uc9c1</td>\\n<td>\\xa0</td>\\n<td>\\xa0</td>\\n<td>\\xa0</td>\\n<td>\\xa0</td>\\n<td abbr=\"1\">1</td>\\n<td abbr=\"2\">0</td>\\n<td abbr=\"3\">0</td>\\n<td abbr=\"4\">0</td>\\n<td abbr=\"5\">0.083</td>\\n</tr>\\n<tr>\\n<th class=\"pos\" scope=\"row\">2</th>\\n<th class=\"pos2\" scope=\"row\">\\u4e8c</th>\\n<th class=\"name\" scope=\"row\">\\ud669\\uc724\\ud638</th>\\n<td>\\xa0</td>\\n<td>\\xa0</td>\\n<td>\\xa0</td>\\n<td>\\xa0</td>\\n<td>\\xa0</td>\\n<td>\\xa0</td>\\n<td>\\xa0</td>\\n<td>\\xa0</td>\\n<td>\\xa0</td>\\n<td>\\xa0</td>\\n<td>\\xa0</td>\\n<td>\\xa0</td>\\n<td abbr=\"1\">0</td>\\n<td abbr=\"2\">0</td>\\n<td abbr=\"3\">0</td>\\n<td abbr=\"4\">0</td>\\n<td abbr=\"5\">0.000</td>\\n</tr>\\n<tr>\\n<th class=\"pos\" scope=\"row\">3</th>\\n<th class=\"pos2\" scope=\"row\">\\uc6b0</th>\\n<th class=\"name\" scope=\"row\">\\ub098\\uc131\\ubc94</th>\\n<td>\\uc6b0\\ud648</td>\\n<td>\\uc88c\\uc548</td>\\n<td>\\xa0</td>\\n<td>3\\uc9c1</td>\\n<td>\\xa0</td>\\n<td>\\xa0</td>\\n<td>\\xa0</td>\\n<td>\\xa0</td>\\n<td>\\xa0</td>\\n<td>\\xa0</td>\\n<td>\\xa0</td>\\n<td>\\xa0</td>\\n<td abbr=\"1\">3</td>\\n<td abbr=\"2\">2</td>\\n<td abbr=\"3\">2</td>\\n<td abbr=\"4\">1</td>\\n<td abbr=\"5\">0.327</td>\\n</tr>\\n<tr>\\n<th class=\"pos\" scope=\"row\">3</th>\\n<th class=\"pos2\" scope=\"row\">\\ud0c0\\uc88c</th>\\n<th class=\"name\" scope=\"row\">\\uae40\\uc885\\ud638</th>\\n<td>\\xa0</td>\\n<td>\\xa0</td>\\n<td>\\xa0</td>\\n<td>\\xa0</td>\\n<td>\\xa0</td>\\n<td>\\uc720\\ub545</td>\\n<td>\\xa0</td>\\n<td>\\xa0</td>\\n<td>\\uc720\\ube44</td>\\n<td>\\xa0</td>\\n<td>\\xa0</td>\\n<td>\\xa0</td>\\n<td abbr=\"1\">2</td>\\n<td abbr=\"2\">0</td>\\n<td abbr=\"3\">0</td>\\n<td abbr=\"4\">0</td>\\n<td abbr=\"5\">0.258</td>\\n</tr>\\n<tr>\\n<th class=\"pos\" scope=\"row\">4</th>\\n<th class=\"pos2\" scope=\"row\">\\u4e00</th>\\n<th class=\"name\" scope=\"row\">\\ud14c\\uc784\\uc988</th>\\n<td>\\uc6b0\\uc548</td>\\n<td>\\uc88c\\ube44</td>\\n<td>\\xa0</td>\\n<td>\\uc0bc\\uc9c4</td>\\n<td>\\xa0</td>\\n<td>1\\ub545</td>\\n<td>\\xa0</td>\\n<td>\\xa0</td>\\n<td>\\xa0</td>\\n<td>\\xa0</td>\\n<td>\\xa0</td>\\n<td>\\xa0</td>\\n<td abbr=\"1\">4</td>\\n<td abbr=\"2\">1</td>\\n<td abbr=\"3\">0</td>\\n<td abbr=\"4\">0</td>\\n<td abbr=\"5\">0.158</td>\\n</tr>\\n<tr>\\n<th class=\"pos\" scope=\"row\">4</th>\\n<th class=\"pos2\" scope=\"row\">\\u4e00</th>\\n<th class=\"name\" scope=\"row\">\\uc870\\ud3c9\\ud638</th>\\n<td>\\xa0</td>\\n<td>\\xa0</td>\\n<td>\\xa0</td>\\n<td>\\xa0</td>\\n<td>\\xa0</td>\\n<td>\\xa0</td>\\n<td>\\xa0</td>\\n<td>\\xa0</td>\\n<td>\\uc88c\\uc548</td>\\n<td>\\xa0</td>\\n<td>\\xa0</td>\\n<td>\\xa0</td>\\n<td abbr=\"1\">1</td>\\n<td abbr=\"2\">1</td>\\n<td abbr=\"3\">0</td>\\n<td abbr=\"4\">0</td>\\n<td abbr=\"5\">0.167</td>\\n</tr>\\n<tr>\\n<th class=\"pos\" scope=\"row\">5</th>\\n<th class=\"pos2\" scope=\"row\">\\u4e09</th>\\n<th class=\"name\" scope=\"row\">\\ubc15\\uc11d\\ubbfc</th>\\n<td>\\uc88c\\uc548</td>\\n<td>\\xa0</td>\\n<td>\\uc88c\\uc548</td>\\n<td>\\uc911\\ube44</td>\\n<td>\\xa0</td>\\n<td>\\xa0</td>\\n<td>\\xa0</td>\\n<td>\\xa0</td>\\n<td>\\xa0</td>\\n<td>\\xa0</td>\\n<td>\\xa0</td>\\n<td>\\xa0</td>\\n<td abbr=\"1\">3</td>\\n<td abbr=\"2\">2</td>\\n<td abbr=\"3\">0</td>\\n<td abbr=\"4\">0</td>\\n<td abbr=\"5\">0.429</td>\\n</tr>\\n<tr>\\n<th class=\"pos\" scope=\"row\">5</th>\\n<th class=\"pos2\" scope=\"row\">\\uc720</th>\\n<th class=\"name\" scope=\"row\">\\uac15\\ubbfc\\uad6d</th>\\n<td>\\xa0</td>\\n<td>\\xa0</td>\\n<td>\\xa0</td>\\n<td>\\xa0</td>\\n<td>\\xa0</td>\\n<td>\\xa0</td>\\n<td>2\\ub545</td>\\n<td>\\xa0</td>\\n<td>\\uc88c2</td>\\n<td>\\xa0</td>\\n<td>\\xa0</td>\\n<td>\\xa0</td>\\n<td abbr=\"1\">2</td>\\n<td abbr=\"2\">1</td>\\n<td abbr=\"3\">0</td>\\n<td abbr=\"4\">0</td>\\n<td abbr=\"5\">0.316</td>\\n</tr>\\n<tr>\\n<th class=\"pos\" scope=\"row\">6</th>\\n<th class=\"pos2\" scope=\"row\">\\uc9c0</th>\\n<th class=\"name\" scope=\"row\">\\uc774\\ud638\\uc900</th>\\n<td>\\uc0bc\\uc9c4</td>\\n<td>\\xa0</td>\\n<td>\\uc720\\uc88c\\uc548</td>\\n<td>\\xa0</td>\\n<td>4\\uad6c</td>\\n<td>\\xa0</td>\\n<td>\\uc911\\ud648</td>\\n<td>\\xa0</td>\\n<td>\\xa0</td>\\n<td>\\xa0</td>\\n<td>\\xa0</td>\\n<td>\\xa0</td>\\n<td abbr=\"1\">3</td>\\n<td abbr=\"2\">2</td>\\n<td abbr=\"3\">1</td>\\n<td abbr=\"4\">2</td>\\n<td abbr=\"5\">0.313</td>\\n</tr>\\n<tr>\\n<th class=\"pos\" scope=\"row\">6</th>\\n<th class=\"pos2\" scope=\"row\">\\ud0c0</th>\\n<th class=\"name\" scope=\"row\">\\uc870\\uc601\\ud6c8</th>\\n<td>\\xa0</td>\\n<td>\\xa0</td>\\n<td>\\xa0</td>\\n<td>\\xa0</td>\\n<td>\\xa0</td>\\n<td>\\xa0</td>\\n<td>\\xa0</td>\\n<td>\\xa0</td>\\n<td>\\uc0bc\\uc9c4</td>\\n<td>\\xa0</td>\\n<td>\\xa0</td>\\n<td>\\xa0</td>\\n<td abbr=\"1\">1</td>\\n<td abbr=\"2\">0</td>\\n<td abbr=\"3\">0</td>\\n<td abbr=\"4\">0</td>\\n<td abbr=\"5\">0.174</td>\\n</tr>\\n<tr>\\n<th class=\"pos\" scope=\"row\">7</th>\\n<th class=\"pos2\" scope=\"row\">\\uc911</th>\\n<th class=\"name\" scope=\"row\">\\uc774\\uc885\\uc6b1</th>\\n<td>\\xa0</td>\\n<td>\\uc0bc\\uc9c4</td>\\n<td>\\ud22c\\ub545</td>\\n<td>\\xa0</td>\\n<td>\\uc6b0\\uc548</td>\\n<td>\\xa0</td>\\n<td>\\xa0</td>\\n<td>\\xa0</td>\\n<td>\\xa0</td>\\n<td>\\xa0</td>\\n<td>\\xa0</td>\\n<td>\\xa0</td>\\n<td abbr=\"1\">3</td>\\n<td abbr=\"2\">1</td>\\n<td abbr=\"3\">0</td>\\n<td abbr=\"4\">0</td>\\n<td abbr=\"5\">0.349</td>\\n</tr>\\n<tr>\\n<th class=\"pos\" scope=\"row\">7</th>\\n<th class=\"pos2\" scope=\"row\">\\uc8fc\\uc911</th>\\n<th class=\"name\" scope=\"row\">\\uc774\\uc7ac\\uc728</th>\\n<td>\\xa0</td>\\n<td>\\xa0</td>\\n<td>\\xa0</td>\\n<td>\\xa0</td>\\n<td>\\xa0</td>\\n<td>\\xa0</td>\\n<td>\\uc6b0\\ube44</td>\\n<td>\\xa0</td>\\n<td>2\\ub545</td>\\n<td>\\xa0</td>\\n<td>\\xa0</td>\\n<td>\\xa0</td>\\n<td abbr=\"1\">2</td>\\n<td abbr=\"2\">0</td>\\n<td abbr=\"3\">0</td>\\n<td abbr=\"4\">0</td>\\n<td abbr=\"5\">0.217</td>\\n</tr>\\n<tr>\\n<th class=\"pos\" scope=\"row\">8</th>\\n<th class=\"pos2\" scope=\"row\">\\uc720\\u4e09</th>\\n<th class=\"name\" scope=\"row\">\\uc9c0\\uc11d\\ud6c8</th>\\n<td>\\xa0</td>\\n<td>3\\ub545</td>\\n<td>\\uc6b0\\uc911\\uc548</td>\\n<td>\\xa0</td>\\n<td>\\uc0bc\\uc9c4</td>\\n<td>\\xa0</td>\\n<td>\\uc6b0\\ube44</td>\\n<td>\\xa0</td>\\n<td>\\xa0</td>\\n<td>\\xa0</td>\\n<td>\\xa0</td>\\n<td>\\xa0</td>\\n<td abbr=\"1\">4</td>\\n<td abbr=\"2\">1</td>\\n<td abbr=\"3\">1</td>\\n<td abbr=\"4\">1</td>\\n<td abbr=\"5\">0.207</td>\\n</tr>\\n<tr>\\n<th class=\"pos\" scope=\"row\">9</th>\\n<th class=\"pos2\" scope=\"row\">\\ud3ec</th>\\n<th class=\"name\" scope=\"row\">\\uae40\\ud0dc\\uad70</th>\\n<td>\\xa0</td>\\n<td>\\uc911\\uc548</td>\\n<td>\\uc6b02</td>\\n<td>\\xa0</td>\\n<td>\\uc88c\\uc548</td>\\n<td>\\xa0</td>\\n<td>\\xa0</td>\\n<td>\\xa0</td>\\n<td>\\xa0</td>\\n<td>\\xa0</td>\\n<td>\\xa0</td>\\n<td>\\xa0</td>\\n<td abbr=\"1\">3</td>\\n<td abbr=\"2\">3</td>\\n<td abbr=\"3\">0</td>\\n<td abbr=\"4\">2</td>\\n<td abbr=\"5\">0.367</td>\\n</tr>\\n<tr>\\n<th class=\"pos\" scope=\"row\">9</th>\\n<th class=\"pos2\" scope=\"row\">\\ud3ec</th>\\n<th class=\"name\" scope=\"row\">\\uc6a9\\ub355\\ud55c</th>\\n<td>\\xa0</td>\\n<td>\\xa0</td>\\n<td>\\xa0</td>\\n<td>\\xa0</td>\\n<td>\\xa0</td>\\n<td>\\xa0</td>\\n<td>\\xa0</td>\\n<td>\\ud22c\\ub545</td>\\n<td>\\xa0</td>\\n<td>\\xa0</td>\\n<td>\\xa0</td>\\n<td>\\xa0</td>\\n<td abbr=\"1\">1</td>\\n<td abbr=\"2\">0</td>\\n<td abbr=\"3\">0</td>\\n<td abbr=\"4\">0</td>\\n<td abbr=\"5\">0.188</td>\\n</tr>\\n</tbody>\\n</table>\\n<h4 class=\"bul h_wo\">\\ub125\\uc13c \\ud788\\uc5b4\\ub85c\\uc988 \\ud0c0\\uc790 \\uae30\\ub85d</h4>\\n<table cellpadding=\"0\" cellspacing=\"0\" class=\"tData\" id=\"xtable1\" summary=\"\\ud0c0\\uc790\\uc774\\ub984\\ubc0f\\ud3ec\\uc9c0\\uc158\\uc5d0 \\ub530\\ub978 \\ud0c0\\uc218,\\uc548\\ud0c0,\\ud0c0\\uc810,\\ub4dd\\uc810,\\uc2dc\\uc98c \\ud0c0\\uc728\\uc744 \\ud655\\uc778 \\ud558\\uc2e4 \\uc218 \\uc788\\uc2b5\\ub2c8\\ub2e4.\">\\n<caption>\\ud0c0\\uc790</caption>\\n<colgroup>\\n<col width=\"30\"></col>\\n<col width=\"30\"></col>\\n<col width=\"*\"></col>\\n<col width=\"33\"></col>\\n<col width=\"33\"></col>\\n<col width=\"33\"></col>\\n<col width=\"33\"></col>\\n<col width=\"33\"></col>\\n<col width=\"33\"></col>\\n<col width=\"33\"></col>\\n<col width=\"33\"></col>\\n<col width=\"33\"></col>\\n<col width=\"33\"></col>\\n<col width=\"33\"></col>\\n<col width=\"33\"></col>\\n<col width=\"45\"></col>\\n<col width=\"45\"></col>\\n<col width=\"45\"></col>\\n<col width=\"45\"></col>\\n<col width=\"45\"></col>\\n</colgroup>\\n<thead>\\n<tr class=\"thNm\">\\n<th scope=\"col\">\\xa0</th>\\n<th scope=\"col\">\\xa0</th>\\n<th scope=\"col\">\\uc120\\uc218\\uba85</th>\\n<th scope=\"col\">1</th>\\n<th scope=\"col\">2</th>\\n<th scope=\"col\">3</th>\\n<th scope=\"col\">4</th>\\n<th scope=\"col\">5</th>\\n<th scope=\"col\">6</th>\\n<th scope=\"col\">7</th>\\n<th scope=\"col\">8</th>\\n<th scope=\"col\">9</th>\\n<th scope=\"col\">10</th>\\n<th scope=\"col\">11</th>\\n<th scope=\"col\">12</th>\\n<th scope=\"col\">\\ud0c0\\uc218</th>\\n<th scope=\"col\">\\uc548\\ud0c0</th>\\n<th scope=\"col\">\\ud0c0\\uc810</th>\\n<th scope=\"col\">\\ub4dd\\uc810</th>\\n<th scope=\"col\">\\ud0c0\\uc728</th>\\n</tr>\\n</thead>\\n<tfoot>\\n<tr><th colspan=\"15\" scope=\"row\">TOTAL</th><td>31</td><td>8</td><td>3</td><td>3</td><td>0.246</td></tr>\\n</tfoot>\\n<tbody>\\n<tr>\\n<th class=\"pos\" scope=\"row\">1</th>\\n<th class=\"pos2\" scope=\"row\">\\u4e8c</th>\\n<th class=\"name\" scope=\"row\">\\uc11c\\uac74\\ucc3d</th>\\n<td>2\\ube44</td>\\n<td>\\xa0</td>\\n<td>\\uc6b0\\uc548</td>\\n<td>\\xa0</td>\\n<td>4\\uad6c</td>\\n<td>\\xa0</td>\\n<td>1\\ubcd1</td>\\n<td>\\xa0</td>\\n<td>\\xa0</td>\\n<td>\\xa0</td>\\n<td>\\xa0</td>\\n<td>\\xa0</td>\\n<td abbr=\"1\">3</td>\\n<td abbr=\"2\">1</td>\\n<td abbr=\"3\">0</td>\\n<td abbr=\"4\">1</td>\\n<td abbr=\"5\">0.244</td>\\n</tr>\\n<tr>\\n<th class=\"pos\" scope=\"row\">1</th>\\n<th class=\"pos2\" scope=\"row\">\\u4e8c</th>\\n<th class=\"name\" scope=\"row\">\\uae40\\uc9c0\\uc218</th>\\n<td>\\xa0</td>\\n<td>\\xa0</td>\\n<td>\\xa0</td>\\n<td>\\xa0</td>\\n<td>\\xa0</td>\\n<td>\\xa0</td>\\n<td>\\xa0</td>\\n<td>\\xa0</td>\\n<td>\\xa0</td>\\n<td>\\xa0</td>\\n<td>\\xa0</td>\\n<td>\\xa0</td>\\n<td abbr=\"1\">0</td>\\n<td abbr=\"2\">0</td>\\n<td abbr=\"3\">0</td>\\n<td abbr=\"4\">0</td>\\n<td abbr=\"5\">0.000</td>\\n</tr>\\n<tr>\\n<th class=\"pos\" scope=\"row\">2</th>\\n<th class=\"pos2\" scope=\"row\">\\uc911</th>\\n<th class=\"name\" scope=\"row\">\\uace0\\uc885\\uc6b1</th>\\n<td>\\uc0bc\\uc9c4</td>\\n<td>\\xa0</td>\\n<td>\\uc88c\\ube44</td>\\n<td>\\xa0</td>\\n<td>\\uc720\\ube44</td>\\n<td>\\xa0</td>\\n<td>\\xa0</td>\\n<td>\\xa0</td>\\n<td>\\xa0</td>\\n<td>\\xa0</td>\\n<td>\\xa0</td>\\n<td>\\xa0</td>\\n<td abbr=\"1\">3</td>\\n<td abbr=\"2\">0</td>\\n<td abbr=\"3\">0</td>\\n<td abbr=\"4\">0</td>\\n<td abbr=\"5\">0.293</td>\\n</tr>\\n<tr>\\n<th class=\"pos\" scope=\"row\">2</th>\\n<th class=\"pos2\" scope=\"row\">\\ud22c</th>\\n<th class=\"name\" scope=\"row\">\\uae40\\uc0c1\\uc218</th>\\n<td>\\xa0</td>\\n<td>\\xa0</td>\\n<td>\\xa0</td>\\n<td>\\xa0</td>\\n<td>\\xa0</td>\\n<td>\\xa0</td>\\n<td>\\xa0</td>\\n<td>\\xa0</td>\\n<td>\\xa0</td>\\n<td>\\xa0</td>\\n<td>\\xa0</td>\\n<td>\\xa0</td>\\n<td abbr=\"1\">0</td>\\n<td abbr=\"2\">0</td>\\n<td abbr=\"3\">0</td>\\n<td abbr=\"4\">0</td>\\n<td abbr=\"5\">0.000</td>\\n</tr>\\n<tr>\\n<th class=\"pos\" scope=\"row\">2</th>\\n<th class=\"pos2\" scope=\"row\">\\ud22c</th>\\n<th class=\"name\" scope=\"row\">\\ub9c8\\uc815\\uae38</th>\\n<td>\\xa0</td>\\n<td>\\xa0</td>\\n<td>\\xa0</td>\\n<td>\\xa0</td>\\n<td>\\xa0</td>\\n<td>\\xa0</td>\\n<td>\\xa0</td>\\n<td>\\xa0</td>\\n<td>\\xa0</td>\\n<td>\\xa0</td>\\n<td>\\xa0</td>\\n<td>\\xa0</td>\\n<td abbr=\"1\">0</td>\\n<td abbr=\"2\">0</td>\\n<td abbr=\"3\">0</td>\\n<td abbr=\"4\">0</td>\\n<td abbr=\"5\">0.000</td>\\n</tr>\\n<tr>\\n<th class=\"pos\" scope=\"row\">2</th>\\n<th class=\"pos2\" scope=\"row\">\\ud22c</th>\\n<th class=\"name\" scope=\"row\">\\uae40\\ud0dd\\ud615</th>\\n<td>\\xa0</td>\\n<td>\\xa0</td>\\n<td>\\xa0</td>\\n<td>\\xa0</td>\\n<td>\\xa0</td>\\n<td>\\xa0</td>\\n<td>\\xa0</td>\\n<td>\\xa0</td>\\n<td>\\xa0</td>\\n<td>\\xa0</td>\\n<td>\\xa0</td>\\n<td>\\xa0</td>\\n<td abbr=\"1\">0</td>\\n<td abbr=\"2\">0</td>\\n<td abbr=\"3\">0</td>\\n<td abbr=\"4\">0</td>\\n<td abbr=\"5\">0.000</td>\\n</tr>\\n<tr>\\n<th class=\"pos\" scope=\"row\">2</th>\\n<th class=\"pos2\" scope=\"row\">\\ud0c0</th>\\n<th class=\"name\" scope=\"row\">\\ud64d\\uc131\\uac11</th>\\n<td>\\xa0</td>\\n<td>\\xa0</td>\\n<td>\\xa0</td>\\n<td>\\xa0</td>\\n<td>\\xa0</td>\\n<td>\\xa0</td>\\n<td>\\xa0</td>\\n<td>2\\ub545</td>\\n<td>\\xa0</td>\\n<td>\\xa0</td>\\n<td>\\xa0</td>\\n<td>\\xa0</td>\\n<td abbr=\"1\">1</td>\\n<td abbr=\"2\">0</td>\\n<td abbr=\"3\">0</td>\\n<td abbr=\"4\">0</td>\\n<td abbr=\"5\">0.250</td>\\n</tr>\\n<tr>\\n<th class=\"pos\" scope=\"row\">2</th>\\n<th class=\"pos2\" scope=\"row\">\\ud22c</th>\\n<th class=\"name\" scope=\"row\">\\uc774\\ubcf4\\uadfc</th>\\n<td>\\xa0</td>\\n<td>\\xa0</td>\\n<td>\\xa0</td>\\n<td>\\xa0</td>\\n<td>\\xa0</td>\\n<td>\\xa0</td>\\n<td>\\xa0</td>\\n<td>\\xa0</td>\\n<td>\\xa0</td>\\n<td>\\xa0</td>\\n<td>\\xa0</td>\\n<td>\\xa0</td>\\n<td abbr=\"1\">0</td>\\n<td abbr=\"2\">0</td>\\n<td abbr=\"3\">0</td>\\n<td abbr=\"4\">0</td>\\n<td abbr=\"5\">0.000</td>\\n</tr>\\n<tr>\\n<th class=\"pos\" scope=\"row\">3</th>\\n<th class=\"pos2\" scope=\"row\">\\uc6b0</th>\\n<th class=\"name\" scope=\"row\">\\uc774\\ud0dd\\uadfc</th>\\n<td>\\uc911\\uc548</td>\\n<td>\\xa0</td>\\n<td>4\\uad6c</td>\\n<td>\\xa0</td>\\n<td>\\uc57c\\uc120</td>\\n<td>\\xa0</td>\\n<td>\\xa0</td>\\n<td>\\xa0</td>\\n<td>\\xa0</td>\\n<td>\\xa0</td>\\n<td>\\xa0</td>\\n<td>\\xa0</td>\\n<td abbr=\"1\">2</td>\\n<td abbr=\"2\">1</td>\\n<td abbr=\"3\">0</td>\\n<td abbr=\"4\">0</td>\\n<td abbr=\"5\">0.262</td>\\n</tr>\\n<tr>\\n<th class=\"pos\" scope=\"row\">3</th>\\n<th class=\"pos2\" scope=\"row\">\\uc6b0</th>\\n<th class=\"name\" scope=\"row\">\\ud5c8\\uc815\\ud611</th>\\n<td>\\xa0</td>\\n<td>\\xa0</td>\\n<td>\\xa0</td>\\n<td>\\xa0</td>\\n<td>\\xa0</td>\\n<td>\\xa0</td>\\n<td>\\xa0</td>\\n<td>3\\ub545</td>\\n<td>\\xa0</td>\\n<td>\\xa0</td>\\n<td>\\xa0</td>\\n<td>\\xa0</td>\\n<td abbr=\"1\">1</td>\\n<td abbr=\"2\">0</td>\\n<td abbr=\"3\">0</td>\\n<td abbr=\"4\">0</td>\\n<td abbr=\"5\">0.333</td>\\n</tr>\\n<tr>\\n<th class=\"pos\" scope=\"row\">4</th>\\n<th class=\"pos2\" scope=\"row\">\\uc88c</th>\\n<th class=\"name\" scope=\"row\">\\ub300\\ub2c8\\ub3c8</th>\\n<td>\\xa0</td>\\n<td>\\uc88c\\ube44</td>\\n<td>\\uc0ac\\uad6c</td>\\n<td>\\xa0</td>\\n<td>2\\ubcd1</td>\\n<td>\\xa0</td>\\n<td>\\xa0</td>\\n<td>\\uc6b0\\uc548</td>\\n<td>\\xa0</td>\\n<td>\\xa0</td>\\n<td>\\xa0</td>\\n<td>\\xa0</td>\\n<td abbr=\"1\">3</td>\\n<td abbr=\"2\">1</td>\\n<td abbr=\"3\">0</td>\\n<td abbr=\"4\">0</td>\\n<td abbr=\"5\">0.375</td>\\n</tr>\\n<tr>\\n<th class=\"pos\" scope=\"row\">4</th>\\n<th class=\"pos2\" scope=\"row\">\\uc8fc\\uc88c</th>\\n<th class=\"name\" scope=\"row\">\\ubc15\\uc815\\uc74c</th>\\n<td>\\xa0</td>\\n<td>\\xa0</td>\\n<td>\\xa0</td>\\n<td>\\xa0</td>\\n<td>\\xa0</td>\\n<td>\\xa0</td>\\n<td>\\xa0</td>\\n<td>\\xa0</td>\\n<td>\\xa0</td>\\n<td>\\xa0</td>\\n<td>\\xa0</td>\\n<td>\\xa0</td>\\n<td abbr=\"1\">0</td>\\n<td abbr=\"2\">0</td>\\n<td abbr=\"3\">0</td>\\n<td abbr=\"4\">0</td>\\n<td abbr=\"5\">0.148</td>\\n</tr>\\n<tr>\\n<th class=\"pos\" scope=\"row\">5</th>\\n<th class=\"pos2\" scope=\"row\">\\u4e09</th>\\n<th class=\"name\" scope=\"row\">\\uae40\\ubbfc\\uc131</th>\\n<td>\\xa0</td>\\n<td>3\\ub545</td>\\n<td>\\uc6b0\\uc548</td>\\n<td>\\xa0</td>\\n<td>\\xa0</td>\\n<td>\\uc88c\\uc548</td>\\n<td>\\xa0</td>\\n<td>\\xa0</td>\\n<td>\\xa0</td>\\n<td>\\xa0</td>\\n<td>\\xa0</td>\\n<td>\\xa0</td>\\n<td abbr=\"1\">3</td>\\n<td abbr=\"2\">2</td>\\n<td abbr=\"3\">1</td>\\n<td abbr=\"4\">0</td>\\n<td abbr=\"5\">0.306</td>\\n</tr>\\n<tr>\\n<th class=\"pos\" scope=\"row\">5</th>\\n<th class=\"pos2\" scope=\"row\">\\uc8fc\\u4e09</th>\\n<th class=\"name\" scope=\"row\">\\uc7a5\\uc601\\uc11d</th>\\n<td>\\xa0</td>\\n<td>\\xa0</td>\\n<td>\\xa0</td>\\n<td>\\xa0</td>\\n<td>\\xa0</td>\\n<td>\\xa0</td>\\n<td>\\xa0</td>\\n<td>\\xa0</td>\\n<td>3\\ub545</td>\\n<td>\\xa0</td>\\n<td>\\xa0</td>\\n<td>\\xa0</td>\\n<td abbr=\"1\">1</td>\\n<td abbr=\"2\">0</td>\\n<td abbr=\"3\">0</td>\\n<td abbr=\"4\">0</td>\\n<td abbr=\"5\">0.250</td>\\n</tr>\\n<tr>\\n<th class=\"pos\" scope=\"row\">6</th>\\n<th class=\"pos2\" scope=\"row\">\\u4e00</th>\\n<th class=\"name\" scope=\"row\">\\uc724\\uc11d\\ubbfc</th>\\n<td>\\xa0</td>\\n<td>\\uc911\\uc548</td>\\n<td>\\uc0bc\\uc9c4</td>\\n<td>\\xa0</td>\\n<td>\\xa0</td>\\n<td>\\uc0bc\\uc9c4</td>\\n<td>\\xa0</td>\\n<td>\\xa0</td>\\n<td>\\xa0</td>\\n<td>\\xa0</td>\\n<td>\\xa0</td>\\n<td>\\xa0</td>\\n<td abbr=\"1\">3</td>\\n<td abbr=\"2\">1</td>\\n<td abbr=\"3\">0</td>\\n<td abbr=\"4\">1</td>\\n<td abbr=\"5\">0.262</td>\\n</tr>\\n<tr>\\n<th class=\"pos\" scope=\"row\">6</th>\\n<th class=\"pos2\" scope=\"row\">\\u4e00</th>\\n<th class=\"name\" scope=\"row\">\\uc11c\\ub3d9\\uc6b1</th>\\n<td>\\xa0</td>\\n<td>\\xa0</td>\\n<td>\\xa0</td>\\n<td>\\xa0</td>\\n<td>\\xa0</td>\\n<td>\\xa0</td>\\n<td>\\xa0</td>\\n<td>\\xa0</td>\\n<td>2\\ub545</td>\\n<td>\\xa0</td>\\n<td>\\xa0</td>\\n<td>\\xa0</td>\\n<td abbr=\"1\">1</td>\\n<td abbr=\"2\">0</td>\\n<td abbr=\"3\">0</td>\\n<td abbr=\"4\">0</td>\\n<td abbr=\"5\">0.400</td>\\n</tr>\\n<tr>\\n<th class=\"pos\" scope=\"row\">7</th>\\n<th class=\"pos2\" scope=\"row\">\\ud3ec</th>\\n<th class=\"name\" scope=\"row\">\\ubc15\\ub3d9\\uc6d0</th>\\n<td>\\xa0</td>\\n<td>\\uc88c\\ud648</td>\\n<td>\\xa0</td>\\n<td>1\\ud30c</td>\\n<td>\\xa0</td>\\n<td>2\\ubcd1</td>\\n<td>\\xa0</td>\\n<td>\\xa0</td>\\n<td>\\xa0</td>\\n<td>\\xa0</td>\\n<td>\\xa0</td>\\n<td>\\xa0</td>\\n<td abbr=\"1\">3</td>\\n<td abbr=\"2\">1</td>\\n<td abbr=\"3\">2</td>\\n<td abbr=\"4\">1</td>\\n<td abbr=\"5\">0.333</td>\\n</tr>\\n<tr>\\n<th class=\"pos\" scope=\"row\">7</th>\\n<th class=\"pos2\" scope=\"row\">\\ud3ec</th>\\n<th class=\"name\" scope=\"row\">\\uae40\\uc7ac\\ud604</th>\\n<td>\\xa0</td>\\n<td>\\xa0</td>\\n<td>\\xa0</td>\\n<td>\\xa0</td>\\n<td>\\xa0</td>\\n<td>\\xa0</td>\\n<td>\\xa0</td>\\n<td>\\xa0</td>\\n<td>3\\ub545</td>\\n<td>\\xa0</td>\\n<td>\\xa0</td>\\n<td>\\xa0</td>\\n<td abbr=\"1\">1</td>\\n<td abbr=\"2\">0</td>\\n<td abbr=\"3\">0</td>\\n<td abbr=\"4\">0</td>\\n<td abbr=\"5\">0.083</td>\\n</tr>\\n<tr>\\n<th class=\"pos\" scope=\"row\">8</th>\\n<th class=\"pos2\" scope=\"row\">\\uc9c0\\uc911</th>\\n<th class=\"name\" scope=\"row\">\\uc784\\ubcd1\\uc6b1</th>\\n<td>\\xa0</td>\\n<td>\\uc0bc\\uc9c4</td>\\n<td>\\xa0</td>\\n<td>\\uc0bc\\uc9c4</td>\\n<td>\\xa0</td>\\n<td>\\xa0</td>\\n<td>2\\ub545</td>\\n<td>\\xa0</td>\\n<td>\\xa0</td>\\n<td>\\xa0</td>\\n<td>\\xa0</td>\\n<td>\\xa0</td>\\n<td abbr=\"1\">3</td>\\n<td abbr=\"2\">0</td>\\n<td abbr=\"3\">0</td>\\n<td abbr=\"4\">0</td>\\n<td abbr=\"5\">0.143</td>\\n</tr>\\n<tr>\\n<th class=\"pos\" scope=\"row\">9</th>\\n<th class=\"pos2\" scope=\"row\">\\uc720</th>\\n<th class=\"name\" scope=\"row\">\\uae40\\ud558\\uc131</th>\\n<td>\\xa0</td>\\n<td>\\xa0</td>\\n<td>\\uc0bc\\uc9c4</td>\\n<td>\\uc0bc\\uc9c4</td>\\n<td>\\xa0</td>\\n<td>\\xa0</td>\\n<td>\\uc88c\\uc548</td>\\n<td>\\xa0</td>\\n<td>\\xa0</td>\\n<td>\\xa0</td>\\n<td>\\xa0</td>\\n<td>\\xa0</td>\\n<td abbr=\"1\">3</td>\\n<td abbr=\"2\">1</td>\\n<td abbr=\"3\">0</td>\\n<td abbr=\"4\">0</td>\\n<td abbr=\"5\">0.143</td>\\n</tr>\\n<tr>\\n<th class=\"pos\" scope=\"row\">9</th>\\n<th class=\"pos2\" scope=\"row\">\\uc720</th>\\n<th class=\"name\" scope=\"row\">\\uc7a5\\uc2dc\\uc724</th>\\n<td>\\xa0</td>\\n<td>\\xa0</td>\\n<td>\\xa0</td>\\n<td>\\xa0</td>\\n<td>\\xa0</td>\\n<td>\\xa0</td>\\n<td>\\xa0</td>\\n<td>\\xa0</td>\\n<td>\\xa0</td>\\n<td>\\xa0</td>\\n<td>\\xa0</td>\\n<td>\\xa0</td>\\n<td abbr=\"1\">0</td>\\n<td abbr=\"2\">0</td>\\n<td abbr=\"3\">0</td>\\n<td abbr=\"4\">0</td>\\n<td abbr=\"5\">0.278</td>\\n</tr>\\n</tbody>\\n</table>\\n<h4 class=\"bul h_nc\">NC \\ub2e4\\uc774\\ub178\\uc2a4 \\ud22c\\uc218 \\uae30\\ub85d</h4>\\n<table cellpadding=\"0\" cellspacing=\"0\" class=\"tData\" id=\"xtable3\" summary=\"\\ud22c\\uc218\\uc774\\ub984\\ubc0f\\ud3ec\\uc9c0\\uc158\\uc5d0 \\ub530\\ub978 \\uacb0\\uacfc,\\ud0c0\\uc790,\\ud22c\\uad6c\\uc218,\\uc774\\ub2dd,\\ud53c\\uc548\\ud0c0,\\ud53c\\ud648\\ud5cc,4\\uc0ac\\uad6c,\\uc0bc\\uc9c4,\\uc790\\ucc45,\\uc2dc\\uc98c \\ubc29\\uc5b4\\uc728\\uc744 \\ud655\\uc778 \\ud558\\uc2e4 \\uc218 \\uc788\\uc2b5\\ub2c8\\ub2e4.\">\\n<caption>\\ud22c\\uc218</caption>\\n<colgroup>\\n<col width=\"80\"></col>\\n<col width=\"40\"></col>\\n<col width=\"40\"></col>\\n<col width=\"40\"></col>\\n<col width=\"40\"></col>\\n<col width=\"40\"></col>\\n<col width=\"40\"></col>\\n<col width=\"40\"></col>\\n<col width=\"40\"></col>\\n<col width=\"40\"></col>\\n<col width=\"40\"></col>\\n<col width=\"40\"></col>\\n<col width=\"40\"></col>\\n<col width=\"40\"></col>\\n<col width=\"40\"></col>\\n<col width=\"40\"></col>\\n<col width=\"60\"></col>\\n</colgroup>\\n<thead>\\n<tr class=\"tlong\">\\n<th scope=\"col\">\\uc120\\uc218\\uba85</th>\\n<th scope=\"col\">\\ub4f1\\ud310</th>\\n<th scope=\"col\">\\uacb0\\uacfc</th>\\n<th scope=\"col\">\\uc2b9</th>\\n<th scope=\"col\">\\ud328</th>\\n<th scope=\"col\">\\uc138</th>\\n<th scope=\"col\">\\uc774\\ub2dd</th>\\n<th scope=\"col\">\\ud0c0\\uc790</th>\\n<th scope=\"col\">\\ud22c\\uad6c\\uc218</th>\\n<th scope=\"col\">\\ud0c0\\uc218</th>\\n<th scope=\"col\">\\ud53c\\uc548\\ud0c0</th>\\n<th scope=\"col\">\\ud648\\ub7f0</th>\\n<th scope=\"col\">4\\uc0ac\\uad6c</th>\\n<th scope=\"col\">\\uc0bc\\uc9c4</th>\\n<th scope=\"col\">\\uc2e4\\uc810</th>\\n<th scope=\"col\">\\uc790\\ucc45</th>\\n<th scope=\"col\">\\ud3c9\\uade0\\uc790\\ucc45\\uc810</th>\\n</tr>\\n</thead>\\n<tfoot>\\n<tr><th colspan=\"6\" scope=\"row\">TOTAL</th><td>9</td><td>34</td><td>119</td><td>31</td><td>8</td><td>1</td><td>3</td><td>7</td><td>3</td><td>3</td><td>4.53</td></tr>\\n</tfoot>\\n<tbody>\\n<tr>\\n<th class=\"name\" scope=\"row\">\\uc774\\uc7ac\\ud559</th>\\n<td>\\uc120\\ubc1c</td>\\n<td>\\uc2b9</td>\\n<td>2</td>\\n<td>2</td>\\n<td>0</td>\\n<td abbr=\"3\">4</td>\\n<td abbr=\"1\">18</td>\\n<td abbr=\"2\">63</td>\\n<td abbr=\"4\">16</td>\\n<td abbr=\"5\">5</td>\\n<td abbr=\"6\">1</td>\\n<td abbr=\"7\">2</td>\\n<td abbr=\"8\">6</td>\\n<td abbr=\"9\">3</td>\\n<td abbr=\"10\">3</td>\\n<td abbr=\"11\">4.58</td>\\n</tr>\\n<tr>\\n<th class=\"name\" scope=\"row\">\\uad6c\\ucc3d\\ubaa8</th>\\n<td>5.1</td>\\n<td>\\xa0</td>\\n<td>0</td>\\n<td>0</td>\\n<td>0</td>\\n<td abbr=\"3\">1</td>\\n<td abbr=\"1\">4</td>\\n<td abbr=\"2\">18</td>\\n<td abbr=\"4\">3</td>\\n<td abbr=\"5\">0</td>\\n<td abbr=\"6\">0</td>\\n<td abbr=\"7\">1</td>\\n<td abbr=\"8\">0</td>\\n<td abbr=\"9\">0</td>\\n<td abbr=\"10\">0</td>\\n<td abbr=\"11\">4.91</td>\\n</tr>\\n<tr>\\n<th class=\"name\" scope=\"row\">\\uae40\\uc120\\uaddc</th>\\n<td>6.5</td>\\n<td>\\xa0</td>\\n<td>0</td>\\n<td>0</td>\\n<td>0</td>\\n<td abbr=\"3\">1</td>\\n<td abbr=\"1\">3</td>\\n<td abbr=\"2\">10</td>\\n<td abbr=\"4\">3</td>\\n<td abbr=\"5\">1</td>\\n<td abbr=\"6\">0</td>\\n<td abbr=\"7\">0</td>\\n<td abbr=\"8\">1</td>\\n<td abbr=\"9\">0</td>\\n<td abbr=\"10\">0</td>\\n<td abbr=\"11\">6.75</td>\\n</tr>\\n<tr>\\n<th class=\"name\" scope=\"row\">\\uac15\\uc7a5\\uc0b0</th>\\n<td>7.8</td>\\n<td>\\xa0</td>\\n<td>0</td>\\n<td>0</td>\\n<td>0</td>\\n<td abbr=\"3\">1</td>\\n<td abbr=\"1\">3</td>\\n<td abbr=\"2\">11</td>\\n<td abbr=\"4\">3</td>\\n<td abbr=\"5\">1</td>\\n<td abbr=\"6\">0</td>\\n<td abbr=\"7\">0</td>\\n<td abbr=\"8\">0</td>\\n<td abbr=\"9\">0</td>\\n<td abbr=\"10\">0</td>\\n<td abbr=\"11\">3.86</td>\\n</tr>\\n<tr>\\n<th class=\"name\" scope=\"row\">\\ubc15\\uc900\\uc601</th>\\n<td>8.2</td>\\n<td>\\xa0</td>\\n<td>0</td>\\n<td>0</td>\\n<td>0</td>\\n<td abbr=\"3\">1</td>\\n<td abbr=\"1\">3</td>\\n<td abbr=\"2\">11</td>\\n<td abbr=\"4\">3</td>\\n<td abbr=\"5\">1</td>\\n<td abbr=\"6\">0</td>\\n<td abbr=\"7\">0</td>\\n<td abbr=\"8\">0</td>\\n<td abbr=\"9\">0</td>\\n<td abbr=\"10\">0</td>\\n<td abbr=\"11\">1.69</td>\\n</tr>\\n<tr>\\n<th class=\"name\" scope=\"row\">\\ubc15\\ubbfc\\uc11d</th>\\n<td>9.5</td>\\n<td>\\xa0</td>\\n<td>1</td>\\n<td>0</td>\\n<td>1</td>\\n<td abbr=\"3\">1</td>\\n<td abbr=\"1\">3</td>\\n<td abbr=\"2\">6</td>\\n<td abbr=\"4\">3</td>\\n<td abbr=\"5\">0</td>\\n<td abbr=\"6\">0</td>\\n<td abbr=\"7\">0</td>\\n<td abbr=\"8\">0</td>\\n<td abbr=\"9\">0</td>\\n<td abbr=\"10\">0</td>\\n<td abbr=\"11\">0.00</td>\\n</tr>\\n</tbody>\\n</table>\\n<h4 class=\"bul h_wo\">\\ub125\\uc13c \\ud788\\uc5b4\\ub85c\\uc988 \\ud22c\\uc218 \\uae30\\ub85d</h4>\\n<table cellpadding=\"0\" cellspacing=\"0\" class=\"tData\" id=\"xtable3\" summary=\"\\uc0bc\\uc131 \\ub77c\\uc774\\uc628\\uc988 \\ud22c\\uc218\\uc774\\ub984\\ubc0f\\ud3ec\\uc9c0\\uc158\\uc5d0 \\ub530\\ub978 \\uacb0\\uacfc,\\ud0c0\\uc790,\\ud22c\\uad6c\\uc218,\\uc774\\ub2dd,\\ud53c\\uc548\\ud0c0,\\ud53c\\ud648\\ud5cc,4\\uc0ac\\uad6c,\\uc0bc\\uc9c4,\\uc790\\ucc45,\\uc2dc\\uc98c \\ubc29\\uc5b4\\uc728\\uc744 \\ud655\\uc778 \\ud558\\uc2e4 \\uc218 \\uc788\\uc2b5\\ub2c8\\ub2e4.\">\\n<caption>SK \\uc640\\uc774\\ubc88\\uc2a4 \\ud22c\\uc218</caption>\\n<colgroup>\\n<col width=\"80\"></col>\\n<col width=\"40\"></col>\\n<col width=\"40\"></col>\\n<col width=\"40\"></col>\\n<col width=\"40\"></col>\\n<col width=\"40\"></col>\\n<col width=\"40\"></col>\\n<col width=\"40\"></col>\\n<col width=\"40\"></col>\\n<col width=\"40\"></col>\\n<col width=\"40\"></col>\\n<col width=\"40\"></col>\\n<col width=\"40\"></col>\\n<col width=\"40\"></col>\\n<col width=\"40\"></col>\\n<col width=\"40\"></col>\\n<col width=\"60\"></col>\\n</colgroup>\\n<thead>\\n<tr class=\"tlong\">\\n<th scope=\"col\">\\uc120\\uc218\\uba85</th>\\n<th scope=\"col\">\\ub4f1\\ud310</th>\\n<th scope=\"col\">\\uacb0\\uacfc</th>\\n<th scope=\"col\">\\uc2b9</th>\\n<th scope=\"col\">\\ud328</th>\\n<th scope=\"col\">\\uc138</th>\\n<th scope=\"col\">\\uc774\\ub2dd</th>\\n<th scope=\"col\">\\ud0c0\\uc790</th>\\n<th scope=\"col\">\\ud22c\\uad6c\\uc218</th>\\n<th scope=\"col\">\\ud0c0\\uc218</th>\\n<th scope=\"col\">\\ud53c\\uc548\\ud0c0</th>\\n<th scope=\"col\">\\ud648\\ub7f0</th>\\n<th scope=\"col\">4\\uc0ac\\uad6c</th>\\n<th scope=\"col\">\\uc0bc\\uc9c4</th>\\n<th scope=\"col\">\\uc2e4\\uc810</th>\\n<th scope=\"col\">\\uc790\\ucc45</th>\\n<th scope=\"col\">\\ud3c9\\uade0\\uc790\\ucc45\\uc810</th>\\n</tr>\\n</thead>\\n<tfoot>\\n<tr><th colspan=\"6\" scope=\"row\">TOTAL</th><td>9</td><td>43</td><td>162</td><td>42</td><td>17</td><td>2</td><td>1</td><td>7</td><td>8</td><td>8</td><td>4.70</td></tr>\\n</tfoot>\\n<tbody>\\n<tr>\\n<th class=\"name\" scope=\"row\">\\ubc15\\uc8fc\\ud604</th>\\n<td>\\uc120\\ubc1c</td>\\n<td>\\ud328</td>\\n<td>0</td>\\n<td>1</td>\\n<td>0</td>\\n<td abbr=\"3\">2 2/3</td>\\n<td abbr=\"1\">18</td>\\n<td abbr=\"2\">63</td>\\n<td abbr=\"4\">18</td>\\n<td abbr=\"5\">11</td>\\n<td abbr=\"6\">1</td>\\n<td abbr=\"7\">0</td>\\n<td abbr=\"8\">3</td>\\n<td abbr=\"9\">7</td>\\n<td abbr=\"10\">7</td>\\n<td abbr=\"11\">7.27</td>\\n</tr>\\n<tr>\\n<th class=\"name\" scope=\"row\">\\uae40\\uc0c1\\uc218</th>\\n<td>3.1</td>\\n<td>\\xa0</td>\\n<td>1</td>\\n<td>1</td>\\n<td>0</td>\\n<td abbr=\"3\">3 1/3</td>\\n<td abbr=\"1\">13</td>\\n<td abbr=\"2\">57</td>\\n<td abbr=\"4\">12</td>\\n<td abbr=\"5\">3</td>\\n<td abbr=\"6\">0</td>\\n<td abbr=\"7\">1</td>\\n<td abbr=\"8\">3</td>\\n<td abbr=\"9\">0</td>\\n<td abbr=\"10\">0</td>\\n<td abbr=\"11\">1.38</td>\\n</tr>\\n<tr>\\n<th class=\"name\" scope=\"row\">\\ub9c8\\uc815\\uae38</th>\\n<td>7.5</td>\\n<td>\\xa0</td>\\n<td>0</td>\\n<td>0</td>\\n<td>0</td>\\n<td abbr=\"3\">1</td>\\n<td abbr=\"1\">4</td>\\n<td abbr=\"2\">9</td>\\n<td abbr=\"4\">4</td>\\n<td abbr=\"5\">1</td>\\n<td abbr=\"6\">1</td>\\n<td abbr=\"7\">0</td>\\n<td abbr=\"8\">0</td>\\n<td abbr=\"9\">1</td>\\n<td abbr=\"10\">1</td>\\n<td abbr=\"11\">2.57</td>\\n</tr>\\n<tr>\\n<th class=\"name\" scope=\"row\">\\uae40\\ud0dd\\ud615</th>\\n<td>8.9</td>\\n<td>\\xa0</td>\\n<td>0</td>\\n<td>0</td>\\n<td>0</td>\\n<td abbr=\"3\">1</td>\\n<td abbr=\"1\">3</td>\\n<td abbr=\"2\">14</td>\\n<td abbr=\"4\">3</td>\\n<td abbr=\"5\">0</td>\\n<td abbr=\"6\">0</td>\\n<td abbr=\"7\">0</td>\\n<td abbr=\"8\">0</td>\\n<td abbr=\"9\">0</td>\\n<td abbr=\"10\">0</td>\\n<td abbr=\"11\">0.00</td>\\n</tr>\\n<tr>\\n<th class=\"name\" scope=\"row\">\\uc774\\ubcf4\\uadfc</th>\\n<td>9.3</td>\\n<td>\\xa0</td>\\n<td>0</td>\\n<td>0</td>\\n<td>0</td>\\n<td abbr=\"3\">1</td>\\n<td abbr=\"1\">5</td>\\n<td abbr=\"2\">19</td>\\n<td abbr=\"4\">5</td>\\n<td abbr=\"5\">2</td>\\n<td abbr=\"6\">0</td>\\n<td abbr=\"7\">0</td>\\n<td abbr=\"8\">1</td>\\n<td abbr=\"9\">0</td>\\n<td abbr=\"10\">0</td>\\n<td abbr=\"11\">1.80</td>\\n</tr>\\n</tbody>\\n</table>\\n</div>\\n</div>\\n</div>\\n</div>\\n<!-- // container -->\\n<!-- footer -->\\n<div id=\"footer\">\\n<div class=\"wrapper01\">\\n<div class=\"row\">\\n<div class=\"team_kbo\">\\n<ul>\\n<li><a href=\"http://www.doosanbears.com/\" target=\"_blank\"><img alt=\"\\ub450\\uc0b0\" src=\"//image.koreabaseball.com/client/images/common/team_bears.png\"/></a></li>\\n<li><a href=\"http://www.samsunglions.com/\" target=\"_blank\"><img alt=\"\\uc0bc\\uc131\" src=\"//image.koreabaseball.com/client/images/common/team_lions.png\"/></a></li>\\n<li><a href=\"http://www.ncdinos.com/\" target=\"_blank\"><img alt=\"NC\" src=\"//image.koreabaseball.com/client/images/common/team_dinos.png\"/></a></li>\\n<li><a href=\"http://www.heroes-baseball.co.kr/\" target=\"_blank\"><img alt=\"\\ub125\\uc13c\" src=\"//image.koreabaseball.com/client/images/common/team_heroes.png\"/></a></li>\\n<li><a href=\"http://www.sksports.net/Wyverns/main.asp\" target=\"_blank\"><img alt=\"SK\" src=\"//image.koreabaseball.com/client/images/common/team_wyvurns.png\"/></a></li>\\n<li><a href=\"http://www.hanwhaeagles.co.kr/html/main/main.asp\" target=\"_blank\"><img alt=\"\\ud55c\\ud654\" src=\"//image.koreabaseball.com/client/images/common/team_eagles.png\"/></a></li>\\n<li><a href=\"http://www.tigers.co.kr\" target=\"_blank\"><img alt=\"\\uae30\\uc544\" src=\"//image.koreabaseball.com/client/images/common/team_tigers.png\"/></a></li>\\n<li><a href=\"http://www.giantsclub.com/html/\" target=\"_blank\"><img alt=\"\\ub86f\\ub370\" src=\"//image.koreabaseball.com/client/images/common/team_giants.png\"/></a></li>\\n<li><a href=\"http://www.lgtwins.com/\" target=\"_blank\"><img alt=\"LG\" src=\"//image.koreabaseball.com/client/images/common/team_twins.png\"/></a></li>\\n<li><a href=\"http://www.ktwiz.co.kr/sports/site/baseball/main.do\" target=\"_blank\"><img alt=\"KT\" src=\"//image.koreabaseball.com/client/images/common/team_wiz.png\"/></a></li>\\n</ul>\\n</div>\\n</div>\\n</div>\\n<div class=\"wrapper02\">\\n<div class=\"row\">\\n<div class=\"foo\">\\n<h2 class=\"sub_logo\" onclick=\"javascript:location.href='/Etc/PressRelease.aspx';\" style=\"cursor:pointer;\">KBO</h2>\\n<div class=\"copyright\">\\n<div class=\"foo_menu\">\\n<ul>\\n<li class=\"first\"><a href=\"/About/TeamInfo.aspx\">KBO\\uc18c\\uac1c</a></li>\\n<li><a href=\"/Schedule/ScoreBoard/ScoreBoard.aspx\">\\ubb38\\uc790\\uc911\\uacc4</a></li>\\n<li><a href=\"/Board/Faq/List.aspx\">\\uace0\\uac1d\\uc9c8\\ubb38</a></li>\\n<li><a href=\"/Etc/SiteMap.aspx\">\\uc0ac\\uc774\\ud2b8\\ub9f5</a></li>\\n<li><a href=\"/Etc/Privacy.aspx\">\\uac1c\\uc778\\uc815\\ubcf4\\ubcf4\\ud638\\uc815\\ucc45</a></li>\\n<li class=\"last\"><a href=\"/Etc/Advertising.aspx\">\\uad11\\uace0\\ubb38\\uc758</a></li>\\n</ul>\\n</div>\\n<div class=\"address\">\\n<p>(\\uc0ac)\\ud55c\\uad6d\\uc57c\\uad6c\\uc704\\uc6d0\\ud68c \\uc11c\\uc6b8\\ud2b9\\ubcc4\\uc2dc \\uac15\\ub0a8\\uad6c \\uac15\\ub0a8\\ub300\\ub85c 278 TEL 02) 3460-4600</p>\\n<p>\\ubcf8 \\uc0ac\\uc774\\ud2b8\\ub294 <strong>\\uc2a4\\ud3ec\\uce20\\ud22c\\uc544\\uc774\\u321c</strong>\\uac00 KBO \\ub9ac\\uadf8 \\ud32c\\uc744 \\uc704\\ud574 \\uc6b4\\uc601\\ud558\\ub294 KBO \\uacf5\\uc2dd \\uc0ac\\uc774\\ud2b8\\uc785\\ub2c8\\ub2e4.</p>\\n<p>Copyright\\u24d2 KBO, All Rights Reserved.</p>\\n<span class=\"sign\">\\n<img alt=\"w3chtml\" src=\"//image.koreabaseball.com/client/images/common/img_xhtml.png\"/>\\n<img alt=\"verisign\" src=\"//image.koreabaseball.com/client/images/common/img_verisign.png\"/>\\n</span>\\n</div>\\n</div>\\n<div class=\"verify\">\\n</div>\\n</div>\\n</div>\\n</div>\\n</div>\\n<!-- // footer -->\\n</div>\\n</form>\\n<script type=\"text/javascript\">\\r\\n    //<![CDATA[\\r\\n\\t    $(document).ready(function () {\\r\\n\\t        var historybanner = new js_rolling(document.getElementById('HistoryItem'));\\r\\n            historybanner.set_direction(4);\\r\\n\\t        historybanner.time_dealy_pause = 0; //\\ud558\\ub098\\uc758 \\ub300\\uc0c1\\uc774 \\uc0c8\\ub85c \\uc2dc\\uc791\\ud560 \\ub54c \\uba48\\ucd94\\ub294 \\uc2dc\\uac04, 0 \\uc774\\uba74 \\uc801\\uc6a9 \\uc548\\ud568\\r\\n \\r\\n\\t        function bannerTop() {\\r\\n\\t            banner.move_up();\\r\\n\\t            banner.set_direction(1);\\r\\n\\t        }\\r\\n\\t        function bannerBottom() {\\r\\n\\t            banner.move_down();\\r\\n\\t            banner.set_direction(3);\\r\\n\\t        }\\r\\n\\t        function bannerRight() {\\r\\n\\t            banner.move_right();\\r\\n\\t            banner.set_direction(2);\\r\\n\\t        }\\r\\n\\t        function bannerLeft() {\\r\\n\\t            banner.move_left();\\r\\n\\t            banner.set_direction(4);\\r\\n\\t        }\\r\\n\\t        function bannerStop() {\\r\\n\\t            banner.stop();\\r\\n\\t        }\\r\\n\\t        function bannerPlay() {\\r\\n\\t            banner.resume();\\r\\n\\t        }\\r\\n \\r\\n\\t        function historybannerTop() {\\r\\n\\t            historybanner.move_up();\\r\\n\\t            historybanner.set_direction(1);\\r\\n\\t        }\\r\\n\\t        function historybannerBottom() {\\r\\n\\t            historybanner.move_down();\\r\\n\\t            historybanner.set_direction(3);\\r\\n\\t        }\\r\\n\\t        function historybannerRight() {\\r\\n\\t            historybanner.move_right();\\r\\n\\t            historybanner.set_direction(2);\\r\\n\\t        }\\r\\n\\t        function historybannerLeft() {\\r\\n\\t            historybanner.move_left();\\r\\n\\t            historybanner.set_direction(4);\\r\\n\\t        }\\r\\n\\t        function historybannerStop() {\\r\\n\\t            historybanner.stop();\\r\\n\\t        }\\r\\n\\t        function historybannerPlay() {\\r\\n\\t            historybanner.resume();\\r\\n \\r\\n\\t        }\\r\\n \\r\\n\\t        //\\uc5f0\\uc0ac\\r\\n\\t        $(\".btnControl a\").click(function (e) {\\r\\n\\t            e.preventDefault();\\r\\n\\t            if ($(this).hasClass(\"left\")) {\\r\\n\\t                historybannerLeft();\\r\\n\\t            } else if ($(this).hasClass(\"right\")) {\\r\\n\\t                historybannerRight();\\r\\n\\t            } else if ($(this).hasClass(\"playing\")) {\\r\\n\\t                historybannerPlay();\\r\\n\\t                $(this).removeClass(\"playing\");\\r\\n\\t                $(this).find(\"img\").attr({\\r\\n\\t                    alt: \"Stop\",\\r\\n\\t                    src: \"//image.koreabaseball.com/client/images/main/roll_stop.png\"\\r\\n\\t                });\\r\\n\\t            } else {\\r\\n\\t                historybannerStop();\\r\\n\\t                $(this).addClass(\"playing\");\\r\\n\\t                $(this).find(\"img\").attr({\\r\\n\\t                    alt: \"Play\",\\r\\n\\t                    src: \"//image.koreabaseball.com/client/images/main/roll_play.png\"\\r\\n\\t                });\\r\\n\\t            }\\r\\n\\t        });\\r\\n\\r\\n\\r\\n\\t    });\\r\\n        // ]]>\\r\\n    </script>\\n</body>\\n</html>\\n"
      ]
     },
     "execution_count": 4,
     "metadata": {},
     "output_type": "execute_result"
    }
   ],
   "source": [
    "html"
   ]
  },
  {
   "cell_type": "code",
   "execution_count": 7,
   "metadata": {
    "collapsed": false
   },
   "outputs": [],
   "source": [
    "#DATE\n",
    "date=html.select('div.yearDate span')[0].text\n",
    "\n",
    "#AWAY팀명\n",
    "a_Team=html.select('table.socreBoard tr:nth-of-type(2) th')[0].text\n",
    "\n",
    "#HOME팀명\n",
    "h_Team=html.select('table.socreBoard tr:nth-of-type(3) th')[0].text\n",
    "\n",
    "#AWAY_SCORE\n",
    "tmp=html.select('table.socreBoard tr:nth-of-type(2) td')\n",
    "a_Score=list()\n",
    "for score in tmp:\n",
    "    a_Score.append(score.text)\n",
    "\n",
    "#HOME_SCORE\n",
    "tmp=html.select('table.socreBoard tr:nth-of-type(3) td')\n",
    "h_Score=list()\n",
    "for score in tmp:\n",
    "    h_Score.append(score.text)\n",
    "\n",
    "#STADIUM\n",
    "tmp=html.select('p.ballpark')[0]\n",
    "#.text 메서드는 unicode형태로 반환\n",
    "tmp=tmp.text\n",
    "stadium=tmp[tmp.find(u'고척'):tmp.find(u'관중')].strip()\n",
    "\n",
    "#AWAY 투수기록\n",
    "col=[u'선수명',u'등판',u'결과',u'승',u'패',u'세',u'이닝',u'타자',u'투구수',u'타수',u'피안타',u'홈런',u'4사구',u'삼진',u'실점',u'자책',u'평균자책점']\n",
    "frame=html.select('table#xtable3 tbody:nth-of-type(1) tr')\n",
    "data=list()    #frame으로부터 데이터를 담을 리스트\n",
    "for row in frame:\n",
    "    tmp=list()\n",
    "    for dat in row.text.strip().split('\\n'):    #한 행(한 투수의 데이터)마다 split한뒤 list로 정리\n",
    "        tmp.append(dat)\n",
    "    data.append(tmp)   #정리된 list를 data에 추가\n",
    "a_pitRecord = pd.DataFrame(data=data,columns=col)\n",
    "\n",
    "#HOME 투수기록\n",
    "#col=[u'선수명',u'등판',u'결과',u'승',u'패',u'세',u'이닝',u'타자',u'투구수',u'타수',u'피안타',u'홈런',u'4사구',u'삼진',u'실점',u'자책',u'평균자책점']\n",
    "frame=html.select('table#xtable3 tbody:nth-of-type(2) tr')\n",
    "data=list()    #frame으로부터 데이터를 담을 리스트\n",
    "for row in frame:\n",
    "    tmp=list()\n",
    "    for dat in row.text.strip().split('\\n'):    #한 행(한 투수의 데이터)마다 split한뒤 list로 정리\n",
    "        tmp.append(dat)\n",
    "    data.append(tmp)   #정리된 list를 data에 추가\n",
    "h_pitRecord = pd.DataFrame(data=data,columns=col)\n",
    "\n"
   ]
  },
  {
   "cell_type": "code",
   "execution_count": 6,
   "metadata": {
    "collapsed": false,
    "scrolled": false
   },
   "outputs": [
    {
     "data": {
      "text/html": [
       "<div>\n",
       "<table border=\"1\" class=\"dataframe\">\n",
       "  <thead>\n",
       "    <tr style=\"text-align: right;\">\n",
       "      <th></th>\n",
       "      <th>선수명</th>\n",
       "      <th>등판</th>\n",
       "      <th>결과</th>\n",
       "      <th>승</th>\n",
       "      <th>패</th>\n",
       "      <th>세</th>\n",
       "      <th>이닝</th>\n",
       "      <th>타자</th>\n",
       "      <th>투구수</th>\n",
       "      <th>타수</th>\n",
       "      <th>피안타</th>\n",
       "      <th>홈런</th>\n",
       "      <th>4사구</th>\n",
       "      <th>삼진</th>\n",
       "      <th>실점</th>\n",
       "      <th>자책</th>\n",
       "      <th>평균자책점</th>\n",
       "    </tr>\n",
       "  </thead>\n",
       "  <tbody>\n",
       "    <tr>\n",
       "      <th>0</th>\n",
       "      <td>이재학</td>\n",
       "      <td>선발</td>\n",
       "      <td>승</td>\n",
       "      <td>2</td>\n",
       "      <td>2</td>\n",
       "      <td>0</td>\n",
       "      <td>4</td>\n",
       "      <td>18</td>\n",
       "      <td>63</td>\n",
       "      <td>16</td>\n",
       "      <td>5</td>\n",
       "      <td>1</td>\n",
       "      <td>2</td>\n",
       "      <td>6</td>\n",
       "      <td>3</td>\n",
       "      <td>3</td>\n",
       "      <td>4.58</td>\n",
       "    </tr>\n",
       "    <tr>\n",
       "      <th>1</th>\n",
       "      <td>구창모</td>\n",
       "      <td>5.1</td>\n",
       "      <td></td>\n",
       "      <td>0</td>\n",
       "      <td>0</td>\n",
       "      <td>0</td>\n",
       "      <td>1</td>\n",
       "      <td>4</td>\n",
       "      <td>18</td>\n",
       "      <td>3</td>\n",
       "      <td>0</td>\n",
       "      <td>0</td>\n",
       "      <td>1</td>\n",
       "      <td>0</td>\n",
       "      <td>0</td>\n",
       "      <td>0</td>\n",
       "      <td>4.91</td>\n",
       "    </tr>\n",
       "    <tr>\n",
       "      <th>2</th>\n",
       "      <td>김선규</td>\n",
       "      <td>6.5</td>\n",
       "      <td></td>\n",
       "      <td>0</td>\n",
       "      <td>0</td>\n",
       "      <td>0</td>\n",
       "      <td>1</td>\n",
       "      <td>3</td>\n",
       "      <td>10</td>\n",
       "      <td>3</td>\n",
       "      <td>1</td>\n",
       "      <td>0</td>\n",
       "      <td>0</td>\n",
       "      <td>1</td>\n",
       "      <td>0</td>\n",
       "      <td>0</td>\n",
       "      <td>6.75</td>\n",
       "    </tr>\n",
       "    <tr>\n",
       "      <th>3</th>\n",
       "      <td>강장산</td>\n",
       "      <td>7.8</td>\n",
       "      <td></td>\n",
       "      <td>0</td>\n",
       "      <td>0</td>\n",
       "      <td>0</td>\n",
       "      <td>1</td>\n",
       "      <td>3</td>\n",
       "      <td>11</td>\n",
       "      <td>3</td>\n",
       "      <td>1</td>\n",
       "      <td>0</td>\n",
       "      <td>0</td>\n",
       "      <td>0</td>\n",
       "      <td>0</td>\n",
       "      <td>0</td>\n",
       "      <td>3.86</td>\n",
       "    </tr>\n",
       "    <tr>\n",
       "      <th>4</th>\n",
       "      <td>박준영</td>\n",
       "      <td>8.2</td>\n",
       "      <td></td>\n",
       "      <td>0</td>\n",
       "      <td>0</td>\n",
       "      <td>0</td>\n",
       "      <td>1</td>\n",
       "      <td>3</td>\n",
       "      <td>11</td>\n",
       "      <td>3</td>\n",
       "      <td>1</td>\n",
       "      <td>0</td>\n",
       "      <td>0</td>\n",
       "      <td>0</td>\n",
       "      <td>0</td>\n",
       "      <td>0</td>\n",
       "      <td>1.69</td>\n",
       "    </tr>\n",
       "    <tr>\n",
       "      <th>5</th>\n",
       "      <td>박민석</td>\n",
       "      <td>9.5</td>\n",
       "      <td></td>\n",
       "      <td>1</td>\n",
       "      <td>0</td>\n",
       "      <td>1</td>\n",
       "      <td>1</td>\n",
       "      <td>3</td>\n",
       "      <td>6</td>\n",
       "      <td>3</td>\n",
       "      <td>0</td>\n",
       "      <td>0</td>\n",
       "      <td>0</td>\n",
       "      <td>0</td>\n",
       "      <td>0</td>\n",
       "      <td>0</td>\n",
       "      <td>0.00</td>\n",
       "    </tr>\n",
       "  </tbody>\n",
       "</table>\n",
       "</div>"
      ],
      "text/plain": [
       "   선수명   등판 결과  승  패  세 이닝  타자 투구수  타수 피안타 홈런 4사구 삼진 실점 자책 평균자책점\n",
       "0  이재학   선발  승  2  2  0  4  18  63  16   5  1   2  6  3  3  4.58\n",
       "1  구창모  5.1     0  0  0  1   4  18   3   0  0   1  0  0  0  4.91\n",
       "2  김선규  6.5     0  0  0  1   3  10   3   1  0   0  1  0  0  6.75\n",
       "3  강장산  7.8     0  0  0  1   3  11   3   1  0   0  0  0  0  3.86\n",
       "4  박준영  8.2     0  0  0  1   3  11   3   1  0   0  0  0  0  1.69\n",
       "5  박민석  9.5     1  0  1  1   3   6   3   0  0   0  0  0  0  0.00"
      ]
     },
     "execution_count": 6,
     "metadata": {},
     "output_type": "execute_result"
    }
   ],
   "source": [
    "a_pitRecord"
   ]
  },
  {
   "cell_type": "code",
   "execution_count": 8,
   "metadata": {
    "collapsed": false
   },
   "outputs": [
    {
     "data": {
      "text/html": [
       "<div>\n",
       "<table border=\"1\" class=\"dataframe\">\n",
       "  <thead>\n",
       "    <tr style=\"text-align: right;\">\n",
       "      <th></th>\n",
       "      <th>선수명</th>\n",
       "      <th>등판</th>\n",
       "      <th>결과</th>\n",
       "      <th>승</th>\n",
       "      <th>패</th>\n",
       "      <th>세</th>\n",
       "      <th>이닝</th>\n",
       "      <th>타자</th>\n",
       "      <th>투구수</th>\n",
       "      <th>타수</th>\n",
       "      <th>피안타</th>\n",
       "      <th>홈런</th>\n",
       "      <th>4사구</th>\n",
       "      <th>삼진</th>\n",
       "      <th>실점</th>\n",
       "      <th>자책</th>\n",
       "      <th>평균자책점</th>\n",
       "    </tr>\n",
       "  </thead>\n",
       "  <tbody>\n",
       "    <tr>\n",
       "      <th>0</th>\n",
       "      <td>박주현</td>\n",
       "      <td>선발</td>\n",
       "      <td>패</td>\n",
       "      <td>0</td>\n",
       "      <td>1</td>\n",
       "      <td>0</td>\n",
       "      <td>2 2/3</td>\n",
       "      <td>18</td>\n",
       "      <td>63</td>\n",
       "      <td>18</td>\n",
       "      <td>11</td>\n",
       "      <td>1</td>\n",
       "      <td>0</td>\n",
       "      <td>3</td>\n",
       "      <td>7</td>\n",
       "      <td>7</td>\n",
       "      <td>7.27</td>\n",
       "    </tr>\n",
       "    <tr>\n",
       "      <th>1</th>\n",
       "      <td>김상수</td>\n",
       "      <td>3.1</td>\n",
       "      <td></td>\n",
       "      <td>1</td>\n",
       "      <td>1</td>\n",
       "      <td>0</td>\n",
       "      <td>3 1/3</td>\n",
       "      <td>13</td>\n",
       "      <td>57</td>\n",
       "      <td>12</td>\n",
       "      <td>3</td>\n",
       "      <td>0</td>\n",
       "      <td>1</td>\n",
       "      <td>3</td>\n",
       "      <td>0</td>\n",
       "      <td>0</td>\n",
       "      <td>1.38</td>\n",
       "    </tr>\n",
       "    <tr>\n",
       "      <th>2</th>\n",
       "      <td>마정길</td>\n",
       "      <td>7.5</td>\n",
       "      <td></td>\n",
       "      <td>0</td>\n",
       "      <td>0</td>\n",
       "      <td>0</td>\n",
       "      <td>1</td>\n",
       "      <td>4</td>\n",
       "      <td>9</td>\n",
       "      <td>4</td>\n",
       "      <td>1</td>\n",
       "      <td>1</td>\n",
       "      <td>0</td>\n",
       "      <td>0</td>\n",
       "      <td>1</td>\n",
       "      <td>1</td>\n",
       "      <td>2.57</td>\n",
       "    </tr>\n",
       "    <tr>\n",
       "      <th>3</th>\n",
       "      <td>김택형</td>\n",
       "      <td>8.9</td>\n",
       "      <td></td>\n",
       "      <td>0</td>\n",
       "      <td>0</td>\n",
       "      <td>0</td>\n",
       "      <td>1</td>\n",
       "      <td>3</td>\n",
       "      <td>14</td>\n",
       "      <td>3</td>\n",
       "      <td>0</td>\n",
       "      <td>0</td>\n",
       "      <td>0</td>\n",
       "      <td>0</td>\n",
       "      <td>0</td>\n",
       "      <td>0</td>\n",
       "      <td>0.00</td>\n",
       "    </tr>\n",
       "    <tr>\n",
       "      <th>4</th>\n",
       "      <td>이보근</td>\n",
       "      <td>9.3</td>\n",
       "      <td></td>\n",
       "      <td>0</td>\n",
       "      <td>0</td>\n",
       "      <td>0</td>\n",
       "      <td>1</td>\n",
       "      <td>5</td>\n",
       "      <td>19</td>\n",
       "      <td>5</td>\n",
       "      <td>2</td>\n",
       "      <td>0</td>\n",
       "      <td>0</td>\n",
       "      <td>1</td>\n",
       "      <td>0</td>\n",
       "      <td>0</td>\n",
       "      <td>1.80</td>\n",
       "    </tr>\n",
       "  </tbody>\n",
       "</table>\n",
       "</div>"
      ],
      "text/plain": [
       "   선수명   등판 결과  승  패  세     이닝  타자 투구수  타수 피안타 홈런 4사구 삼진 실점 자책 평균자책점\n",
       "0  박주현   선발  패  0  1  0  2 2/3  18  63  18  11  1   0  3  7  7  7.27\n",
       "1  김상수  3.1     1  1  0  3 1/3  13  57  12   3  0   1  3  0  0  1.38\n",
       "2  마정길  7.5     0  0  0      1   4   9   4   1  1   0  0  1  1  2.57\n",
       "3  김택형  8.9     0  0  0      1   3  14   3   0  0   0  0  0  0  0.00\n",
       "4  이보근  9.3     0  0  0      1   5  19   5   2  0   0  1  0  0  1.80"
      ]
     },
     "execution_count": 8,
     "metadata": {},
     "output_type": "execute_result"
    }
   ],
   "source": [
    "h_pitRecord"
   ]
  },
  {
   "cell_type": "code",
   "execution_count": 77,
   "metadata": {
    "collapsed": false
   },
   "outputs": [
    {
     "ename": "KeyError",
     "evalue": "u'\\ub4f1\\ud310'",
     "output_type": "error",
     "traceback": [
      "\u001b[1;31m---------------------------------------------------------------------------\u001b[0m",
      "\u001b[1;31mKeyError\u001b[0m                                  Traceback (most recent call last)",
      "\u001b[1;32m<ipython-input-77-df024513dbe0>\u001b[0m in \u001b[0;36m<module>\u001b[1;34m()\u001b[0m\n\u001b[0;32m      1\u001b[0m \u001b[1;31m#등판:선발의 선수명과 이닝,타자를 get\u001b[0m\u001b[1;33m\u001b[0m\u001b[1;33m\u001b[0m\u001b[0m\n\u001b[1;32m----> 2\u001b[1;33m \u001b[1;32mprint\u001b[0m \u001b[0mh_pitRecord\u001b[0m\u001b[1;33m.\u001b[0m\u001b[0mix\u001b[0m\u001b[1;33m[\u001b[0m\u001b[0mh_pitRecord\u001b[0m\u001b[1;33m.\u001b[0m\u001b[0mix\u001b[0m\u001b[1;33m[\u001b[0m\u001b[1;34mu'등판'\u001b[0m\u001b[1;33m]\u001b[0m\u001b[1;33m]\u001b[0m\u001b[1;33m[\u001b[0m\u001b[1;34mu'선수명'\u001b[0m\u001b[1;33m:\u001b[0m\u001b[1;34mu'타자'\u001b[0m\u001b[1;33m]\u001b[0m\u001b[1;33m\u001b[0m\u001b[0m\n\u001b[0m\u001b[0;32m      3\u001b[0m \u001b[1;31m#[u'선수명',u'이닝',u'타자']\u001b[0m\u001b[1;33m\u001b[0m\u001b[1;33m\u001b[0m\u001b[0m\n",
      "\u001b[1;32mC:\\Users\\GoHyunyoung98\\AppData\\Local\\Enthought\\Canopy\\User\\lib\\site-packages\\pandas\\core\\indexing.pyc\u001b[0m in \u001b[0;36m__getitem__\u001b[1;34m(self, key)\u001b[0m\n\u001b[0;32m     76\u001b[0m             \u001b[1;32mreturn\u001b[0m \u001b[0mself\u001b[0m\u001b[1;33m.\u001b[0m\u001b[0m_getitem_tuple\u001b[0m\u001b[1;33m(\u001b[0m\u001b[0mkey\u001b[0m\u001b[1;33m)\u001b[0m\u001b[1;33m\u001b[0m\u001b[0m\n\u001b[0;32m     77\u001b[0m         \u001b[1;32melse\u001b[0m\u001b[1;33m:\u001b[0m\u001b[1;33m\u001b[0m\u001b[0m\n\u001b[1;32m---> 78\u001b[1;33m             \u001b[1;32mreturn\u001b[0m \u001b[0mself\u001b[0m\u001b[1;33m.\u001b[0m\u001b[0m_getitem_axis\u001b[0m\u001b[1;33m(\u001b[0m\u001b[0mkey\u001b[0m\u001b[1;33m,\u001b[0m \u001b[0maxis\u001b[0m\u001b[1;33m=\u001b[0m\u001b[1;36m0\u001b[0m\u001b[1;33m)\u001b[0m\u001b[1;33m\u001b[0m\u001b[0m\n\u001b[0m\u001b[0;32m     79\u001b[0m \u001b[1;33m\u001b[0m\u001b[0m\n\u001b[0;32m     80\u001b[0m     \u001b[1;32mdef\u001b[0m \u001b[0m_get_label\u001b[0m\u001b[1;33m(\u001b[0m\u001b[0mself\u001b[0m\u001b[1;33m,\u001b[0m \u001b[0mlabel\u001b[0m\u001b[1;33m,\u001b[0m \u001b[0maxis\u001b[0m\u001b[1;33m=\u001b[0m\u001b[1;36m0\u001b[0m\u001b[1;33m)\u001b[0m\u001b[1;33m:\u001b[0m\u001b[1;33m\u001b[0m\u001b[0m\n",
      "\u001b[1;32mC:\\Users\\GoHyunyoung98\\AppData\\Local\\Enthought\\Canopy\\User\\lib\\site-packages\\pandas\\core\\indexing.pyc\u001b[0m in \u001b[0;36m_getitem_axis\u001b[1;34m(self, key, axis)\u001b[0m\n\u001b[0;32m   1012\u001b[0m                     \u001b[1;32mreturn\u001b[0m \u001b[0mself\u001b[0m\u001b[1;33m.\u001b[0m\u001b[0m_get_loc\u001b[0m\u001b[1;33m(\u001b[0m\u001b[0mkey\u001b[0m\u001b[1;33m,\u001b[0m \u001b[0maxis\u001b[0m\u001b[1;33m=\u001b[0m\u001b[0maxis\u001b[0m\u001b[1;33m)\u001b[0m\u001b[1;33m\u001b[0m\u001b[0m\n\u001b[0;32m   1013\u001b[0m \u001b[1;33m\u001b[0m\u001b[0m\n\u001b[1;32m-> 1014\u001b[1;33m             \u001b[1;32mreturn\u001b[0m \u001b[0mself\u001b[0m\u001b[1;33m.\u001b[0m\u001b[0m_get_label\u001b[0m\u001b[1;33m(\u001b[0m\u001b[0mkey\u001b[0m\u001b[1;33m,\u001b[0m \u001b[0maxis\u001b[0m\u001b[1;33m=\u001b[0m\u001b[0maxis\u001b[0m\u001b[1;33m)\u001b[0m\u001b[1;33m\u001b[0m\u001b[0m\n\u001b[0m\u001b[0;32m   1015\u001b[0m \u001b[1;33m\u001b[0m\u001b[0m\n\u001b[0;32m   1016\u001b[0m     \u001b[1;32mdef\u001b[0m \u001b[0m_getitem_iterable\u001b[0m\u001b[1;33m(\u001b[0m\u001b[0mself\u001b[0m\u001b[1;33m,\u001b[0m \u001b[0mkey\u001b[0m\u001b[1;33m,\u001b[0m \u001b[0maxis\u001b[0m\u001b[1;33m=\u001b[0m\u001b[1;36m0\u001b[0m\u001b[1;33m)\u001b[0m\u001b[1;33m:\u001b[0m\u001b[1;33m\u001b[0m\u001b[0m\n",
      "\u001b[1;32mC:\\Users\\GoHyunyoung98\\AppData\\Local\\Enthought\\Canopy\\User\\lib\\site-packages\\pandas\\core\\indexing.pyc\u001b[0m in \u001b[0;36m_get_label\u001b[1;34m(self, label, axis)\u001b[0m\n\u001b[0;32m     91\u001b[0m             \u001b[1;32mraise\u001b[0m \u001b[0mIndexingError\u001b[0m\u001b[1;33m(\u001b[0m\u001b[1;34m'no slices here, handle elsewhere'\u001b[0m\u001b[1;33m)\u001b[0m\u001b[1;33m\u001b[0m\u001b[0m\n\u001b[0;32m     92\u001b[0m \u001b[1;33m\u001b[0m\u001b[0m\n\u001b[1;32m---> 93\u001b[1;33m         \u001b[1;32mreturn\u001b[0m \u001b[0mself\u001b[0m\u001b[1;33m.\u001b[0m\u001b[0mobj\u001b[0m\u001b[1;33m.\u001b[0m\u001b[0m_xs\u001b[0m\u001b[1;33m(\u001b[0m\u001b[0mlabel\u001b[0m\u001b[1;33m,\u001b[0m \u001b[0maxis\u001b[0m\u001b[1;33m=\u001b[0m\u001b[0maxis\u001b[0m\u001b[1;33m)\u001b[0m\u001b[1;33m\u001b[0m\u001b[0m\n\u001b[0m\u001b[0;32m     94\u001b[0m \u001b[1;33m\u001b[0m\u001b[0m\n\u001b[0;32m     95\u001b[0m     \u001b[1;32mdef\u001b[0m \u001b[0m_get_loc\u001b[0m\u001b[1;33m(\u001b[0m\u001b[0mself\u001b[0m\u001b[1;33m,\u001b[0m \u001b[0mkey\u001b[0m\u001b[1;33m,\u001b[0m \u001b[0maxis\u001b[0m\u001b[1;33m=\u001b[0m\u001b[1;36m0\u001b[0m\u001b[1;33m)\u001b[0m\u001b[1;33m:\u001b[0m\u001b[1;33m\u001b[0m\u001b[0m\n",
      "\u001b[1;32mC:\\Users\\GoHyunyoung98\\AppData\\Local\\Enthought\\Canopy\\User\\lib\\site-packages\\pandas\\core\\generic.pyc\u001b[0m in \u001b[0;36mxs\u001b[1;34m(self, key, axis, level, copy, drop_level)\u001b[0m\n\u001b[0;32m   1742\u001b[0m                                                       drop_level=drop_level)\n\u001b[0;32m   1743\u001b[0m         \u001b[1;32melse\u001b[0m\u001b[1;33m:\u001b[0m\u001b[1;33m\u001b[0m\u001b[0m\n\u001b[1;32m-> 1744\u001b[1;33m             \u001b[0mloc\u001b[0m \u001b[1;33m=\u001b[0m \u001b[0mself\u001b[0m\u001b[1;33m.\u001b[0m\u001b[0mindex\u001b[0m\u001b[1;33m.\u001b[0m\u001b[0mget_loc\u001b[0m\u001b[1;33m(\u001b[0m\u001b[0mkey\u001b[0m\u001b[1;33m)\u001b[0m\u001b[1;33m\u001b[0m\u001b[0m\n\u001b[0m\u001b[0;32m   1745\u001b[0m \u001b[1;33m\u001b[0m\u001b[0m\n\u001b[0;32m   1746\u001b[0m             \u001b[1;32mif\u001b[0m \u001b[0misinstance\u001b[0m\u001b[1;33m(\u001b[0m\u001b[0mloc\u001b[0m\u001b[1;33m,\u001b[0m \u001b[0mnp\u001b[0m\u001b[1;33m.\u001b[0m\u001b[0mndarray\u001b[0m\u001b[1;33m)\u001b[0m\u001b[1;33m:\u001b[0m\u001b[1;33m\u001b[0m\u001b[0m\n",
      "\u001b[1;32mC:\\Users\\GoHyunyoung98\\AppData\\Local\\Enthought\\Canopy\\User\\lib\\site-packages\\pandas\\indexes\\base.pyc\u001b[0m in \u001b[0;36mget_loc\u001b[1;34m(self, key, method, tolerance)\u001b[0m\n\u001b[0;32m   1876\u001b[0m                 \u001b[1;32mreturn\u001b[0m \u001b[0mself\u001b[0m\u001b[1;33m.\u001b[0m\u001b[0m_engine\u001b[0m\u001b[1;33m.\u001b[0m\u001b[0mget_loc\u001b[0m\u001b[1;33m(\u001b[0m\u001b[0mkey\u001b[0m\u001b[1;33m)\u001b[0m\u001b[1;33m\u001b[0m\u001b[0m\n\u001b[0;32m   1877\u001b[0m             \u001b[1;32mexcept\u001b[0m \u001b[0mKeyError\u001b[0m\u001b[1;33m:\u001b[0m\u001b[1;33m\u001b[0m\u001b[0m\n\u001b[1;32m-> 1878\u001b[1;33m                 \u001b[1;32mreturn\u001b[0m \u001b[0mself\u001b[0m\u001b[1;33m.\u001b[0m\u001b[0m_engine\u001b[0m\u001b[1;33m.\u001b[0m\u001b[0mget_loc\u001b[0m\u001b[1;33m(\u001b[0m\u001b[0mself\u001b[0m\u001b[1;33m.\u001b[0m\u001b[0m_maybe_cast_indexer\u001b[0m\u001b[1;33m(\u001b[0m\u001b[0mkey\u001b[0m\u001b[1;33m)\u001b[0m\u001b[1;33m)\u001b[0m\u001b[1;33m\u001b[0m\u001b[0m\n\u001b[0m\u001b[0;32m   1879\u001b[0m \u001b[1;33m\u001b[0m\u001b[0m\n\u001b[0;32m   1880\u001b[0m         \u001b[0mindexer\u001b[0m \u001b[1;33m=\u001b[0m \u001b[0mself\u001b[0m\u001b[1;33m.\u001b[0m\u001b[0mget_indexer\u001b[0m\u001b[1;33m(\u001b[0m\u001b[1;33m[\u001b[0m\u001b[0mkey\u001b[0m\u001b[1;33m]\u001b[0m\u001b[1;33m,\u001b[0m \u001b[0mmethod\u001b[0m\u001b[1;33m=\u001b[0m\u001b[0mmethod\u001b[0m\u001b[1;33m,\u001b[0m \u001b[0mtolerance\u001b[0m\u001b[1;33m=\u001b[0m\u001b[0mtolerance\u001b[0m\u001b[1;33m)\u001b[0m\u001b[1;33m\u001b[0m\u001b[0m\n",
      "\u001b[1;32mpandas/index.pyx\u001b[0m in \u001b[0;36mpandas.index.IndexEngine.get_loc (pandas\\index.c:4027)\u001b[1;34m()\u001b[0m\n",
      "\u001b[1;32mpandas/index.pyx\u001b[0m in \u001b[0;36mpandas.index.IndexEngine.get_loc (pandas\\index.c:3956)\u001b[1;34m()\u001b[0m\n",
      "\u001b[1;31mKeyError\u001b[0m: u'\\ub4f1\\ud310'"
     ]
    }
   ],
   "source": [
    "#등판:선발의 선수명과 이닝,타자를 get\n",
    "print h_pitRecord.ix[h_pitRecord.ix[u'등판']][u'선수명':u'타자']\n",
    "#[u'선수명',u'이닝',u'타자']"
   ]
  },
  {
   "cell_type": "code",
   "execution_count": 101,
   "metadata": {
    "collapsed": false
   },
   "outputs": [],
   "source": [
    "a=h_pitRecord.select(lambda x: x==u'등판',axis=1)"
   ]
  },
  {
   "cell_type": "code",
   "execution_count": 102,
   "metadata": {
    "collapsed": false
   },
   "outputs": [
    {
     "data": {
      "text/html": [
       "<div>\n",
       "<table border=\"1\" class=\"dataframe\">\n",
       "  <thead>\n",
       "    <tr style=\"text-align: right;\">\n",
       "      <th></th>\n",
       "      <th>등판</th>\n",
       "    </tr>\n",
       "  </thead>\n",
       "  <tbody>\n",
       "    <tr>\n",
       "      <th>0</th>\n",
       "      <td>선발</td>\n",
       "    </tr>\n",
       "    <tr>\n",
       "      <th>1</th>\n",
       "      <td>3.1</td>\n",
       "    </tr>\n",
       "    <tr>\n",
       "      <th>2</th>\n",
       "      <td>7.5</td>\n",
       "    </tr>\n",
       "    <tr>\n",
       "      <th>3</th>\n",
       "      <td>8.9</td>\n",
       "    </tr>\n",
       "    <tr>\n",
       "      <th>4</th>\n",
       "      <td>9.3</td>\n",
       "    </tr>\n",
       "  </tbody>\n",
       "</table>\n",
       "</div>"
      ],
      "text/plain": [
       "    등판\n",
       "0   선발\n",
       "1  3.1\n",
       "2  7.5\n",
       "3  8.9\n",
       "4  9.3"
      ]
     },
     "execution_count": 102,
     "metadata": {},
     "output_type": "execute_result"
    }
   ],
   "source": [
    "a"
   ]
  },
  {
   "cell_type": "code",
   "execution_count": 125,
   "metadata": {
    "collapsed": false
   },
   "outputs": [
    {
     "data": {
      "text/plain": [
       "Int64Index([2], dtype='int64')"
      ]
     },
     "execution_count": 125,
     "metadata": {},
     "output_type": "execute_result"
    }
   ],
   "source": [
    "a[a[u'등판']=='7.5'].index"
   ]
  },
  {
   "cell_type": "code",
   "execution_count": 126,
   "metadata": {
    "collapsed": false
   },
   "outputs": [
    {
     "data": {
      "text/plain": [
       "0    False\n",
       "1    False\n",
       "2     True\n",
       "3    False\n",
       "4    False\n",
       "Name: 등판, dtype: bool"
      ]
     },
     "execution_count": 126,
     "metadata": {},
     "output_type": "execute_result"
    }
   ],
   "source": [
    "a[u'등판']=='7.5'"
   ]
  },
  {
   "cell_type": "code",
   "execution_count": 10,
   "metadata": {
    "collapsed": false,
    "scrolled": true
   },
   "outputs": [
    {
     "data": {
      "text/html": [
       "<div style=\"max-height:1000px;max-width:1500px;overflow:auto;\">\n",
       "<table border=\"1\" class=\"dataframe\">\n",
       "  <thead>\n",
       "    <tr style=\"text-align: right;\">\n",
       "      <th></th>\n",
       "      <th>선수명</th>\n",
       "      <th>등판</th>\n",
       "      <th>결과</th>\n",
       "      <th>승</th>\n",
       "      <th>패</th>\n",
       "      <th>세</th>\n",
       "      <th>이닝</th>\n",
       "      <th>타자</th>\n",
       "      <th>선수명</th>\n",
       "      <th>타수</th>\n",
       "      <th>피안타</th>\n",
       "      <th>홈런</th>\n",
       "      <th>4사구</th>\n",
       "      <th>삼진</th>\n",
       "      <th>실점</th>\n",
       "      <th>자책</th>\n",
       "      <th>평균자책점</th>\n",
       "    </tr>\n",
       "  </thead>\n",
       "  <tbody>\n",
       "  </tbody>\n",
       "</table>\n",
       "</div>"
      ],
      "text/plain": [
       "Empty DataFrame\n",
       "Columns: [선수명, 등판, 결과, 승, 패, 세, 이닝, 타자, 선수명, 타수, 피안타, 홈런, 4사구, 삼진, 실점, 자책, 평균자책점]\n",
       "Index: []"
      ]
     },
     "execution_count": 10,
     "metadata": {},
     "output_type": "execute_result"
    }
   ],
   "source": [
    "a_pitRecord"
   ]
  },
  {
   "cell_type": "code",
   "execution_count": null,
   "metadata": {
    "collapsed": true
   },
   "outputs": [],
   "source": [
    "a_pitRecord.ge"
   ]
  },
  {
   "cell_type": "code",
   "execution_count": 8,
   "metadata": {
    "collapsed": false
   },
   "outputs": [
    {
     "name": "stdout",
     "output_type": "stream",
     "text": [
      "2016.03.27(일)\n",
      "NC\n",
      "넥센\n",
      "[u'1', u'3', u'3', u'0', u'0', u'0', u'1', u'0', u'0', u'-', u'-', u'-', u'8', u'17', u'0', u'1']\n",
      "[u'0', u'2', u'1', u'0', u'0', u'0', u'0', u'0', u'0', u'-', u'-', u'-', u'3', u'8', u'1', u'3']\n",
      "고척\n",
      "2\n"
     ]
    }
   ],
   "source": [
    "print date\n",
    "print a_Team\n",
    "print h_Team\n",
    "print a_Score\n",
    "print h_Score\n",
    "print stadium\n",
    "print len(stadium)"
   ]
  },
  {
   "cell_type": "code",
   "execution_count": 140,
   "metadata": {
    "collapsed": false
   },
   "outputs": [
    {
     "name": "stdout",
     "output_type": "stream",
     "text": [
      "3\n",
      "9\n"
     ]
    }
   ],
   "source": [
    "print len(u'고현영')\n",
    "print len('고현영')"
   ]
  },
  {
   "cell_type": "code",
   "execution_count": null,
   "metadata": {
    "collapsed": true
   },
   "outputs": [],
   "source": [
    "print tmp.find(u'고척')"
   ]
  },
  {
   "cell_type": "code",
   "execution_count": 126,
   "metadata": {
    "collapsed": false,
    "scrolled": true
   },
   "outputs": [
    {
     "name": "stdout",
     "output_type": "stream",
     "text": [
      "\r\n",
      "        구장 : 고척      \r\n",
      "        관중 : 3,476      \r\n",
      "        개시 : 13:00      \r\n",
      "        종료 : 15:44      \r\n",
      "        경기시간 : 2:44\r\n",
      "    \n"
     ]
    }
   ],
   "source": [
    "print stadium"
   ]
  }
 ],
 "metadata": {
  "kernelspec": {
   "display_name": "Python 2",
   "language": "python",
   "name": "python2"
  },
  "language_info": {
   "codemirror_mode": {
    "name": "ipython",
    "version": 2
   },
   "file_extension": ".py",
   "mimetype": "text/x-python",
   "name": "python",
   "nbconvert_exporter": "python",
   "pygments_lexer": "ipython2",
   "version": "2.7.10"
  }
 },
 "nbformat": 4,
 "nbformat_minor": 0
}
