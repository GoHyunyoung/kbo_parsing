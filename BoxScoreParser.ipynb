{
 "cells": [
  {
   "cell_type": "code",
   "execution_count": 12,
   "metadata": {
    "collapsed": false
   },
   "outputs": [],
   "source": [
    "# -*- coding: utf-8 -*-\n",
    "from bs4 import BeautifulSoup\n",
    "import numpy as np\n",
    "import pandas as pd\n",
    "import urllib2\n",
    "import re"
   ]
  },
  {
   "cell_type": "code",
   "execution_count": 2,
   "metadata": {
    "collapsed": true
   },
   "outputs": [],
   "source": [
    "#URL넣어주면 해당 박스스코어 파싱\n",
    "class BoxScoreParser:\n",
    "    def __init__(self,url):\n",
    "        self.data = urllib2.urlopen(url)\n",
    "        self.html = BeautifulSoup(self.data)\n",
    "        \n",
    "        #DATE\n",
    "        self.data = self.html.select('div.yearDate span')[0].text\n",
    "        \n",
    "        #AWAY팀명\n",
    "        self.a_Team=self.html.select('table.socreBoard tr:nth-of-type(2) th')[0].text\n",
    "        \n",
    "        #HOME팀명\n",
    "        self.h_Team=self.html.select('table.socreBoard tr:nth-of-type(3) th')[0].text\n",
    "        \n",
    "        #AWAY_SCORE\n",
    "        tmp=html.select('table.socreBoard tr:nth-of-type(2) td')\n",
    "        self.a_Score=list()\n",
    "        for score in tmp:\n",
    "            self.a_Score.append(score.text)\n",
    "        \n",
    "        #HOME_SCORE\n",
    "        tmp=html.select('table.socreBoard tr:nth-of-type(3) td')\n",
    "        self.h_Score=list()\n",
    "        for score in tmp:\n",
    "            self.h_Score.append(score.text)\n",
    "        \n",
    "        #AWAY_STATUS\n",
    "        self.a_status=html.select('p.results')[0].text\n",
    "        \n",
    "        #HOME_STATUS\n",
    "        self.h_status=html.select('p.results')[1].text\n",
    "        \n",
    "        #STADIUM\n",
    "        tmp=html.select('p.ballpark')[0]\n",
    "        #.text 메서드는 unicode형태로 반환\n",
    "        tmp=tmp.text\n",
    "        self.stadium=tmp[tmp.find(u'고척'):tmp.find(u'관중')].strip()\n",
    "        \n",
    "        #HEAD\n",
    "        keys=[u'결승타',u'홈런',u'3루타',u'2루타',u'실책',u'도루자',u'주루사',u'견제사',u'병살타',u'폭투',u'심판']\n",
    "        self.head=dict()\n",
    "        for k in keys:\n",
    "            self.head[k]\n",
    "        \n",
    "        #AWAY 투수기록\n",
    "        columns=[u'선수명',u'등판',u'결과',u'승',u'패',u'세',u'이닝',u'타자',u'투구수',u'타수',u'피안타',u'홈런',u'4사구',u'삼진',u'실점',u'자책',u'평균자책점']\n",
    "        frame=html.select('table#xtable3 tbody:nth-of-type(1) tr')\n",
    "        data=list()    #frame으로부터 데이터를 담을 리스트\n",
    "        for row in frame:\n",
    "            tmp=list()\n",
    "            for dat in row.text.strip().split('\\n'):    #한 행(한 투수의 데이터)마다 split한뒤 list로 정리\n",
    "                tmp.append(dat)\n",
    "            data.append(tmp)   #정리된 list를 data에 추가\n",
    "        self.a_pitRecord = pd.DataFrame(data=data,columns=columns)\n",
    "\n",
    "        #HOME 투수기록\n",
    "        #col=[u'선수명',u'등판',u'결과',u'승',u'패',u'세',u'이닝',u'타자',u'투구수',u'타수',u'피안타',u'홈런',u'4사구',u'삼진',u'실점',u'자책',u'평균자책점']\n",
    "        frame=html.select('table#xtable3 tbody:nth-of-type(2) tr')\n",
    "        data=list()    #frame으로부터 데이터를 담을 리스트\n",
    "        for row in frame:\n",
    "            tmp=list()\n",
    "            for dat in row.text.strip().split('\\n'):    #한 행(한 투수의 데이터)마다 split한뒤 list로 정리\n",
    "                tmp.append(dat)\n",
    "            data.append(tmp)   #정리된 list를 data에 추가\n",
    "        self.h_pitRecord = pd.DataFrame(data=data,columns=columns)\n",
    "        #등판:선발의 선수명과 이닝,타자를 get\n",
    "        # -> h_pitRecord[h_pitRecord[u'등판']==u'선발'].reindex(columns=[u'선수명',u'이닝',u'타자'])\n",
    "        \n",
    "        #AWAY_타자기록\n",
    "        columns=[u'선수명',u'1',u'2',u'3',u'4',u'5',u'6',u'7',u'8',u'9',u'10',u'11',u'12',u'타수',u'안타',u'타점',u'득점',u'타율']\n",
    "        frame=html.select('table#xtable1 tbody:nth-of-type(1) tr')\n",
    "        data=list()\n",
    "        for row in frame:\n",
    "            tmp=list()\n",
    "            for dat in row.text.strip().split('\\n')[2:]:\n",
    "                tmp.append(dat)\n",
    "            data.append(tmp)\n",
    "        self.a_batRecord = pd.DataFrame(data=data,columns=columns)\n",
    "        \n",
    "        #HOME_타자기록\n",
    "        columns=[u'선수명',u'1',u'2',u'3',u'4',u'5',u'6',u'7',u'8',u'9',u'10',u'11',u'12',u'타수',u'안타',u'타점',u'득점',u'타율']\n",
    "        frame=html.select('table#xtable1 tbody:nth-of-type(2) tr')\n",
    "        data=list()\n",
    "        for row in frame:\n",
    "            tmp=list()\n",
    "            for dat in row.text.strip().split('\\n')[2:]:\n",
    "                tmp.append(dat)\n",
    "            data.append(tmp)\n",
    "        self.h_batRecord = pd.DataFrame(data=data,columns=columns)"
   ]
  },
  {
   "cell_type": "code",
   "execution_count": 3,
   "metadata": {
    "collapsed": false
   },
   "outputs": [],
   "source": [
    "html=urllib2.urlopen('http://www.koreabaseball.com/Schedule/Game/BoxScore.aspx?leagueId=1&seriesId=1&gameId=20160327NCWO0&gyear=2016')\n",
    "html=BeautifulSoup(html,'lxml')"
   ]
  },
  {
   "cell_type": "code",
   "execution_count": 4,
   "metadata": {
    "collapsed": false,
    "scrolled": true
   },
   "outputs": [],
   "source": [
    "#AWAY_타자기록\n",
    "columns=[u'선수명',u'1',u'2',u'3',u'4',u'5',u'6',u'7',u'8',u'9',u'10',u'11',u'12',u'타수',u'안타',u'타점',u'득점',u'타율']\n",
    "frame=html.select('table#xtable1 tbody:nth-of-type(1) tr')\n",
    "data=list()\n",
    "for row in frame:\n",
    "    tmp=list()\n",
    "    for dat in row.text.strip().split('\\n')[2:]:\n",
    "        tmp.append(dat)\n",
    "    data.append(tmp)\n",
    "a = pd.DataFrame(data=data,columns=columns)"
   ]
  },
  {
   "cell_type": "code",
   "execution_count": 5,
   "metadata": {
    "collapsed": false
   },
   "outputs": [
    {
     "data": {
      "text/plain": [
       "'12346'"
      ]
     },
     "execution_count": 5,
     "metadata": {},
     "output_type": "execute_result"
    }
   ],
   "source": [
    "str('1234%d'%(6))"
   ]
  },
  {
   "cell_type": "code",
   "execution_count": 6,
   "metadata": {
    "collapsed": true
   },
   "outputs": [],
   "source": [
    "b=dict()"
   ]
  },
  {
   "cell_type": "code",
   "execution_count": 7,
   "metadata": {
    "collapsed": true
   },
   "outputs": [],
   "source": [
    "b[1]=2"
   ]
  },
  {
   "cell_type": "code",
   "execution_count": 8,
   "metadata": {
    "collapsed": false
   },
   "outputs": [
    {
     "data": {
      "text/plain": [
       "{1: 2}"
      ]
     },
     "execution_count": 8,
     "metadata": {},
     "output_type": "execute_result"
    }
   ],
   "source": [
    "b"
   ]
  },
  {
   "cell_type": "code",
   "execution_count": 9,
   "metadata": {
    "collapsed": false
   },
   "outputs": [
    {
     "ename": "SyntaxError",
     "evalue": "invalid syntax (<ipython-input-9-84f0e6a34870>, line 4)",
     "output_type": "error",
     "traceback": [
      "\u001b[1;36m  File \u001b[1;32m\"<ipython-input-9-84f0e6a34870>\"\u001b[1;36m, line \u001b[1;32m4\u001b[0m\n\u001b[1;33m    frame=html.select('table.tEx tr:nth-of-type(%d) td'%(num+1))[0].text.\u001b[0m\n\u001b[1;37m                                                                         ^\u001b[0m\n\u001b[1;31mSyntaxError\u001b[0m\u001b[1;31m:\u001b[0m invalid syntax\n"
     ]
    }
   ],
   "source": [
    "keys=[u'결승타',u'홈런',u'3루타',u'2루타',u'실책',u'도루자',u'주루사',u'견제사',u'병살타',u'폭투',u'심판']\n",
    "head=dict()\n",
    "for num in range(11):\n",
    "    frame=html.select('table.tEx tr:nth-of-type(%d) td'%(num+1))[0].text\n",
    "    head[keys[num]]=frame\n",
    "    \n",
    "for k in head.keys():\n",
    "    if k == u'심판':\n",
    "        head[k]=head[k].strip().split()\n",
    "    else:\n",
    "        head[k]=head[k].strip().split(') ')    \n",
    "        str.split"
   ]
  },
  {
   "cell_type": "code",
   "execution_count": 11,
   "metadata": {
    "collapsed": false
   },
   "outputs": [
    {
     "data": {
      "text/plain": [
       "-1"
      ]
     },
     "execution_count": 11,
     "metadata": {},
     "output_type": "execute_result"
    }
   ],
   "source": [
    "a='(ab c) (d ef) (g hi)'\n",
    "re.sub"
   ]
  },
  {
   "cell_type": "code",
   "execution_count": 145,
   "metadata": {
    "collapsed": false
   },
   "outputs": [
    {
     "ename": "TypeError",
     "evalue": "expected a character buffer object",
     "output_type": "error",
     "traceback": [
      "\u001b[1;31m---------------------------------------------------------------------------\u001b[0m",
      "\u001b[1;31mTypeError\u001b[0m                                 Traceback (most recent call last)",
      "\u001b[1;32m<ipython-input-145-b10cd6614d30>\u001b[0m in \u001b[0;36m<module>\u001b[1;34m()\u001b[0m\n\u001b[1;32m----> 1\u001b[1;33m \u001b[1;34m'(ab c) (d ef) (g hi)'\u001b[0m\u001b[1;33m.\u001b[0m\u001b[0msplit\u001b[0m\u001b[1;33m(\u001b[0m\u001b[1;33m[\u001b[0m\u001b[1;36m1\u001b[0m\u001b[1;33m,\u001b[0m\u001b[1;36m2\u001b[0m\u001b[1;33m]\u001b[0m\u001b[1;33m)\u001b[0m\u001b[1;33m\u001b[0m\u001b[0m\n\u001b[0m",
      "\u001b[1;31mTypeError\u001b[0m: expected a character buffer object"
     ]
    }
   ],
   "source": [
    "'(ab c) (d ef) (g hi)'.split()"
   ]
  },
  {
   "cell_type": "code",
   "execution_count": 134,
   "metadata": {
    "collapsed": false,
    "scrolled": true
   },
   "outputs": [
    {
     "name": "stdout",
     "output_type": "stream",
     "text": [
      "심판\n",
      "1\n",
      "황인태\n",
      "1\n",
      "추평호\n",
      "1\n",
      "김준희\n",
      "1\n",
      "전일수\n",
      "\n",
      "견제사\n",
      "1\n",
      "박정음(8회)\n",
      "\n",
      "폭투\n",
      "1\n",
      "이재학(3회)\n",
      "\n",
      "홈런\n",
      "1\n",
      "나성범3호(1회1점 박주현\n",
      "1\n",
      "박동원3호(2회2점 이재학\n",
      "1\n",
      "이호준4호(7회1점 마정길)\n",
      "\n",
      "실책\n",
      "1\n",
      "이택근(3회)\n",
      "\n",
      "3루타\n",
      "1\n",
      "김성욱(2회)\n",
      "\n",
      "병살타\n",
      "1\n",
      "대니돈(5회\n",
      "1\n",
      "박동원(6회\n",
      "1\n",
      "서건창(7회)\n",
      "\n",
      "결승타\n",
      "1\n",
      "나성범(1회 2사서 우월 홈런)\n",
      "\n",
      "2루타\n",
      "1\n",
      "김태군(3회\n",
      "1\n",
      "강민국(9회)\n",
      "\n",
      "주루사\n",
      "1\n",
      "박석민(3회\n",
      "1\n",
      "이재율(5회)\n",
      "\n",
      "도루자\n",
      "1\n",
      "이택근(1회)\n",
      "\n"
     ]
    }
   ],
   "source": [
    "for k in head:\n",
    "    print k\n",
    "    for x in head[k]:\n",
    "        print 1\n",
    "        print x    \n",
    "    print"
   ]
  },
  {
   "cell_type": "code",
   "execution_count": 83,
   "metadata": {
    "collapsed": false
   },
   "outputs": [
    {
     "name": "stdout",
     "output_type": "stream",
     "text": [
      "[<tr>\\n<th scope=\"row\">\\uacb0\\uc2b9\\ud0c0</th>\\n<td>\\ub098\\uc131\\ubc94(1\\ud68c 2\\uc0ac\\uc11c \\uc6b0\\uc6d4 \\ud648\\ub7f0)</td>\\n</tr>]\n"
     ]
    }
   ],
   "source": [
    "print html.select('table.tEx tr:nth-of-type(%d)'%(0+1))"
   ]
  },
  {
   "cell_type": "code",
   "execution_count": 5,
   "metadata": {
    "collapsed": false,
    "scrolled": true
   },
   "outputs": [
    {
     "data": {
      "text/html": [
       "<div>\n",
       "<table border=\"1\" class=\"dataframe\">\n",
       "  <thead>\n",
       "    <tr style=\"text-align: right;\">\n",
       "      <th></th>\n",
       "      <th>선수명</th>\n",
       "      <th>등판</th>\n",
       "      <th>결과</th>\n",
       "      <th>승</th>\n",
       "      <th>패</th>\n",
       "      <th>세</th>\n",
       "      <th>이닝</th>\n",
       "      <th>타자</th>\n",
       "      <th>투구수</th>\n",
       "      <th>타수</th>\n",
       "      <th>피안타</th>\n",
       "      <th>홈런</th>\n",
       "      <th>4사구</th>\n",
       "      <th>삼진</th>\n",
       "      <th>실점</th>\n",
       "      <th>자책</th>\n",
       "      <th>평균자책점</th>\n",
       "    </tr>\n",
       "  </thead>\n",
       "  <tbody>\n",
       "    <tr>\n",
       "      <th>0</th>\n",
       "      <td>박주현</td>\n",
       "      <td>선발</td>\n",
       "      <td>패</td>\n",
       "      <td>0</td>\n",
       "      <td>1</td>\n",
       "      <td>0</td>\n",
       "      <td>2 2/3</td>\n",
       "      <td>18</td>\n",
       "      <td>63</td>\n",
       "      <td>18</td>\n",
       "      <td>11</td>\n",
       "      <td>1</td>\n",
       "      <td>0</td>\n",
       "      <td>3</td>\n",
       "      <td>7</td>\n",
       "      <td>7</td>\n",
       "      <td>7.27</td>\n",
       "    </tr>\n",
       "    <tr>\n",
       "      <th>1</th>\n",
       "      <td>김상수</td>\n",
       "      <td>3.1</td>\n",
       "      <td></td>\n",
       "      <td>1</td>\n",
       "      <td>1</td>\n",
       "      <td>0</td>\n",
       "      <td>3 1/3</td>\n",
       "      <td>13</td>\n",
       "      <td>57</td>\n",
       "      <td>12</td>\n",
       "      <td>3</td>\n",
       "      <td>0</td>\n",
       "      <td>1</td>\n",
       "      <td>3</td>\n",
       "      <td>0</td>\n",
       "      <td>0</td>\n",
       "      <td>1.38</td>\n",
       "    </tr>\n",
       "    <tr>\n",
       "      <th>2</th>\n",
       "      <td>마정길</td>\n",
       "      <td>7.5</td>\n",
       "      <td></td>\n",
       "      <td>0</td>\n",
       "      <td>0</td>\n",
       "      <td>0</td>\n",
       "      <td>1</td>\n",
       "      <td>4</td>\n",
       "      <td>9</td>\n",
       "      <td>4</td>\n",
       "      <td>1</td>\n",
       "      <td>1</td>\n",
       "      <td>0</td>\n",
       "      <td>0</td>\n",
       "      <td>1</td>\n",
       "      <td>1</td>\n",
       "      <td>2.57</td>\n",
       "    </tr>\n",
       "    <tr>\n",
       "      <th>3</th>\n",
       "      <td>김택형</td>\n",
       "      <td>8.9</td>\n",
       "      <td></td>\n",
       "      <td>0</td>\n",
       "      <td>0</td>\n",
       "      <td>0</td>\n",
       "      <td>1</td>\n",
       "      <td>3</td>\n",
       "      <td>14</td>\n",
       "      <td>3</td>\n",
       "      <td>0</td>\n",
       "      <td>0</td>\n",
       "      <td>0</td>\n",
       "      <td>0</td>\n",
       "      <td>0</td>\n",
       "      <td>0</td>\n",
       "      <td>0.00</td>\n",
       "    </tr>\n",
       "    <tr>\n",
       "      <th>4</th>\n",
       "      <td>이보근</td>\n",
       "      <td>9.3</td>\n",
       "      <td></td>\n",
       "      <td>0</td>\n",
       "      <td>0</td>\n",
       "      <td>0</td>\n",
       "      <td>1</td>\n",
       "      <td>5</td>\n",
       "      <td>19</td>\n",
       "      <td>5</td>\n",
       "      <td>2</td>\n",
       "      <td>0</td>\n",
       "      <td>0</td>\n",
       "      <td>1</td>\n",
       "      <td>0</td>\n",
       "      <td>0</td>\n",
       "      <td>1.80</td>\n",
       "    </tr>\n",
       "  </tbody>\n",
       "</table>\n",
       "</div>"
      ],
      "text/plain": [
       "   선수명   등판 결과  승  패  세     이닝  타자 투구수  타수 피안타 홈런 4사구 삼진 실점 자책 평균자책점\n",
       "0  박주현   선발  패  0  1  0  2 2/3  18  63  18  11  1   0  3  7  7  7.27\n",
       "1  김상수  3.1     1  1  0  3 1/3  13  57  12   3  0   1  3  0  0  1.38\n",
       "2  마정길  7.5     0  0  0      1   4   9   4   1  1   0  0  1  1  2.57\n",
       "3  김택형  8.9     0  0  0      1   3  14   3   0  0   0  0  0  0  0.00\n",
       "4  이보근  9.3     0  0  0      1   5  19   5   2  0   0  1  0  0  1.80"
      ]
     },
     "execution_count": 5,
     "metadata": {},
     "output_type": "execute_result"
    }
   ],
   "source": [
    "h_pitRecord"
   ]
  },
  {
   "cell_type": "code",
   "execution_count": 43,
   "metadata": {
    "collapsed": false,
    "scrolled": false
   },
   "outputs": [
    {
     "data": {
      "text/html": [
       "<div>\n",
       "<table border=\"1\" class=\"dataframe\">\n",
       "  <thead>\n",
       "    <tr style=\"text-align: right;\">\n",
       "      <th></th>\n",
       "      <th>선수명</th>\n",
       "      <th>이닝</th>\n",
       "      <th>타자</th>\n",
       "    </tr>\n",
       "  </thead>\n",
       "  <tbody>\n",
       "    <tr>\n",
       "      <th>0</th>\n",
       "      <td>박주현</td>\n",
       "      <td>2 2/3</td>\n",
       "      <td>18</td>\n",
       "    </tr>\n",
       "  </tbody>\n",
       "</table>\n",
       "</div>"
      ],
      "text/plain": [
       "   선수명     이닝  타자\n",
       "0  박주현  2 2/3  18"
      ]
     },
     "execution_count": 43,
     "metadata": {},
     "output_type": "execute_result"
    }
   ],
   "source": [
    "#등판:선발의 선수명과 이닝,타자를 get\n",
    "h_pitRecord[h_pitRecord[u'등판']==u'선발'].reindex(columns=[u'선수명',u'이닝',u'타자'])"
   ]
  },
  {
   "cell_type": "code",
   "execution_count": 42,
   "metadata": {
    "collapsed": false
   },
   "outputs": [
    {
     "data": {
      "text/plain": [
       "u'18'"
      ]
     },
     "execution_count": 42,
     "metadata": {},
     "output_type": "execute_result"
    }
   ],
   "source": [
    "h_pitRecord[h_pitRecord[u'등판']==u'선발'].reindex(columns=[u'선수명',u'이닝',u'타자'])[u'타자'][0]"
   ]
  },
  {
   "cell_type": "code",
   "execution_count": 82,
   "metadata": {
    "collapsed": false
   },
   "outputs": [
    {
     "name": "stdout",
     "output_type": "stream",
     "text": [
      "[0, 1, 2, 3, 4]\n",
      "True\n"
     ]
    }
   ],
   "source": [
    "print a.index.tolist()\n",
    "print a[0]"
   ]
  },
  {
   "cell_type": "code",
   "execution_count": 56,
   "metadata": {
    "collapsed": false
   },
   "outputs": [
    {
     "data": {
      "text/plain": [
       "pandas.core.series.Series"
      ]
     },
     "execution_count": 56,
     "metadata": {},
     "output_type": "execute_result"
    }
   ],
   "source": [
    "type(h_pitRecord[u'등판']==u'선발')"
   ]
  },
  {
   "cell_type": "code",
   "execution_count": 101,
   "metadata": {
    "collapsed": false
   },
   "outputs": [],
   "source": [
    "a=h_pitRecord.select(lambda x: x==u'등판',axis=1)"
   ]
  },
  {
   "cell_type": "code",
   "execution_count": null,
   "metadata": {
    "collapsed": true
   },
   "outputs": [],
   "source": [
    "a_pitRecord.ge"
   ]
  },
  {
   "cell_type": "code",
   "execution_count": 8,
   "metadata": {
    "collapsed": false
   },
   "outputs": [
    {
     "name": "stdout",
     "output_type": "stream",
     "text": [
      "2016.03.27(일)\n",
      "NC\n",
      "넥센\n",
      "[u'1', u'3', u'3', u'0', u'0', u'0', u'1', u'0', u'0', u'-', u'-', u'-', u'8', u'17', u'0', u'1']\n",
      "[u'0', u'2', u'1', u'0', u'0', u'0', u'0', u'0', u'0', u'-', u'-', u'-', u'3', u'8', u'1', u'3']\n",
      "고척\n",
      "2\n"
     ]
    }
   ],
   "source": [
    "print date\n",
    "print a_Team\n",
    "print h_Team\n",
    "print a_Score\n",
    "print h_Score\n",
    "print stadium\n",
    "print len(stadium)"
   ]
  },
  {
   "cell_type": "code",
   "execution_count": 140,
   "metadata": {
    "collapsed": false
   },
   "outputs": [
    {
     "name": "stdout",
     "output_type": "stream",
     "text": [
      "3\n",
      "9\n"
     ]
    }
   ],
   "source": [
    "print len(u'고현영')\n",
    "print len('고현영')"
   ]
  },
  {
   "cell_type": "code",
   "execution_count": null,
   "metadata": {
    "collapsed": true
   },
   "outputs": [],
   "source": [
    "print tmp.find(u'고척')"
   ]
  },
  {
   "cell_type": "code",
   "execution_count": 126,
   "metadata": {
    "collapsed": false,
    "scrolled": true
   },
   "outputs": [
    {
     "name": "stdout",
     "output_type": "stream",
     "text": [
      "\r\n",
      "        구장 : 고척      \r\n",
      "        관중 : 3,476      \r\n",
      "        개시 : 13:00      \r\n",
      "        종료 : 15:44      \r\n",
      "        경기시간 : 2:44\r\n",
      "    \n"
     ]
    }
   ],
   "source": [
    "print stadium"
   ]
  }
 ],
 "metadata": {
  "kernelspec": {
   "display_name": "Python 2",
   "language": "python",
   "name": "python2"
  },
  "language_info": {
   "codemirror_mode": {
    "name": "ipython",
    "version": 2
   },
   "file_extension": ".py",
   "mimetype": "text/x-python",
   "name": "python",
   "nbconvert_exporter": "python",
   "pygments_lexer": "ipython2",
   "version": "2.7.10"
  }
 },
 "nbformat": 4,
 "nbformat_minor": 0
}
