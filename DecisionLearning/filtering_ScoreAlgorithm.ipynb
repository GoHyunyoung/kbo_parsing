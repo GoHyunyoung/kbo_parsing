{
 "cells": [
  {
   "cell_type": "code",
   "execution_count": 19,
   "metadata": {
    "collapsed": false
   },
   "outputs": [
    {
     "name": "stdout",
     "output_type": "stream",
     "text": [
      "승리(1)\n",
      "\n",
      "0\n"
     ]
    }
   ],
   "source": [
    "#sc = 스코어데이터\n",
    "sc=[0]*25\n",
    "class Sentence(dict):\n",
    "    def __getattr__(self, name):\n",
    "        if name.startswith('_'):\n",
    "            return dict.__getattr__(self, name)\n",
    "        else:\n",
    "            return self[name]\n",
    "        \n",
    "s = Sentence()\n",
    "s['score'] = sc\n",
    "s.score=[0,0,0,0,0,0,0,0,0,0,0,0,\n",
    "                                         0,0,0,0,0,0,0,0,0,0,3,0]\n",
    "s.score.append(0)\n",
    "#s.score = \n",
    "#s.score[0] = 2\n",
    "#s.score[12] = 2\n",
    "#s.score[1] = 1\n",
    "#s.score[13] = 0\n",
    "#s.score[2] = 1\n",
    "#s.score[14] = 4\n",
    "#s.score[3] = 5\n",
    "#s.score[14] = 0\n",
    "#s.score[4] = 2\n",
    "#s.score[14] = 8\n",
    "\n",
    "def contextCheck(sc)\n",
    "#sumH = 홈팀점수합, sumA = 어웨이팀점수합\n",
    "sumH = 0\n",
    "sumA = 0\n",
    "for i in range(len(s.score)):\n",
    "    if(i<12):\n",
    "        sumH += s.score[i]\n",
    "    else:\n",
    "        sumA += s.score[i]\n",
    "\n",
    "#dist = 판별변수(점수가 차이나는 횟수), sH = 현재홈팀점수, sA = 현재어웨이팀점수, winner = 현재 리드중인 팀\n",
    "dist = 0\n",
    "sH = 0\n",
    "sA = 0\n",
    "winner = \"?\"\n",
    "if(sumH == sumA):\n",
    "    print \"무승부(5)\\n\"\n",
    "    s.score[24] = 5\n",
    "elif(( sumH == 0 or sumA == 0 )and ( sumH >= sumA + 6 or sumH + 6 <= sumA )):\n",
    "    print \"영봉승(6)\\n\"\n",
    "    s.score[24] = 6\n",
    "elif((sumH <= 3 and sumA >=9) or (sumH >= 9 and sumA <=3) or (sumH >= 7 and sumA >= sumH*2) or (sumH >= sumA*2 and sumA >= 7)):\n",
    "    print \"완승(4)\\n\"\n",
    "    s.score[24] = 4\n",
    "else:\n",
    "    for j in range(len(s.score)/2):\n",
    "        sH += s.score[j]\n",
    "        sA += s.score[(j+12)]\n",
    "        if(j<9 and (not(sH == 0 and sA ==0)) and (sH != sA)):\n",
    "            if(sH > sA):\n",
    "                if(winner != \"sH\"):\n",
    "                    dist += 1\n",
    "                winner = \"sH\"\n",
    "            else:\n",
    "                if(winner != \"sA\"):\n",
    "                    dist += 1\n",
    "                winner = \"sA\"\n",
    "                \n",
    "        elif((j>=9) and (dist<=1)):\n",
    "            print \"승리(1)\\n\"\n",
    "            print dist\n",
    "            s.score[24] = 1\n",
    "            break\n",
    "            \n",
    "        else:\n",
    "            if(dist == 2):\n",
    "                print \"역전(3)\"\n",
    "                print dist\n",
    "                s.score[24] = 3\n",
    "                break\n",
    "            elif(j>=9 and (dist>=3)):\n",
    "                print \"접전(2)\"\n",
    "                print dist\n",
    "                s.score[24] = 2\n",
    "                break\n",
    "            #이후 데이터 생략"
   ]
  },
  {
   "cell_type": "code",
   "execution_count": 5,
   "metadata": {
    "collapsed": false
   },
   "outputs": [
    {
     "data": {
      "text/plain": [
       "[2, 1, 1, 5, 2, 0, 0, 0, 0, 0, 0, 0, 2, 0, 8, 0, 0, 0, 0, 0, 0, 0, 0, 0, 2]"
      ]
     },
     "execution_count": 5,
     "metadata": {},
     "output_type": "execute_result"
    }
   ],
   "source": [
    "s.score"
   ]
  },
  {
   "cell_type": "code",
   "execution_count": null,
   "metadata": {
    "collapsed": true
   },
   "outputs": [],
   "source": []
  }
 ],
 "metadata": {
  "kernelspec": {
   "display_name": "Python 2",
   "language": "python",
   "name": "python2"
  },
  "language_info": {
   "codemirror_mode": {
    "name": "ipython",
    "version": 2
   },
   "file_extension": ".py",
   "mimetype": "text/x-python",
   "name": "python",
   "nbconvert_exporter": "python",
   "pygments_lexer": "ipython2",
   "version": "2.7.11"
  }
 },
 "nbformat": 4,
 "nbformat_minor": 0
}
