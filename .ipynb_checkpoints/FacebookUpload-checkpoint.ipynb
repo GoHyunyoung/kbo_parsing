{
 "cells": [
  {
   "cell_type": "code",
   "execution_count": 1,
   "metadata": {
    "collapsed": false
   },
   "outputs": [],
   "source": [
    "#-*-coding: utf-8 -*-\n",
    "\n",
    "#facepy 설치되어있어야 합니다<pip install>\n",
    "from facepy import GraphAPI\n",
    "import MySQLdb\n",
    "import datetime\n",
    "import time"
   ]
  },
  {
   "cell_type": "code",
   "execution_count": 2,
   "metadata": {
    "collapsed": true
   },
   "outputs": [],
   "source": [
    "# This key is expired every 2 months.\n",
    "# Need to be Refresh the key in FaceBook Developer\n",
    "# https://developers.facebook.com/tools/explorer\n",
    "# Due Date = 2016/10/16\n",
    "facebook_key='EAABb67MbMAIBABKdPNQZBiJbtCI35JxtQH8aRFSuJEYTbojix03lYHFdgDtOGHYnfce6ALppFKmsemyKWHarpNYYCTLmT5zPKHSUHHaKCObJsMnb4X8WIey54BH6EO9XRsAPdVrUQa5aJxMBS76LmlOZBZB6UEZD'"
   ]
  },
  {
   "cell_type": "code",
   "execution_count": 3,
   "metadata": {
    "collapsed": false
   },
   "outputs": [],
   "source": [
    "graph=GraphAPI(facebook_key)"
   ]
  },
  {
   "cell_type": "code",
   "execution_count": 4,
   "metadata": {
    "collapsed": false
   },
   "outputs": [],
   "source": [
    "today=datetime.date.today()\n",
    "yesterday=today - datetime.timedelta(1)"
   ]
  },
  {
   "cell_type": "code",
   "execution_count": 5,
   "metadata": {
    "collapsed": true
   },
   "outputs": [],
   "source": [
    "# ***** DO NOT upload more than 5days article at ONCE *****"
   ]
  },
  {
   "cell_type": "code",
   "execution_count": 6,
   "metadata": {
    "collapsed": true
   },
   "outputs": [],
   "source": [
    "year = str.format('%04d'%(yesterday.year))\n",
    "month=str.format('%02d'%(yesterday.month))\n",
    "day=str.format('%02d'%(yesterday.day))"
   ]
  },
  {
   "cell_type": "code",
   "execution_count": 9,
   "metadata": {
    "collapsed": true
   },
   "outputs": [],
   "source": [
    "# year='YYYY'\n",
    "# month='MM'\n",
    "# day='DD'"
   ]
  },
  {
   "cell_type": "code",
   "execution_count": 10,
   "metadata": {
    "collapsed": false
   },
   "outputs": [
    {
     "name": "stdout",
     "output_type": "stream",
     "text": [
      ">>> MySQL(for Facebook) Connected...\n",
      ">>> select data from DB done\n",
      ">>> fetch data from DB done\n",
      ">>> MrWriter_LinkLab(BOT) posted article[1/2]\n",
      ">>> MrWriter_LinkLab(BOT) posted article[2/2]\n",
      ">>>  all transaction(for Facebook) commit  done\n",
      ">>>  cursor(for Facebook) close  done\n",
      ">>> MySQL(for Facebook) Disonnected...\n",
      "\n"
     ]
    }
   ],
   "source": [
    "con=MySQLdb.connect(host='218.150.181.131',user='root',passwd='1234',db='link10th',charset='utf8', use_unicode=True)\n",
    "print u'>>> MySQL(for Facebook) Connected...'\n",
    "cursor=con.cursor()\n",
    "sql=str.format('SELECT * FROM link10th.Article WHERE Article.date like \\'%s%s%s%%\\''%(year,month,day))\n",
    "# print sql\n",
    "cursor.execute(sql)\n",
    "print u'>>> select data from DB done'\n",
    "sqlResult=cursor.fetchall()\n",
    "print u'>>> fetch data from DB done'\n",
    "\n",
    "index=0\n",
    "for event in sqlResult:\n",
    "    index+=1\n",
    "    HEAD=event[2]\n",
    "    MAIN='\\n'.join(event[3:7])\n",
    "    \n",
    "    # POST on the MrWriter\n",
    "    graph.post(path='/feed',message=HEAD+'\\n'+MAIN,retry=10)\n",
    "    print u'>>> MrWriter_LinkLab(BOT) posted article[%d/%d]'%(index,len(sqlResult))\n",
    "\n",
    "con.commit()\n",
    "print u'>>>  all transaction(for Facebook) commit  done'\n",
    "cursor.close()\n",
    "print u'>>>  cursor(for Facebook) close  done'\n",
    "con.close()\n",
    "print u'>>> MySQL(for Facebook) Disonnected...'\n",
    "print"
   ]
  },
  {
   "cell_type": "code",
   "execution_count": null,
   "metadata": {
    "collapsed": true
   },
   "outputs": [],
   "source": []
  }
 ],
 "metadata": {
  "kernelspec": {
   "display_name": "Python [Root]",
   "language": "python",
   "name": "Python [Root]"
  },
  "language_info": {
   "codemirror_mode": {
    "name": "ipython",
    "version": 2
   },
   "file_extension": ".py",
   "mimetype": "text/x-python",
   "name": "python",
   "nbconvert_exporter": "python",
   "pygments_lexer": "ipython2",
   "version": "2.7.12"
  }
 },
 "nbformat": 4,
 "nbformat_minor": 0
}
